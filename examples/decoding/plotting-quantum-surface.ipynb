{
 "cells": [
  {
   "cell_type": "code",
   "execution_count": 7,
   "metadata": {},
   "outputs": [],
   "source": [
    "import numpy as np\n",
    "\n",
    "from data_handling import (\n",
    "    load_data,\n",
    "    fit_failure_statistics,\n",
    "    check_error_consistency,\n",
    "    plot_failure_statistics,\n",
    "    process_failure_statistics,\n",
    "    plot_failure_statistics_fixed_error_rates,\n",
    ")"
   ]
  },
  {
   "cell_type": "code",
   "execution_count": 8,
   "metadata": {},
   "outputs": [],
   "source": [
    "lattice_sizes = [3, 5, 7, 9, 11, 13, 15, 17]\n",
    "max_bond_dims = [16]"
   ]
  },
  {
   "cell_type": "code",
   "execution_count": 9,
   "metadata": {},
   "outputs": [],
   "source": [
    "error_rates_dict, failure_rates, error_bars, errors_dict, unique_error_rates = (\n",
    "    process_failure_statistics(\n",
    "        lattice_sizes=lattice_sizes,\n",
    "        max_bond_dims=max_bond_dims,\n",
    "        error_model=\"Bitflip\",\n",
    "        directory=\"data-quantum-surface\",\n",
    "    )\n",
    ")"
   ]
  },
  {
   "cell_type": "code",
   "execution_count": null,
   "metadata": {},
   "outputs": [],
   "source": [
    "for error_rate in unique_error_rates:\n",
    "    check_error_consistency(errors_dict, lattice_sizes, max_bond_dims, error_rate)"
   ]
  },
  {
   "cell_type": "code",
   "execution_count": null,
   "metadata": {},
   "outputs": [],
   "source": [
    "plot_failure_statistics(\n",
    "    error_rates_dict=error_rates_dict,\n",
    "    failure_rates=failure_rates,\n",
    "    error_bars=error_bars,\n",
    "    lattice_sizes=lattice_sizes,\n",
    "    max_bond_dims=max_bond_dims,\n",
    "    mode=\"lattice_size\",\n",
    ")"
   ]
  },
  {
   "cell_type": "code",
   "execution_count": null,
   "metadata": {},
   "outputs": [],
   "source": [
    "plot_failure_statistics(\n",
    "    error_rates_dict=error_rates_dict,\n",
    "    failure_rates=failure_rates,\n",
    "    error_bars=error_bars,\n",
    "    lattice_sizes=lattice_sizes,\n",
    "    max_bond_dims=max_bond_dims,\n",
    "    mode=\"bond_dim\",\n",
    ")"
   ]
  },
  {
   "cell_type": "code",
   "execution_count": null,
   "metadata": {},
   "outputs": [],
   "source": [
    "plot_failure_statistics_fixed_error_rates(\n",
    "    failure_rates=failure_rates,\n",
    "    error_bars=error_bars,\n",
    "    lattice_sizes=lattice_sizes,\n",
    "    max_bond_dims=[16],\n",
    "    error_rates=np.arange(0.105, 0.115, 0.001),\n",
    "    mode=\"bond_dim\",\n",
    "    yscale=\"log\",\n",
    "    xscale=\"linear\",\n",
    ")"
   ]
  },
  {
   "cell_type": "code",
   "execution_count": null,
   "metadata": {},
   "outputs": [],
   "source": []
  }
 ],
 "metadata": {
  "kernelspec": {
   "display_name": "mdopt-ZdbamFdU-py3.10",
   "language": "python",
   "name": "python3"
  },
  "language_info": {
   "codemirror_mode": {
    "name": "ipython",
    "version": 3
   },
   "file_extension": ".py",
   "mimetype": "text/x-python",
   "name": "python",
   "nbconvert_exporter": "python",
   "pygments_lexer": "ipython3",
   "version": "3.10.16"
  }
 },
 "nbformat": 4,
 "nbformat_minor": 2
}

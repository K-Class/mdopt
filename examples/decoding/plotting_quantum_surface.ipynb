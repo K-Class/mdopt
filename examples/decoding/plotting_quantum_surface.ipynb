{
 "cells": [
  {
   "cell_type": "code",
   "execution_count": null,
   "metadata": {},
   "outputs": [],
   "source": [
    "import numpy as np\n",
    "\n",
    "from data_handling import (\n",
    "    load_data,\n",
    "    fit_failure_statistics,\n",
    "    check_error_consistency,\n",
    "    plot_failure_statistics,\n",
    "    process_failure_statistics,\n",
    ")"
   ]
  },
  {
   "cell_type": "code",
   "execution_count": null,
   "metadata": {},
   "outputs": [],
   "source": [
    "lattice_sizes = [9, 11]\n",
    "max_bond_dims = [60]"
   ]
  },
  {
   "cell_type": "code",
   "execution_count": null,
   "metadata": {},
   "outputs": [],
   "source": [
    "(\n",
    "    error_rates_dict,\n",
    "    failure_rates,\n",
    "    error_bars,\n",
    "    errors,\n",
    "    unique_error_rates,\n",
    "    logicals_distributions,\n",
    "    failures_statistics,\n",
    ") = process_failure_statistics(\n",
    "    lattice_sizes=lattice_sizes,\n",
    "    max_bond_dims=max_bond_dims,\n",
    "    error_model=\"Bitflip\",\n",
    "    directory=\"data-quantum-surface\",\n",
    ")"
   ]
  },
  {
   "cell_type": "code",
   "execution_count": null,
   "metadata": {},
   "outputs": [],
   "source": [
    "plot_failure_statistics(\n",
    "    error_rates_dict=error_rates_dict,\n",
    "    failure_rates=failure_rates,\n",
    "    error_bars=error_bars,\n",
    "    lattice_sizes=lattice_sizes,\n",
    "    max_bond_dims=max_bond_dims,\n",
    "    mode=\"bond_dim\",\n",
    "    # xlim=(0.02, 0.11),\n",
    "    # yscale=\"log\",\n",
    "    # xscale=\"log\",\n",
    ")"
   ]
  },
  {
   "cell_type": "code",
   "execution_count": null,
   "metadata": {},
   "outputs": [],
   "source": [
    "fit_failure_statistics(\n",
    "    lattice_sizes=[3, 5, 7, 9],\n",
    "    max_bond_dims=[20, 30, 40, 50],\n",
    "    error_rates_dict=error_rates_dict,\n",
    "    failure_rates=failure_rates,\n",
    "    error_bars=error_bars,\n",
    "    lower_cutoff=0.01,\n",
    "    upper_cutoff=0.2,\n",
    "    xscale=\"linear\",\n",
    "    yscale=\"linear\",\n",
    ")"
   ]
  },
  {
   "cell_type": "code",
   "execution_count": null,
   "metadata": {},
   "outputs": [],
   "source": []
  }
 ],
 "metadata": {
  "kernelspec": {
   "display_name": "mdopt-ZdbamFdU-py3.10",
   "language": "python",
   "name": "python3"
  },
  "language_info": {
   "codemirror_mode": {
    "name": "ipython",
    "version": 3
   },
   "file_extension": ".py",
   "mimetype": "text/x-python",
   "name": "python",
   "nbconvert_exporter": "python",
   "pygments_lexer": "ipython3",
   "version": "3.10.16"
  }
 },
 "nbformat": 4,
 "nbformat_minor": 2
}

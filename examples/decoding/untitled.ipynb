{
 "cells": [
  {
   "cell_type": "code",
   "execution_count": 1,
   "metadata": {},
   "outputs": [],
   "source": [
    "import numpy as np\n",
    "import quimb.tensor as qtn\n",
    "import qecsim.paulitools as pt\n",
    "import matplotlib.pyplot as plt\n",
    "from tqdm import tqdm"
   ]
  },
  {
   "cell_type": "code",
   "execution_count": 19,
   "metadata": {},
   "outputs": [
    {
     "data": {
      "text/plain": [
       "array([[ 1.   ,  0.1  ,  0.1  ,  0.512],\n",
       "       [ 0.1  ,  1.   , -0.312,  0.1  ],\n",
       "       [ 0.1  , -0.312,  1.   ,  0.1  ],\n",
       "       [ 0.512,  0.1  ,  0.1  ,  1.   ]])"
      ]
     },
     "execution_count": 19,
     "metadata": {},
     "output_type": "execute_result"
    }
   ],
   "source": [
    "p_depolarising = 0.2\n",
    "d_channel = 0.5 * np.array(\n",
    "            [\n",
    "                [\n",
    "                    np.sqrt(4 - 3 * p_depolarising),\n",
    "                    np.sqrt(p_depolarising),\n",
    "                    np.sqrt(p_depolarising),\n",
    "                    np.sqrt(p_depolarising),\n",
    "                ],\n",
    "                [\n",
    "                    np.sqrt(p_depolarising),\n",
    "                    -np.sqrt(4 - 3 * p_depolarising),\n",
    "                    np.sqrt(p_depolarising),\n",
    "                    np.sqrt(p_depolarising),\n",
    "                ],\n",
    "                [\n",
    "                    np.sqrt(p_depolarising),\n",
    "                    np.sqrt(p_depolarising),\n",
    "                    -np.sqrt(4 - 3 * p_depolarising),\n",
    "                    np.sqrt(p_depolarising),\n",
    "                ],\n",
    "                [\n",
    "                    np.sqrt(p_depolarising),\n",
    "                    np.sqrt(p_depolarising),\n",
    "                    np.sqrt(p_depolarising),\n",
    "                    np.sqrt(4 - 3 * p_depolarising),\n",
    "                ],\n",
    "            ]\n",
    ")\n",
    "np.round(d_channel @ np.transpose(d_channel), 3)"
   ]
  },
  {
   "cell_type": "code",
   "execution_count": 2,
   "metadata": {},
   "outputs": [],
   "source": [
    "def pauli_to_mps(pauli_string: str) -> str:\n",
    "    \"\"\"\n",
    "    This function converts a Pauli string to our MPS decoder string.\n",
    "    Example: \"IXYZ\" -> \"00101101\".\n",
    "\n",
    "    Parameters\n",
    "    ----------\n",
    "    pauli_string : str\n",
    "        The Pauli string.\n",
    "\n",
    "    Returns\n",
    "    -------\n",
    "    mps_string : str\n",
    "        The MPS string.\n",
    "    \"\"\"\n",
    "    mps_string = \"\"\n",
    "    for pauli in pauli_string:\n",
    "        if pauli == \"I\":\n",
    "            mps_string += \"00\"\n",
    "        elif pauli == \"X\":\n",
    "            mps_string += \"10\"\n",
    "        elif pauli == \"Y\":\n",
    "            mps_string += \"11\"\n",
    "        elif pauli == \"Z\":\n",
    "            mps_string += \"01\"\n",
    "        else:\n",
    "            raise ValueError(f\"Invalid Pauli encountered -- {pauli}.\")\n",
    "\n",
    "    return mps_string"
   ]
  },
  {
   "cell_type": "code",
   "execution_count": 3,
   "metadata": {},
   "outputs": [],
   "source": [
    "def initial_bsc_mps(message,nbits,prob):\n",
    "    \"\"\"\n",
    "    Returns a product state of a binary message with a binary symmetric channel\n",
    "    applied to each bit. The message is given as an int in most-significant-bit-first\n",
    "    convention. The state returned is a quimb MatrixProductState object.\n",
    "    Arguments:\n",
    "        message : str\n",
    "            The message\n",
    "        nbits : int\n",
    "            Length in bits of the message\n",
    "        prob : np.float\n",
    "            Probability of the binary symmetric channel\n",
    "    Returns:\n",
    "        mps : quimb.tensor.tensor_1d.MatrixProductState\n",
    "            Product state\n",
    "    \"\"\"\n",
    "    binx   = \"00\" + message\n",
    "    arrays = np.zeros([len(binx),1,1,2])\n",
    "    noise  = np.sqrt(np.array([[1-prob,prob],[prob,1-prob]]))\n",
    "    # First two bits are logical:\n",
    "    arrays[0,0,0] = np.array([0.5,0.5])\n",
    "    arrays[1,0,0] = np.array([0.5,0.5])\n",
    "    for i,b in enumerate(binx[2:]):\n",
    "        arrays[i+2] = noise[int(b)].reshape([1,1,2])\n",
    "    mps = qtn.tensor_1d.MatrixProductState(arrays)\n",
    "    return mps\n",
    "\n",
    "def mpo_from_tensorlist(indices,tensors):\n",
    "    \"\"\"\n",
    "    Returns n-bit MPO built by stringing together given tensors.\n",
    "    Arguments:\n",
    "        indices : list of ints\n",
    "            List of tensor indices\n",
    "        tensors : list of np.array\n",
    "            List of tensors\n",
    "    Returns:\n",
    "        mpo : quimb.tensor.tensor_1d.MatrixProductOperator\n",
    "            The projector in matrix product operator form\n",
    "    \"\"\"\n",
    "    tensor_list = [tensors[i] for i in indices]\n",
    "    mpo = qtn.tensor_1d.MatrixProductOperator(tensor_list,'udlr')\n",
    "    return mpo\n",
    "\n",
    "def even_parity_mpo(bits,nbits):\n",
    "    \"\"\"\n",
    "    Returns a projector to the even-parity subspace of a subset of the bits\n",
    "    in a state. The projector returned is a quimb MatrixProductOperator object.\n",
    "    Arguments:\n",
    "        bits : list of ints\n",
    "            List of bit indices whose parity the operator will project\n",
    "        nbits : int\n",
    "            Total number of bits\n",
    "    Returns:\n",
    "        mpo : quimb.tensor.tensor_1d.MatrixProductOperator\n",
    "            The projector in matrix product operator form\n",
    "    \"\"\"\n",
    "    # Define necessary tensors; **nb** index convention is 'udlr':\n",
    "    parity        = np.zeros([2,2,2,2])\n",
    "    parity[0,0]   = np.eye(2)\n",
    "    parity[1,1]   = np.array([[0,1],[1,0]])\n",
    "    end_parity_l  = parity[:,:,0].reshape([2,2,1,2])\n",
    "    end_parity_r  = parity[:,:,0].reshape([2,2,2,1])\n",
    "    swap          = np.zeros([2,2,2,2])\n",
    "    swap[0,0]     = np.eye(2)\n",
    "    swap[1,1]     = np.eye(2)\n",
    "    iden          = np.zeros([2,2,1,1])\n",
    "    iden[:,:,0,0] = np.eye(2)\n",
    "    tensors = [iden,swap,parity,end_parity_l,end_parity_r]\n",
    "    # Build an index list, then use it to build a tensor list:\n",
    "    idrange = np.arange(nbits)\n",
    "    indices = np.zeros(nbits,int)\n",
    "    bits_sorted   = np.sort(bits)\n",
    "    indices[idrange<bits_sorted[0]]  = 0\n",
    "    indices[idrange>bits_sorted[0]]  = 1\n",
    "    indices[idrange>bits_sorted[-1]] = 0\n",
    "    indices[bits_sorted[1:-1]] = 2\n",
    "    indices[bits_sorted[0]] = 3\n",
    "    indices[bits_sorted[-1]] = 4\n",
    "    tensor_list = [tensors[i] for i in indices]\n",
    "    # Build and return the quimb MPO object:\n",
    "    mpo = qtn.tensor_1d.MatrixProductOperator(tensor_list,'udlr')\n",
    "    return mpo\n",
    "\n",
    "def logical_mpo(bits,nbits):\n",
    "    \"\"\"\n",
    "    Applies logical operator on bits.\n",
    "    \n",
    "    Arguments:\n",
    "        bits : list of ints\n",
    "            List of bit indices; first bit is logical\n",
    "        nbits : int\n",
    "            Total number of bits\n",
    "    Returns:\n",
    "        mpo : quimb.tensor.tensor_1d.MatrixProductOperator\n",
    "            The logical in matrix product operator form\n",
    "    \"\"\"\n",
    "    # Define necessary tensors; **nb** index convention is 'udlr':\n",
    "    cid           = np.zeros([2,2,1,2])\n",
    "    cid[:,0,0,:]  = np.eye(2)\n",
    "    cid[:,1,0,:]  = np.eye(2)\n",
    "    parity        = np.zeros([2,2,2,2])\n",
    "    parity[0,0]   = np.eye(2)\n",
    "    parity[1,1]   = np.array([[0,1],[1,0]])\n",
    "    end_parity_r  = parity[:,:,0].reshape([2,2,2,1])\n",
    "    swap          = np.zeros([2,2,2,2])\n",
    "    swap[0,0]     = np.eye(2)\n",
    "    swap[1,1]     = np.eye(2)\n",
    "    iden          = np.zeros([2,2,1,1])\n",
    "    iden[:,:,0,0] = np.eye(2)\n",
    "    tensors = [iden,swap,parity,cid,end_parity_r]\n",
    "    # Build an index list, then use it to build a tensor list:\n",
    "    idrange = np.arange(nbits)\n",
    "    indices = np.zeros(nbits,int)\n",
    "    bits_sorted   = np.sort(bits)\n",
    "    indices[idrange<bits_sorted[0]]  = 0\n",
    "    indices[idrange>bits_sorted[0]]  = 1\n",
    "    indices[idrange>bits_sorted[-1]] = 0\n",
    "    indices[bits_sorted[1:-1]] = 2\n",
    "    indices[bits_sorted[0]] = 3\n",
    "    indices[bits_sorted[-1]] = 4\n",
    "    tensor_list = [tensors[i] for i in indices]\n",
    "    # Build and return the quimb MPO object:\n",
    "    mpo = qtn.tensor_1d.MatrixProductOperator(tensor_list,'udlr')\n",
    "    return mpo\n",
    "\n",
    "def shor(message,bias=0.1):\n",
    "    \"\"\"\n",
    "    Returns MPS-MPO \"spacetime\" that implements Shor's code starting from\n",
    "    an error MPS with bias channel applied.\n",
    "    Arguments:\n",
    "        message : int\n",
    "            Error state in symplectic formalism; expected to be 16 bits\n",
    "        bias : float\n",
    "            Bias for the bias channel\n",
    "    Returns:\n",
    "        rdm : quimb.tensor.tensor_1d.MatrixProductOperator\n",
    "            The marginal RDM over logicals\n",
    "    \"\"\"\n",
    "    mpos = []\n",
    "    # X stabs\n",
    "    mpos.append(even_parity_mpo([2, 4, 6, 8,10,12],20))\n",
    "    mpos.append(even_parity_mpo([8,10,12,14,16,18],20))\n",
    "    # Z stabs\n",
    "    mpos.append(even_parity_mpo([ 3, 5],20))\n",
    "    mpos.append(even_parity_mpo([ 5, 7],20))\n",
    "    mpos.append(even_parity_mpo([ 9,11],20))\n",
    "    mpos.append(even_parity_mpo([11,13],20))\n",
    "    mpos.append(even_parity_mpo([15,17],20))\n",
    "    mpos.append(even_parity_mpo([17,19],20))\n",
    "    # logicals\n",
    "    mpos.append(logical_mpo([0, 2, 4, 6],20))\n",
    "    mpos.append(logical_mpo([1, 3, 9,15],20))\n",
    "    mps = initial_bsc_mps(message,20,bias)\n",
    "    mps_current = mps.copy(deep=True)\n",
    "    for mpo in mpos:\n",
    "        mps_current = mpo.apply(mps_current)\n",
    "    rdm = mps_current.ptr([0,1])\n",
    "    result = np.diag(rdm.to_dense())\n",
    "    logical = result / np.linalg.norm(result, ord=1)\n",
    "    if np.argmax(logical) == 0:\n",
    "        return \"I\", logical\n",
    "    if np.argmax(logical) == 1:\n",
    "        return \"X\", logical\n",
    "    if np.argmax(logical) == 2:\n",
    "        return \"Z\", logical\n",
    "    if np.argmax(logical) == 3:\n",
    "        return \"Y\", logical"
   ]
  },
  {
   "cell_type": "code",
   "execution_count": 4,
   "metadata": {},
   "outputs": [],
   "source": [
    "one_qubit_paulis = pt.ipauli(n_qubits=9, min_weight=1, max_weight=1)\n",
    "two_qubit_paulis = pt.ipauli(n_qubits=9, min_weight=2, max_weight=2)\n",
    "three_qubit_paulis = pt.ipauli(n_qubits=9, min_weight=3, max_weight=3)"
   ]
  },
  {
   "cell_type": "code",
   "execution_count": 5,
   "metadata": {},
   "outputs": [],
   "source": [
    "one_qubit_errors = [pauli_to_mps(pauli) for pauli in one_qubit_paulis]\n",
    "two_qubit_errors = [pauli_to_mps(pauli) for pauli in two_qubit_paulis]\n",
    "three_qubit_errors = [pauli_to_mps(pauli) for pauli in three_qubit_paulis]"
   ]
  },
  {
   "cell_type": "code",
   "execution_count": 6,
   "metadata": {},
   "outputs": [
    {
     "name": "stderr",
     "output_type": "stream",
     "text": [
      "100%|██████████| 27/27 [00:00<00:00, 29.88it/s]\n"
     ]
    }
   ],
   "source": [
    "one_qubit_outputs = [shor(error) for error in tqdm(one_qubit_errors)]\n",
    "one_qubit_corrections = [output[0] for output in one_qubit_outputs]"
   ]
  },
  {
   "cell_type": "code",
   "execution_count": 7,
   "metadata": {},
   "outputs": [
    {
     "name": "stderr",
     "output_type": "stream",
     "text": [
      "100%|██████████| 324/324 [00:10<00:00, 29.69it/s]\n"
     ]
    }
   ],
   "source": [
    "two_qubit_outputs = [shor(error) for error in tqdm(two_qubit_errors)]\n",
    "two_qubit_corrections = [output[0] for output in two_qubit_outputs]"
   ]
  },
  {
   "cell_type": "code",
   "execution_count": 8,
   "metadata": {},
   "outputs": [
    {
     "name": "stderr",
     "output_type": "stream",
     "text": [
      "100%|██████████| 2268/2268 [01:15<00:00, 30.06it/s]\n"
     ]
    }
   ],
   "source": [
    "three_qubit_outputs = [shor(error) for error in tqdm(three_qubit_errors)]\n",
    "three_qubit_corrections = [output[0] for output in three_qubit_outputs]"
   ]
  },
  {
   "cell_type": "code",
   "execution_count": 9,
   "metadata": {},
   "outputs": [
    {
     "data": {
      "image/png": "[encoded data removed]",
      "text/plain": [
       "<Figure size 640x480 with 1 Axes>"
      ]
     },
     "metadata": {},
     "output_type": "display_data"
    }
   ],
   "source": [
    "plt.hist(one_qubit_corrections)\n",
    "plt.show()"
   ]
  },
  {
   "cell_type": "code",
   "execution_count": 10,
   "metadata": {},
   "outputs": [
    {
     "data": {
      "text/plain": [
       "324"
      ]
     },
     "execution_count": 10,
     "metadata": {},
     "output_type": "execute_result"
    }
   ],
   "source": [
    "len(two_qubit_corrections)"
   ]
  },
  {
   "cell_type": "code",
   "execution_count": 11,
   "metadata": {},
   "outputs": [
    {
     "data": {
      "image/png": "[encoded data removed]",
      "text/plain": [
       "<Figure size 640x480 with 1 Axes>"
      ]
     },
     "metadata": {},
     "output_type": "display_data"
    }
   ],
   "source": [
    "plt.hist(two_qubit_corrections)\n",
    "plt.show()"
   ]
  },
  {
   "cell_type": "code",
   "execution_count": 12,
   "metadata": {},
   "outputs": [
    {
     "data": {
      "image/png": "[encoded data removed]",
      "text/plain": [
       "<Figure size 640x480 with 1 Axes>"
      ]
     },
     "metadata": {},
     "output_type": "display_data"
    }
   ],
   "source": [
    "plt.hist(three_qubit_corrections)\n",
    "plt.show()"
   ]
  },
  {
   "cell_type": "code",
   "execution_count": 13,
   "metadata": {},
   "outputs": [],
   "source": [
    "one_qubit_paulis = list(pt.ipauli(n_qubits=9, min_weight=1, max_weight=1))\n",
    "two_qubit_paulis = list(pt.ipauli(n_qubits=9, min_weight=2, max_weight=2))\n",
    "three_qubit_paulis = list(pt.ipauli(n_qubits=9, min_weight=3, max_weight=3))"
   ]
  },
  {
   "cell_type": "code",
   "execution_count": 16,
   "metadata": {},
   "outputs": [
    {
     "name": "stdout",
     "output_type": "stream",
     "text": [
      "XXIIIIIII\n",
      "XZIIIIIII\n",
      "XYIIIIIII\n",
      "ZXIIIIIII\n",
      "YXIIIIIII\n",
      "XIXIIIIII\n",
      "XIZIIIIII\n",
      "XIYIIIIII\n",
      "ZIXIIIIII\n",
      "YIXIIIIII\n",
      "XIIZIIIII\n",
      "ZIIXIIIII\n",
      "ZIIZIIIII\n",
      "ZIIYIIIII\n",
      "YIIZIIIII\n",
      "XIIIZIIII\n",
      "ZIIIXIIII\n",
      "ZIIIZIIII\n",
      "ZIIIYIIII\n",
      "YIIIZIIII\n",
      "XIIIIZIII\n",
      "ZIIIIXIII\n",
      "ZIIIIZIII\n",
      "ZIIIIYIII\n",
      "YIIIIZIII\n",
      "XIIIIIZII\n",
      "ZIIIIIXII\n",
      "ZIIIIIZII\n",
      "ZIIIIIYII\n",
      "YIIIIIZII\n",
      "XIIIIIIZI\n",
      "ZIIIIIIXI\n",
      "ZIIIIIIZI\n",
      "ZIIIIIIYI\n",
      "YIIIIIIZI\n",
      "XIIIIIIIZ\n",
      "ZIIIIIIIX\n",
      "ZIIIIIIIZ\n",
      "ZIIIIIIIY\n",
      "YIIIIIIIZ\n",
      "IXXIIIIII\n",
      "IXZIIIIII\n",
      "IXYIIIIII\n",
      "IZXIIIIII\n",
      "IYXIIIIII\n",
      "IXIZIIIII\n",
      "IZIXIIIII\n",
      "IZIZIIIII\n",
      "IZIYIIIII\n",
      "IYIZIIIII\n",
      "IXIIZIIII\n",
      "IZIIXIIII\n",
      "IZIIZIIII\n",
      "IZIIYIIII\n",
      "IYIIZIIII\n",
      "IXIIIZIII\n",
      "IZIIIXIII\n",
      "IZIIIZIII\n",
      "IZIIIYIII\n",
      "IYIIIZIII\n",
      "IXIIIIZII\n",
      "IZIIIIXII\n",
      "IZIIIIZII\n",
      "IZIIIIYII\n",
      "IYIIIIZII\n",
      "IXIIIIIZI\n",
      "IZIIIIIXI\n",
      "IZIIIIIZI\n",
      "IZIIIIIYI\n",
      "IYIIIIIZI\n",
      "IXIIIIIIZ\n",
      "IZIIIIIIX\n",
      "IZIIIIIIZ\n",
      "IZIIIIIIY\n",
      "IYIIIIIIZ\n",
      "IIXZIIIII\n",
      "IIZXIIIII\n",
      "IIZZIIIII\n",
      "IIZYIIIII\n",
      "IIYZIIIII\n",
      "IIXIZIIII\n",
      "IIZIXIIII\n",
      "IIZIZIIII\n",
      "IIZIYIIII\n",
      "IIYIZIIII\n",
      "IIXIIZIII\n",
      "IIZIIXIII\n",
      "IIZIIZIII\n",
      "IIZIIYIII\n",
      "IIYIIZIII\n",
      "IIXIIIZII\n",
      "IIZIIIXII\n",
      "IIZIIIZII\n",
      "IIZIIIYII\n",
      "IIYIIIZII\n",
      "IIXIIIIZI\n",
      "IIZIIIIXI\n",
      "IIZIIIIZI\n",
      "IIZIIIIYI\n",
      "IIYIIIIZI\n",
      "IIXIIIIIZ\n",
      "IIZIIIIIX\n",
      "IIZIIIIIZ\n",
      "IIZIIIIIY\n",
      "IIYIIIIIZ\n",
      "IIIXXIIII\n",
      "IIIXZIIII\n",
      "IIIXYIIII\n",
      "IIIZXIIII\n",
      "IIIYXIIII\n",
      "IIIXIXIII\n",
      "IIIXIZIII\n",
      "IIIXIYIII\n",
      "IIIZIXIII\n",
      "IIIYIXIII\n",
      "IIIXIIZII\n",
      "IIIZIIXII\n",
      "IIIZIIZII\n",
      "IIIZIIYII\n",
      "IIIYIIZII\n",
      "IIIXIIIZI\n",
      "IIIZIIIXI\n",
      "IIIZIIIZI\n",
      "IIIZIIIYI\n",
      "IIIYIIIZI\n",
      "IIIXIIIIZ\n",
      "IIIZIIIIX\n",
      "IIIZIIIIZ\n",
      "IIIZIIIIY\n",
      "IIIYIIIIZ\n",
      "IIIIXXIII\n",
      "IIIIXZIII\n",
      "IIIIXYIII\n",
      "IIIIZXIII\n",
      "IIIIYXIII\n",
      "IIIIXIZII\n",
      "IIIIZIXII\n",
      "IIIIZIZII\n",
      "IIIIZIYII\n",
      "IIIIYIZII\n",
      "IIIIXIIZI\n",
      "IIIIZIIXI\n",
      "IIIIZIIZI\n",
      "IIIIZIIYI\n",
      "IIIIYIIZI\n",
      "IIIIXIIIZ\n",
      "IIIIZIIIX\n",
      "IIIIZIIIZ\n",
      "IIIIZIIIY\n",
      "IIIIYIIIZ\n",
      "IIIIIXZII\n",
      "IIIIIZXII\n",
      "IIIIIZZII\n",
      "IIIIIZYII\n",
      "IIIIIYZII\n",
      "IIIIIXIZI\n",
      "IIIIIZIXI\n",
      "IIIIIZIZI\n",
      "IIIIIZIYI\n",
      "IIIIIYIZI\n",
      "IIIIIXIIZ\n",
      "IIIIIZIIX\n",
      "IIIIIZIIZ\n",
      "IIIIIZIIY\n",
      "IIIIIYIIZ\n",
      "IIIIIIXXI\n",
      "IIIIIIXZI\n",
      "IIIIIIXYI\n",
      "IIIIIIZXI\n",
      "IIIIIIYXI\n",
      "IIIIIIXIX\n",
      "IIIIIIXIZ\n",
      "IIIIIIXIY\n",
      "IIIIIIZIX\n",
      "IIIIIIYIX\n",
      "IIIIIIIXX\n",
      "IIIIIIIXZ\n",
      "IIIIIIIXY\n",
      "IIIIIIIZX\n",
      "IIIIIIIYX\n"
     ]
    }
   ],
   "source": [
    "c = 0\n",
    "for i, correction in enumerate(two_qubit_corrections):\n",
    "    if correction==\"I\":\n",
    "        c+=1\n",
    "        print(\n",
    "            two_qubit_paulis[i]\n",
    "            )"
   ]
  },
  {
   "cell_type": "code",
   "execution_count": 17,
   "metadata": {},
   "outputs": [
    {
     "data": {
      "text/plain": [
       "180"
      ]
     },
     "execution_count": 17,
     "metadata": {},
     "output_type": "execute_result"
    }
   ],
   "source": [
    "c"
   ]
  },
  {
   "cell_type": "code",
   "execution_count": null,
   "metadata": {},
   "outputs": [],
   "source": []
  }
 ],
 "metadata": {
  "kernelspec": {
   "display_name": "base",
   "language": "python",
   "name": "python3"
  },
  "language_info": {
   "codemirror_mode": {
    "name": "ipython",
    "version": 3
   },
   "file_extension": ".py",
   "mimetype": "text/x-python",
   "name": "python",
   "nbconvert_exporter": "python",
   "pygments_lexer": "ipython3",
   "version": "3.10.4"
  },
  "orig_nbformat": 4
 },
 "nbformat": 4,
 "nbformat_minor": 2
}

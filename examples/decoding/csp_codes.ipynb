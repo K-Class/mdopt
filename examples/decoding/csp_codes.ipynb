{
 "cells": [
  {
   "cell_type": "markdown",
   "metadata": {},
   "source": [
    "# Decoding Quantum CSP Codes"
   ]
  },
  {
   "cell_type": "code",
   "execution_count": 1,
   "metadata": {},
   "outputs": [],
   "source": [
    "import json\n",
    "import numpy as np\n",
    "from tqdm import tqdm\n",
    "import qecstruct as qc\n",
    "import qecsim.paulitools as pt\n",
    "\n",
    "import matplotlib\n",
    "import matplotlib.pyplot as plt\n",
    "from matplotlib.colors import Normalize\n",
    "from matplotlib.ticker import FormatStrFormatter\n",
    "\n",
    "from mdopt.mps.utils import marginalise, create_custom_product_state\n",
    "from mdopt.contractor.contractor import mps_mpo_contract\n",
    "from mdopt.optimiser.utils import (\n",
    "    SWAP,\n",
    "    COPY_LEFT,\n",
    "    XOR_BULK,\n",
    "    XOR_LEFT,\n",
    "    XOR_RIGHT,\n",
    ")\n",
    "from examples.decoding.decoding import (\n",
    "    apply_constraints,\n",
    "    apply_bitflip_bias,\n",
    ")\n",
    "from examples.decoding.decoding import (\n",
    "    decode_css,\n",
    "    pauli_to_mps,\n",
    "    css_code_checks,\n",
    "    css_code_logicals,\n",
    "    css_code_logicals_sites,\n",
    "    css_code_constraint_sites,\n",
    "    generate_pauli_error_string,\n",
    ")"
   ]
  },
  {
   "cell_type": "code",
   "execution_count": 5,
   "metadata": {},
   "outputs": [],
   "source": [
    "import qecstruct"
   ]
  },
  {
   "cell_type": "code",
   "execution_count": 9,
   "metadata": {},
   "outputs": [],
   "source": [
    "from qecstruct import LinearCode"
   ]
  },
  {
   "cell_type": "code",
   "execution_count": 13,
   "metadata": {},
   "outputs": [],
   "source": [
    "import qecstruct"
   ]
  },
  {
   "cell_type": "code",
   "execution_count": 17,
   "metadata": {},
   "outputs": [],
   "source": [
    "from qecstruct import BinaryMatrix"
   ]
  },
  {
   "cell_type": "code",
   "execution_count": 18,
   "metadata": {},
   "outputs": [
    {
     "data": {
      "text/plain": [
       "[1, 3, 5, 8, 10, 13, 14, 16, 27]\n",
       "[4, 8, 11, 12, 13, 14, 15, 18, 19, 21, 22, 24]\n",
       "[2, 3, 5, 8, 10, 15, 16, 17, 26, 29]\n",
       "[9, 11, 24, 25, 26, 27]\n",
       "[13, 16, 17, 18, 20, 22]\n",
       "[4, 5, 12, 20, 23, 28]\n",
       "[0, 5, 6, 8, 11, 17, 20, 21]\n",
       "[0, 1, 2, 6, 7, 9, 10, 11, 13, 14, 19, 24, 25]\n",
       "[6, 12, 14, 18, 19, 23]\n",
       "[2, 3, 4, 9, 16, 25, 28, 29]\n",
       "[6, 7, 9, 10, 12, 15, 28, 29]\n",
       "[1, 2, 6, 12, 13, 14, 16, 21, 22, 23, 27]\n",
       "[0, 2, 5, 7, 11, 26, 29]"
      ]
     },
     "execution_count": 18,
     "metadata": {},
     "output_type": "execute_result"
    }
   ],
   "source": [
    "BinaryMatrix(data[\"num_qubits\"], data[\"x_stabs\"])"
   ]
  },
  {
   "cell_type": "code",
   "execution_count": 19,
   "metadata": {},
   "outputs": [],
   "source": [
    "linearcode = LinearCode(BinaryMatrix(data[\"num_qubits\"], data[\"x_stabs\"]))"
   ]
  },
  {
   "cell_type": "code",
   "execution_count": null,
   "metadata": {},
   "outputs": [],
   "source": []
  },
  {
   "cell_type": "code",
   "execution_count": null,
   "metadata": {},
   "outputs": [],
   "source": [
    "x_code = "
   ]
  },
  {
   "cell_type": "code",
   "execution_count": 8,
   "metadata": {},
   "outputs": [
    {
     "ename": "TypeError",
     "evalue": "argument 'x_code': 'list' object cannot be converted to 'LinearCode'",
     "output_type": "error",
     "traceback": [
      "\u001b[0;31m---------------------------------------------------------------------------\u001b[0m",
      "\u001b[0;31mTypeError\u001b[0m                                 Traceback (most recent call last)",
      "Cell \u001b[0;32mIn[8], line 1\u001b[0m\n\u001b[0;32m----> 1\u001b[0m \u001b[43mqecstruct\u001b[49m\u001b[38;5;241;43m.\u001b[39;49m\u001b[43mCssCode\u001b[49m\u001b[43m(\u001b[49m\n\u001b[1;32m      2\u001b[0m \u001b[43m    \u001b[49m\u001b[43mx_code\u001b[49m\u001b[43m \u001b[49m\u001b[38;5;241;43m=\u001b[39;49m\u001b[43m \u001b[49m\u001b[43mdata\u001b[49m\u001b[43m[\u001b[49m\u001b[38;5;124;43m\"\u001b[39;49m\u001b[38;5;124;43mx_stabs\u001b[39;49m\u001b[38;5;124;43m\"\u001b[39;49m\u001b[43m]\u001b[49m\u001b[43m,\u001b[49m\u001b[43m \u001b[49m\u001b[43mz_code\u001b[49m\u001b[43m \u001b[49m\u001b[38;5;241;43m=\u001b[39;49m\u001b[43m \u001b[49m\u001b[43mdata\u001b[49m\u001b[43m[\u001b[49m\u001b[38;5;124;43m\"\u001b[39;49m\u001b[38;5;124;43mz_stabs\u001b[39;49m\u001b[38;5;124;43m\"\u001b[39;49m\u001b[43m]\u001b[49m\n\u001b[1;32m      3\u001b[0m \u001b[43m)\u001b[49m\n",
      "\u001b[0;31mTypeError\u001b[0m: argument 'x_code': 'list' object cannot be converted to 'LinearCode'"
     ]
    }
   ],
   "source": [
    "qecstruct.CssCode(x_code=data[\"x_stabs\"], z_code=data[\"z_stabs\"])"
   ]
  },
  {
   "cell_type": "code",
   "execution_count": 3,
   "metadata": {},
   "outputs": [],
   "source": [
    "f = open(\"data-csp/batch_1/codes/qubits_30/code_0.json\")\n",
    "data = json.load(f)"
   ]
  },
  {
   "cell_type": "code",
   "execution_count": 7,
   "metadata": {},
   "outputs": [
    {
     "data": {
      "text/plain": [
       "[[1, 3, 5, 8, 10, 13, 14, 16, 27],\n",
       " [4, 8, 11, 12, 13, 14, 15, 18, 19, 21, 22, 24],\n",
       " [2, 3, 5, 8, 10, 15, 16, 17, 26, 29],\n",
       " [9, 11, 24, 25, 26, 27],\n",
       " [13, 16, 17, 18, 20, 22],\n",
       " [4, 5, 12, 20, 23, 28],\n",
       " [0, 5, 6, 8, 11, 17, 20, 21],\n",
       " [0, 1, 2, 6, 7, 9, 10, 11, 13, 14, 19, 24, 25],\n",
       " [6, 12, 14, 18, 19, 23],\n",
       " [2, 3, 4, 9, 16, 25, 28, 29],\n",
       " [6, 7, 9, 10, 12, 15, 28, 29],\n",
       " [1, 2, 6, 12, 13, 14, 16, 21, 22, 23, 27],\n",
       " [0, 2, 5, 7, 11, 26, 29]]"
      ]
     },
     "execution_count": 7,
     "metadata": {},
     "output_type": "execute_result"
    }
   ],
   "source": [
    "data[\"x_stabs\"]"
   ]
  },
  {
   "cell_type": "code",
   "execution_count": 3,
   "metadata": {},
   "outputs": [
    {
     "data": {
      "text/plain": [
       "[[1, 3, 5, 8, 10, 13, 14, 16, 27],\n",
       " [4, 8, 11, 12, 13, 14, 15, 18, 19, 21, 22, 24],\n",
       " [2, 3, 5, 8, 10, 15, 16, 17, 26, 29],\n",
       " [9, 11, 24, 25, 26, 27],\n",
       " [13, 16, 17, 18, 20, 22],\n",
       " [4, 5, 12, 20, 23, 28],\n",
       " [0, 5, 6, 8, 11, 17, 20, 21],\n",
       " [0, 1, 2, 6, 7, 9, 10, 11, 13, 14, 19, 24, 25],\n",
       " [6, 12, 14, 18, 19, 23],\n",
       " [2, 3, 4, 9, 16, 25, 28, 29],\n",
       " [6, 7, 9, 10, 12, 15, 28, 29],\n",
       " [1, 2, 6, 12, 13, 14, 16, 21, 22, 23, 27],\n",
       " [0, 2, 5, 7, 11, 26, 29]]"
      ]
     },
     "execution_count": 3,
     "metadata": {},
     "output_type": "execute_result"
    }
   ],
   "source": [
    "data[\"x_stabs\"]"
   ]
  },
  {
   "cell_type": "code",
   "execution_count": 10,
   "metadata": {},
   "outputs": [],
   "source": [
    "NUM_BITS = 60"
   ]
  },
  {
   "cell_type": "code",
   "execution_count": 11,
   "metadata": {},
   "outputs": [],
   "source": [
    "state = create_simple_product_state(NUM_BITS, which=\"+\")"
   ]
  },
  {
   "cell_type": "code",
   "execution_count": 12,
   "metadata": {},
   "outputs": [
    {
     "data": {
      "text/plain": [
       "[[1, 3, 5, 8, 10, 13, 14, 16, 27],\n",
       " [4, 8, 11, 12, 13, 14, 15, 18, 19, 21, 22, 24],\n",
       " [2, 3, 5, 8, 10, 15, 16, 17, 26, 29],\n",
       " [9, 11, 24, 25, 26, 27],\n",
       " [13, 16, 17, 18, 20, 22],\n",
       " [4, 5, 12, 20, 23, 28],\n",
       " [0, 5, 6, 8, 11, 17, 20, 21],\n",
       " [0, 1, 2, 6, 7, 9, 10, 11, 13, 14, 19, 24, 25],\n",
       " [6, 12, 14, 18, 19, 23],\n",
       " [2, 3, 4, 9, 16, 25, 28, 29],\n",
       " [6, 7, 9, 10, 12, 15, 28, 29],\n",
       " [1, 2, 6, 12, 13, 14, 16, 21, 22, 23, 27],\n",
       " [0, 2, 5, 7, 11, 26, 29]]"
      ]
     },
     "execution_count": 12,
     "metadata": {},
     "output_type": "execute_result"
    }
   ],
   "source": [
    "code_constraint_sites = data[\"x_stabs\"]\n",
    "tensors = [XOR_LEFT, XOR_BULK, SWAP, XOR_RIGHT]\n",
    "code_constraint_sites"
   ]
  },
  {
   "cell_type": "code",
   "execution_count": null,
   "metadata": {},
   "outputs": [],
   "source": []
  }
 ],
 "metadata": {
  "kernelspec": {
   "display_name": "mdopt-ZdbamFdU-py3.11",
   "language": "python",
   "name": "python3"
  },
  "language_info": {
   "codemirror_mode": {
    "name": "ipython",
    "version": 3
   },
   "file_extension": ".py",
   "mimetype": "text/x-python",
   "name": "python",
   "nbconvert_exporter": "python",
   "pygments_lexer": "ipython3",
   "version": "3.10.13"
  },
  "orig_nbformat": 4
 },
 "nbformat": 4,
 "nbformat_minor": 2
}

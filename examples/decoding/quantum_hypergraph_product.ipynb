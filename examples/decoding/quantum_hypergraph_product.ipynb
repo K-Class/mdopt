{
 "cells": [
  {
   "cell_type": "markdown",
   "metadata": {},
   "source": [
    "# Decoding Quantum Hypergraph Product Codes"
   ]
  },
  {
   "cell_type": "markdown",
   "metadata": {},
   "source": [
    "In this experiment, we will test our decoder on a special type of QLDPC codes called hypergraph product codes. They are also sometimes called Tillich-Zemor product codes. Further information about these codes can be obtained at https://errorcorrectionzoo.org/c/hypergraph_product The particular codes we will play with are constructed from two [4,3] classical random linear codes."
   ]
  },
  {
   "cell_type": "code",
   "execution_count": 1,
   "metadata": {},
   "outputs": [],
   "source": [
    "import sys\n",
    "\n",
    "sys.path.append(\"../\")\n",
    "sys.path.append(\"../..\")\n",
    "\n",
    "import numpy as np\n",
    "import qecstruct as qec\n",
    "import qecsim.paulitools as pt\n",
    "import matplotlib.pyplot as plt\n",
    "from matplotlib import colormaps\n",
    "from matplotlib.colors import LogNorm, Normalize\n",
    "from matplotlib.ticker import FuncFormatter, FormatStrFormatter\n",
    "from tqdm import tqdm\n",
    "from scipy.stats import sem\n",
    "\n",
    "from mdopt.mps.utils import create_custom_product_state\n",
    "from mdopt.contractor.contractor import mps_mpo_contract\n",
    "from mdopt.optimiser.utils import (\n",
    "    SWAP,\n",
    "    COPY_LEFT,\n",
    "    XOR_BULK,\n",
    "    XOR_LEFT,\n",
    "    XOR_RIGHT,\n",
    ")\n",
    "\n",
    "from examples.decoding.decoding import (\n",
    "    css_code_checks,\n",
    "    css_code_logicals,\n",
    "    css_code_logicals_sites,\n",
    "    css_code_constraint_sites,\n",
    "    apply_constraints,\n",
    "    apply_bitflip_bias,\n",
    "    apply_depolarising_bias,\n",
    "    decode_custom,\n",
    "    pauli_to_mps,\n",
    "    decode_css,\n",
    "    css_code_stabilisers,\n",
    "    multiply_pauli_strings,\n",
    "    map_distribution_to_pauli,\n",
    "    generate_pauli_error_string,\n",
    ")\n",
    "from examples.decoding.visualisation import plot_parity_check_mpo"
   ]
  },
  {
   "cell_type": "code",
   "execution_count": 2,
   "metadata": {},
   "outputs": [
    {
     "name": "stdout",
     "output_type": "stream",
     "text": [
      "CHI_MAX = 10\n"
     ]
    },
    {
     "name": "stderr",
     "output_type": "stream",
     "text": [
      "100%|██████████| 6/6 [00:22<00:00,  3.75s/it]\n"
     ]
    },
    {
     "name": "stdout",
     "output_type": "stream",
     "text": [
      "CHI_MAX = 10\n"
     ]
    },
    {
     "name": "stderr",
     "output_type": "stream",
     "text": [
      "100%|██████████| 6/6 [01:15<00:00, 12.56s/it]\n"
     ]
    }
   ],
   "source": [
    "NUM_EXPERIMENTS = 2\n",
    "SEED = 123\n",
    "errors = {}\n",
    "failures_statistics = {}\n",
    "code_parameters = {}\n",
    "\n",
    "system_sizes = [4, 8]\n",
    "error_rates = [1e-6, 1e-5, 1e-4, 1e-3, 1e-2, 1e-1]\n",
    "max_bond_dims = [10]\n",
    "\n",
    "for NUM_BITS in system_sizes:\n",
    "    CHECK_DEGREE, BIT_DEGREE = 4, 3\n",
    "    NUM_CHECKS = int(NUM_BITS * BIT_DEGREE / CHECK_DEGREE)\n",
    "    if NUM_BITS / NUM_CHECKS != CHECK_DEGREE / BIT_DEGREE:\n",
    "        raise ValueError(\"The Tanner graph of the code must be bipartite.\")\n",
    "\n",
    "    seed_seq = np.random.SeedSequence(SEED)\n",
    "\n",
    "    classical_code = qec.random_regular_code(\n",
    "        NUM_BITS, NUM_CHECKS, BIT_DEGREE, CHECK_DEGREE, qec.Rng(SEED)\n",
    "    )\n",
    "    qhgp_code = qec.hypergraph_product(classical_code, classical_code)\n",
    "\n",
    "    code_parameters[NUM_BITS] = (\n",
    "        len(css_code_stabilisers(qhgp_code)[0][0]),\n",
    "        len(qhgp_code) - qhgp_code.num_x_stabs() - qhgp_code.num_z_stabs(),\n",
    "    )\n",
    "\n",
    "    for ERROR_RATE in error_rates:\n",
    "        errors[NUM_BITS, ERROR_RATE] = []\n",
    "        for l in range(NUM_EXPERIMENTS):\n",
    "            rng = np.random.default_rng(seed_seq.spawn(1)[0])\n",
    "\n",
    "            error = generate_pauli_error_string(\n",
    "                len(qhgp_code),\n",
    "                ERROR_RATE,\n",
    "                rng=rng,\n",
    "                error_model=\"Bitflip\",\n",
    "            )\n",
    "            errors[NUM_BITS, ERROR_RATE].append(error)\n",
    "\n",
    "    for CHI_MAX in max_bond_dims:\n",
    "        print(f\"CHI_MAX = {CHI_MAX}\")\n",
    "        for ERROR_RATE in tqdm(error_rates):\n",
    "            failures = []\n",
    "\n",
    "            for l in range(NUM_EXPERIMENTS):\n",
    "                error = errors[NUM_BITS, ERROR_RATE][l]\n",
    "                try:\n",
    "                    _, success = decode_css(\n",
    "                        code=qhgp_code,\n",
    "                        error=error,\n",
    "                        chi_max=CHI_MAX,\n",
    "                        multiply_by_stabiliser=False,\n",
    "                        bias_type=\"Bitflip\",\n",
    "                        bias_prob=0.1,\n",
    "                        tolerance=0,\n",
    "                        cut=0,\n",
    "                        renormalise=True,\n",
    "                        silent=True,\n",
    "                        contraction_strategy=\"Optimised\",\n",
    "                        optimiser=\"Dephasing DMRG\",\n",
    "                        num_runs=1,\n",
    "                    )\n",
    "                    failures.append(1 - success)\n",
    "                except Exception as e:\n",
    "                    print(f\"Error: {e}\")\n",
    "                    failures.append(np.nan)\n",
    "\n",
    "            failures_statistics[NUM_BITS, CHI_MAX, ERROR_RATE] = failures"
   ]
  },
  {
   "cell_type": "code",
   "execution_count": 3,
   "metadata": {},
   "outputs": [],
   "source": [
    "failure_rates = {}\n",
    "error_bars = {}\n",
    "\n",
    "for NUM_BITS in system_sizes:\n",
    "    for CHI_MAX in max_bond_dims:\n",
    "        for ERROR_RATE in error_rates:\n",
    "            failure_rates[NUM_BITS, CHI_MAX, ERROR_RATE] = np.nanmean(\n",
    "                failures_statistics[NUM_BITS, CHI_MAX, ERROR_RATE]\n",
    "            )\n",
    "            error_bars[NUM_BITS, CHI_MAX, ERROR_RATE] = sem(\n",
    "                failures_statistics[NUM_BITS, CHI_MAX, ERROR_RATE],\n",
    "                nan_policy=\"omit\",\n",
    "            )"
   ]
  },
  {
   "cell_type": "code",
   "execution_count": 4,
   "metadata": {},
   "outputs": [
    {
     "data": {
      "image/png": "[encoded data removed]",
      "text/plain": [
       "<Figure size 500x400 with 1 Axes>"
      ]
     },
     "metadata": {},
     "output_type": "display_data"
    }
   ],
   "source": [
    "plt.figure(figsize=(5, 4))\n",
    "\n",
    "green_cmap = colormaps[\"viridis_r\"]\n",
    "norm = Normalize(vmin=0, vmax=len(max_bond_dims) - 1)\n",
    "\n",
    "for NUM_BITS in system_sizes:\n",
    "    for index, CHI_MAX in enumerate(max_bond_dims):\n",
    "        plt.errorbar(\n",
    "            error_rates,\n",
    "            [\n",
    "                failure_rates[NUM_BITS, CHI_MAX, ERROR_RATE]\n",
    "                for ERROR_RATE in error_rates\n",
    "            ],\n",
    "            yerr=[\n",
    "                error_bars[NUM_BITS, CHI_MAX, ERROR_RATE] for ERROR_RATE in error_rates\n",
    "            ],\n",
    "            fmt=\"o--\",\n",
    "            label=f\"Code parameters: {code_parameters[NUM_BITS]}, max bond dim: {CHI_MAX}\",\n",
    "            linewidth=3,\n",
    "            color=green_cmap(norm(index)),\n",
    "        )\n",
    "\n",
    "    plt.legend(fontsize=7)\n",
    "    plt.xlabel(\"Error rate\")\n",
    "    plt.ylabel(\"Failure rate\")\n",
    "    # plt.yscale(\"log\")\n",
    "    plt.grid()\n",
    "plt.show()"
   ]
  },
  {
   "cell_type": "code",
   "execution_count": null,
   "metadata": {},
   "outputs": [],
   "source": []
  }
 ],
 "metadata": {
  "kernelspec": {
   "display_name": "mdopt-ZdbamFdU-py3.10",
   "language": "python",
   "name": "python3"
  },
  "language_info": {
   "codemirror_mode": {
    "name": "ipython",
    "version": 3
   },
   "file_extension": ".py",
   "mimetype": "text/x-python",
   "name": "python",
   "nbconvert_exporter": "python",
   "pygments_lexer": "ipython3",
   "version": "3.10.16"
  },
  "orig_nbformat": 4
 },
 "nbformat": 4,
 "nbformat_minor": 2
}

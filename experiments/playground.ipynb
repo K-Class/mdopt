{
 "cells": [
  {
   "cell_type": "code",
   "execution_count": 1,
   "metadata": {},
   "outputs": [],
   "source": [
    "import os\n",
    "os.chdir('/Users/aleksandrberezutskii/Desktop/GitHub/MPOpt/')\n",
    "from mpopt.contractor.contractor import apply_one_site_unitary, apply_two_site_unitary, mps_mpo_contract\n",
    "from mpopt.mps.explicit import *\n",
    "from mpopt.utils.utils import *\n",
    "from tests.mps.test_explicit import _create_psi\n",
    "from experiments.ising import *\n",
    "import numpy as np\n",
    "import qecstruct as qec"
   ]
  },
  {
   "cell_type": "code",
   "execution_count": 2,
   "metadata": {},
   "outputs": [],
   "source": [
    "NUM_BITS = 12\n",
    "NUM_CHECKS = 9\n",
    "BIT_DEGREE = 3\n",
    "CHECK_DEGREE = 4\n",
    "# TODO prob_noise -> prob_channel\n",
    "PROB_NOISE = 0.2\n",
    "PROB_ERROR = 0.1\n",
    "if NUM_BITS / NUM_CHECKS != CHECK_DEGREE / BIT_DEGREE:\n",
    "    raise ValueError(\"The graph must be bipartite.\")\n",
    "\n",
    "# Constructing the code as a qecstruct object, preparing the state.\n",
    "example_code = qec.random_regular_code(\n",
    "    NUM_BITS, NUM_CHECKS, BIT_DEGREE, CHECK_DEGREE, qec.Rng()\n",
    ")"
   ]
  },
  {
   "cell_type": "code",
   "execution_count": 3,
   "metadata": {},
   "outputs": [],
   "source": [
    "def linear_code_checks(code):\n",
    "    \"\"\"\n",
    "    Given a linear code, returns a list of its checks, where each check\n",
    "    is represented as a list of indices of the bits adjacent to it.\n",
    "    Arguments:\n",
    "        code : qecstruct.LinearCode\n",
    "            Linear code object.\n",
    "    Returns:\n",
    "        checks : list of lists\n",
    "            List of checks.\n",
    "    \"\"\"\n",
    "\n",
    "    checks = []\n",
    "    bits = range(code.length())\n",
    "    parity_matrix = code.par_mat()\n",
    "\n",
    "    for row in parity_matrix.rows():\n",
    "        checks.append(np.flatnonzero([row.is_one_at(i) for i in bits]))\n",
    "\n",
    "    return checks"
   ]
  },
  {
   "cell_type": "code",
   "execution_count": 4,
   "metadata": {},
   "outputs": [
    {
     "data": {
      "text/plain": [
       "False"
      ]
     },
     "execution_count": 4,
     "metadata": {},
     "output_type": "execute_result"
    }
   ],
   "source": [
    "example_code.has_codeword(qec.BinaryVector(12, [0,5,6,9]))"
   ]
  },
  {
   "cell_type": "code",
   "execution_count": 5,
   "metadata": {},
   "outputs": [
    {
     "data": {
      "text/plain": [
       "[array([0, 2, 5, 9], dtype=object),\n",
       " array([1, 2, 10, 11], dtype=object),\n",
       " array([6, 7, 9, 10], dtype=object),\n",
       " array([4, 5, 7, 11], dtype=object),\n",
       " array([3, 7, 8, 11], dtype=object),\n",
       " array([0, 6, 8, 10], dtype=object),\n",
       " array([0, 2, 4, 5], dtype=object),\n",
       " array([1, 3, 8, 9], dtype=object),\n",
       " array([1, 3, 4, 6], dtype=object)]"
      ]
     },
     "execution_count": 5,
     "metadata": {},
     "output_type": "execute_result"
    }
   ],
   "source": [
    "list(map(np.array, example_code.par_mat().rows()))"
   ]
  },
  {
   "cell_type": "code",
   "execution_count": 6,
   "metadata": {},
   "outputs": [],
   "source": [
    "# TODO's\n",
    "# check out the sanity tests they have in TenPy\n",
    "# check out typing for fixing types of variables in functions\n",
    "# dtypes: complex64/32? float64/32?\n",
    "# bond dimensions check: mpss and mpos\n",
    "# compress method for mps"
   ]
  },
  {
   "cell_type": "code",
   "execution_count": 14,
   "metadata": {},
   "outputs": [
    {
     "data": {
      "text/plain": [
       "(0, 1, 0)"
      ]
     },
     "execution_count": 14,
     "metadata": {},
     "output_type": "execute_result"
    }
   ],
   "source": [
    "a = np.zeros((2,3,4))\n",
    "np.unravel_index(4, shape=a.shape)"
   ]
  },
  {
   "cell_type": "code",
   "execution_count": 7,
   "metadata": {},
   "outputs": [],
   "source": [
    "from mpopt.utils.utils import kron_tensors\n",
    "tensor_1 = np.random.uniform(size=(3, 13, 5))\n",
    "tensor_2 = np.random.uniform(size=(7, 2, 11))"
   ]
  },
  {
   "cell_type": "code",
   "execution_count": null,
   "metadata": {},
   "outputs": [],
   "source": []
  }
 ],
 "metadata": {
  "interpreter": {
   "hash": "4167d9f0fa9e3872b42e6561777e0b0007d7a50552a1e7c79ef538086916f016"
  },
  "kernelspec": {
   "display_name": "Python 3.8.12 64-bit ('base': conda)",
   "name": "python3"
  },
  "language_info": {
   "codemirror_mode": {
    "name": "ipython",
    "version": 3
   },
   "file_extension": ".py",
   "mimetype": "text/x-python",
   "name": "python",
   "nbconvert_exporter": "python",
   "pygments_lexer": "ipython3",
   "version": "3.8.12"
  },
  "orig_nbformat": 2
 },
 "nbformat": 4,
 "nbformat_minor": 2
}

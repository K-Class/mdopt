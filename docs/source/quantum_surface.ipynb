{
 "cells": [
  {
   "cell_type": "markdown",
   "metadata": {},
   "source": [
    "# Decoding Surface Code"
   ]
  },
  {
   "attachments": {},
   "cell_type": "markdown",
   "metadata": {},
   "source": [
    "In this experiment, we’ll use ``mdopt`` to decode the Surface Code. Hereafter, we assume an independent noise model as well as perfect syndrome measurements. We will create a Surface Code instance via the Hypergraph Product of two repetition codes. This example will be less pedagogical than the one with the Shor's code because we have already packaged all subroutines in a function. For a detailed overview of these subroutines the user is invited to read the Shor Code example as well as consult the appropriate code."
   ]
  },
  {
   "cell_type": "code",
   "execution_count": 1,
   "metadata": {},
   "outputs": [],
   "source": [
    "import numpy as np\n",
    "from tqdm import tqdm\n",
    "import qecstruct as qc\n",
    "from scipy.stats import sem\n",
    "import qecsim.paulitools as pt\n",
    "\n",
    "import matplotlib\n",
    "import matplotlib.pyplot as plt\n",
    "from matplotlib.colors import Normalize\n",
    "from matplotlib.ticker import FormatStrFormatter\n",
    "\n",
    "from mdopt.mps.utils import marginalise, create_custom_product_state\n",
    "from mdopt.contractor.contractor import mps_mpo_contract\n",
    "from mdopt.optimiser.utils import (\n",
    "    SWAP,\n",
    "    COPY_LEFT,\n",
    "    XOR_BULK,\n",
    "    XOR_LEFT,\n",
    "    XOR_RIGHT,\n",
    ")\n",
    "from examples.decoding.decoding import (\n",
    "    apply_constraints,\n",
    "    apply_bitflip_bias,\n",
    "    css_code_stabilisers,\n",
    "    plot_parity_check_mpo,\n",
    "    multiply_pauli_strings,\n",
    ")\n",
    "from examples.decoding.decoding import (\n",
    "    decode_css,\n",
    "    pauli_to_mps,\n",
    "    css_code_checks,\n",
    "    css_code_logicals,\n",
    "    css_code_stabilisers,\n",
    "    css_code_logicals_sites,\n",
    "    css_code_constraint_sites,\n",
    "    generate_pauli_error_string,\n",
    ")"
   ]
  },
  {
   "cell_type": "code",
   "execution_count": 2,
   "metadata": {},
   "outputs": [],
   "source": [
    "LATTICE_SIZE = 3\n",
    "rep_code = qc.repetition_code(LATTICE_SIZE)\n",
    "surface_code = qc.hypergraph_product(rep_code, rep_code)"
   ]
  },
  {
   "cell_type": "code",
   "execution_count": 5,
   "metadata": {},
   "outputs": [
    {
     "data": {
      "text/plain": [
       "X stabilizers:\n",
       "[0, 1, 9]\n",
       "[1, 2, 10]\n",
       "[3, 4, 9, 11]\n",
       "[4, 5, 10, 12]\n",
       "[6, 7, 11]\n",
       "[7, 8, 12]\n",
       "Z stabilizers:\n",
       "[0, 3, 9]\n",
       "[1, 4, 9, 10]\n",
       "[2, 5, 10]\n",
       "[3, 6, 11]\n",
       "[4, 7, 11, 12]\n",
       "[5, 8, 12]"
      ]
     },
     "execution_count": 5,
     "metadata": {},
     "output_type": "execute_result"
    }
   ],
   "source": [
    "surface_code"
   ]
  },
  {
   "cell_type": "code",
   "execution_count": 3,
   "metadata": {},
   "outputs": [
    {
     "data": {
      "text/plain": [
       "(['ZZIIIIIIIZIII',\n",
       "  'IZZIIIIIIIZII',\n",
       "  'IIIZZIIIIZIZI',\n",
       "  'IIIIZZIIIIZIZ',\n",
       "  'IIIIIIZZIIIZI',\n",
       "  'IIIIIIIZZIIIZ'],\n",
       " ['XIIXIIIIIXIII',\n",
       "  'IXIIXIIIIXXII',\n",
       "  'IIXIIXIIIIXII',\n",
       "  'IIIXIIXIIIIXI',\n",
       "  'IIIIXIIXIIIXX',\n",
       "  'IIIIIXIIXIIIX'])"
      ]
     },
     "execution_count": 3,
     "metadata": {},
     "output_type": "execute_result"
    }
   ],
   "source": [
    "css_code_stabilisers(surface_code)"
   ]
  },
  {
   "cell_type": "code",
   "execution_count": 4,
   "metadata": {},
   "outputs": [
    {
     "data": {
      "image/png": "[encoded data removed]",
      "text/plain": [
       "<Figure size 500x300 with 2 Axes>"
      ]
     },
     "metadata": {},
     "output_type": "display_data"
    }
   ],
   "source": [
    "plot_parity_check_mpo(surface_code)"
   ]
  },
  {
   "cell_type": "code",
   "execution_count": null,
   "metadata": {},
   "outputs": [],
   "source": [
    "LATTICE_SIZE = 3\n",
    "NUM_QUBITS = 2 * (LATTICE_SIZE - 1) * LATTICE_SIZE\n",
    "NUM_EXPERIMENTS = 100\n",
    "\n",
    "SEED = 123\n",
    "seed_seq = np.random.SeedSequence(SEED)\n",
    "\n",
    "max_bond_dims = [32, 16, 8, 4]\n",
    "error_rates = np.linspace(0.05, 0.25, 11)\n",
    "failures_statistics = {}\n",
    "\n",
    "rep_code = qc.repetition_code(LATTICE_SIZE)\n",
    "surface_code = qc.hypergraph_product(rep_code, rep_code)\n",
    "\n",
    "for CHI_MAX in max_bond_dims:\n",
    "    print(f\"CHI_MAX = {CHI_MAX}\")\n",
    "    for ERROR_RATE in tqdm(error_rates):\n",
    "        failures = []\n",
    "\n",
    "        for l in range(NUM_EXPERIMENTS):\n",
    "            new_seed = seed_seq.spawn(1)[0]\n",
    "            rng = np.random.default_rng(new_seed)\n",
    "            random_integer = rng.integers(1, 10**8 + 1)\n",
    "            SEED = random_integer\n",
    "\n",
    "            error = generate_pauli_error_string(\n",
    "                len(surface_code),\n",
    "                ERROR_RATE,\n",
    "                seed=SEED,\n",
    "                error_model=\"Depolarising\",\n",
    "            )\n",
    "\n",
    "            _, success = decode_css(\n",
    "                code=surface_code,\n",
    "                error=error,\n",
    "                chi_max=CHI_MAX,\n",
    "                multiply_by_stabiliser=True,\n",
    "                bias_type=\"Depolarising\",\n",
    "                bias_prob=ERROR_RATE,\n",
    "                renormalise=True,\n",
    "                silent=True,\n",
    "                contraction_strategy=\"Naive\",\n",
    "            )\n",
    "\n",
    "            failures.append(1 - success)\n",
    "\n",
    "        failures_statistics[LATTICE_SIZE, CHI_MAX, ERROR_RATE] = failures\n",
    "\n",
    "\n",
    "failure_rates = {}\n",
    "error_bars = {}\n",
    "\n",
    "for CHI_MAX in max_bond_dims:\n",
    "    for ERROR_RATE in error_rates:\n",
    "        failure_rates[LATTICE_SIZE, CHI_MAX, ERROR_RATE] = np.mean(\n",
    "            failures_statistics[LATTICE_SIZE, CHI_MAX, ERROR_RATE]\n",
    "        )\n",
    "        error_bars[LATTICE_SIZE, CHI_MAX, ERROR_RATE] = sem(\n",
    "            failures_statistics[LATTICE_SIZE, CHI_MAX, ERROR_RATE]\n",
    "        )\n",
    "\n",
    "\n",
    "plt.figure(figsize=(5, 4))\n",
    "\n",
    "green_cmap = matplotlib.colormaps[\"viridis_r\"]\n",
    "norm = Normalize(vmin=0, vmax=len(max_bond_dims) - 1)\n",
    "\n",
    "for index, CHI_MAX in enumerate(max_bond_dims):\n",
    "    plt.errorbar(\n",
    "        error_rates,\n",
    "        [\n",
    "            failure_rates[LATTICE_SIZE, CHI_MAX, ERROR_RATE]\n",
    "            for ERROR_RATE in error_rates\n",
    "        ],\n",
    "        yerr=[\n",
    "            error_bars[LATTICE_SIZE, CHI_MAX, ERROR_RATE] for ERROR_RATE in error_rates\n",
    "        ],\n",
    "        fmt=\"o--\",\n",
    "        label=f\"Lattice size: {LATTICE_SIZE}, max bond dim: {CHI_MAX}\",\n",
    "        linewidth=3,\n",
    "        color=green_cmap(norm(index)),\n",
    "    )\n",
    "\n",
    "# plt.yscale(\"log\")\n",
    "plt.legend(fontsize=7)\n",
    "plt.xlabel(\"Error rate\")\n",
    "plt.ylabel(\"Failure rate\")\n",
    "plt.grid()\n",
    "\n",
    "plt.show()"
   ]
  },
  {
   "cell_type": "code",
   "execution_count": null,
   "metadata": {},
   "outputs": [],
   "source": []
  },
  {
   "cell_type": "code",
   "execution_count": null,
   "metadata": {},
   "outputs": [],
   "source": []
  },
  {
   "cell_type": "code",
   "execution_count": null,
   "metadata": {},
   "outputs": [],
   "source": []
  },
  {
   "cell_type": "code",
   "execution_count": null,
   "metadata": {},
   "outputs": [],
   "source": [
    "LATTICE_SIZE = 3\n",
    "NUM_EXPERIMENTS = 100\n",
    "SEED = 123\n",
    "seed_seq = np.random.SeedSequence(SEED)\n",
    "\n",
    "BOND_DIM = 64\n",
    "ERROR_RATE = 0.01\n",
    "\n",
    "rep_code = qc.repetition_code(LATTICE_SIZE)\n",
    "surface_code = qc.hypergraph_product(rep_code, rep_code)\n",
    "stabilisers_x, stabilisers_z = css_code_stabilisers(surface_code)\n",
    "stabilisers = stabilisers_x + stabilisers_z\n",
    "\n",
    "errors = []\n",
    "failures = []\n",
    "\n",
    "for l in tqdm(range(NUM_EXPERIMENTS)):\n",
    "    new_seed = seed_seq.spawn(1)[0]\n",
    "    rng = np.random.default_rng(new_seed)\n",
    "    random_integer = rng.integers(1, 10**8 + 1)\n",
    "    SEED = random_integer\n",
    "\n",
    "    error = generate_pauli_error_string(\n",
    "        len(surface_code),\n",
    "        ERROR_RATE,\n",
    "        seed=SEED,\n",
    "        error_model=\"Depolarising\",\n",
    "    )\n",
    "    error = multiply_pauli_strings(error, np.random.choice(stabilisers))\n",
    "    errors.append(error)\n",
    "    error = pauli_to_mps(error)\n",
    "\n",
    "    _, success = decode_css(\n",
    "        code=surface_code,\n",
    "        error=error,\n",
    "        chi_max=CHI_MAX,\n",
    "        bias_type=\"Depolarising\",\n",
    "        bias_prob=ERROR_RATE,\n",
    "        renormalise=True,\n",
    "        silent=True,\n",
    "        contraction_strategy=\"Naive\",\n",
    "    )\n",
    "\n",
    "    failures.append(1 - success)"
   ]
  },
  {
   "cell_type": "code",
   "execution_count": null,
   "metadata": {},
   "outputs": [],
   "source": [
    "failures[7]"
   ]
  },
  {
   "cell_type": "code",
   "execution_count": null,
   "metadata": {},
   "outputs": [],
   "source": [
    "errors[7]"
   ]
  },
  {
   "cell_type": "code",
   "execution_count": null,
   "metadata": {},
   "outputs": [],
   "source": []
  },
  {
   "cell_type": "code",
   "execution_count": null,
   "metadata": {},
   "outputs": [],
   "source": []
  },
  {
   "cell_type": "code",
   "execution_count": null,
   "metadata": {},
   "outputs": [],
   "source": []
  },
  {
   "cell_type": "code",
   "execution_count": null,
   "metadata": {},
   "outputs": [],
   "source": []
  },
  {
   "cell_type": "code",
   "execution_count": null,
   "metadata": {},
   "outputs": [],
   "source": [
    "import logging\n",
    "from functools import reduce\n",
    "from typing import cast, Union, Optional, List, Tuple\n",
    "\n",
    "import numpy as np\n",
    "from tqdm import tqdm\n",
    "from matrex import msro\n",
    "from opt_einsum import contract\n",
    "from more_itertools import powerset\n",
    "from qecstruct import (\n",
    "    BinarySymmetricChannel,\n",
    "    BinaryVector,\n",
    "    LinearCode,\n",
    "    CssCode,\n",
    "    Rng,\n",
    ")\n",
    "\n",
    "from mdopt.mps.explicit import ExplicitMPS\n",
    "from mdopt.mps.canonical import CanonicalMPS\n",
    "from mdopt.mps.utils import (\n",
    "    marginalise,\n",
    "    inner_product,\n",
    "    find_orth_centre,\n",
    "    create_simple_product_state,\n",
    "    create_custom_product_state,\n",
    ")\n",
    "from mdopt.contractor.contractor import apply_one_site_operator, mps_mpo_contract\n",
    "from mdopt.optimiser.utils import XOR_LEFT, XOR_BULK, XOR_RIGHT, COPY_LEFT, SWAP\n",
    "from mdopt.optimiser.dephasing_dmrg import DephasingDMRG\n",
    "from mdopt.utils.utils import split_two_site_tensor\n",
    "from mdopt.optimiser.utils import ConstraintString\n",
    "from examples.decoding.decoding import (\n",
    "    apply_depolarising_bias,\n",
    "    apply_constraints,\n",
    "    apply_bitflip_bias,\n",
    ")"
   ]
  },
  {
   "cell_type": "code",
   "execution_count": null,
   "metadata": {},
   "outputs": [],
   "source": [
    "LATTICE_SIZE = 3\n",
    "rep_code = qc.repetition_code(LATTICE_SIZE)\n",
    "code = qc.hypergraph_product(rep_code, rep_code)\n",
    "stabilisers_x, stabilisers_z = css_code_stabilisers(surface_code)\n",
    "stabilisers = stabilisers_x + stabilisers_z\n",
    "\n",
    "# error = 'IIXIIXIIIIXII'\n",
    "error = generate_pauli_error_string(\n",
    "    len(surface_code),\n",
    "    0.3,\n",
    "    seed=123,\n",
    "    error_model=\"Depolarising\",\n",
    ")\n",
    "print(error)\n",
    "error = pauli_to_mps(error)"
   ]
  },
  {
   "cell_type": "code",
   "execution_count": null,
   "metadata": {},
   "outputs": [],
   "source": [
    "for size in [2, 3, 4, 5, 6, 7, 8, 9, 10]:\n",
    "    rep_code = qc.repetition_code(size)\n",
    "    code = qc.hypergraph_product(rep_code, rep_code)\n",
    "    print(len(code))"
   ]
  },
  {
   "cell_type": "code",
   "execution_count": null,
   "metadata": {},
   "outputs": [],
   "source": [
    "num_sites = 2 * len(code) + code.num_x_logicals() + code.num_z_logicals()\n",
    "num_logicals = code.num_x_logicals() + code.num_z_logicals()"
   ]
  },
  {
   "cell_type": "code",
   "execution_count": null,
   "metadata": {},
   "outputs": [],
   "source": [
    "logicals_state = \"+\" * num_logicals\n",
    "state_string = logicals_state + error\n",
    "error_mps = create_custom_product_state(string=state_string)"
   ]
  },
  {
   "cell_type": "code",
   "execution_count": null,
   "metadata": {},
   "outputs": [],
   "source": [
    "constraints_tensors = [XOR_LEFT, XOR_BULK, SWAP, XOR_RIGHT]\n",
    "logicals_tensors = [COPY_LEFT, XOR_BULK, SWAP, XOR_RIGHT]"
   ]
  },
  {
   "cell_type": "code",
   "execution_count": null,
   "metadata": {},
   "outputs": [],
   "source": [
    "constraints_sites = css_code_constraint_sites(code)\n",
    "logicals_sites = css_code_logicals_sites(code)\n",
    "sites_to_bias = list(range(num_logicals, num_sites))"
   ]
  },
  {
   "cell_type": "code",
   "execution_count": null,
   "metadata": {},
   "outputs": [],
   "source": [
    "error_mps = apply_depolarising_bias(\n",
    "    mps=error_mps,\n",
    "    sites_to_bias=sites_to_bias,\n",
    "    prob_bias_list=0.1,\n",
    "    renormalise=True,\n",
    ")"
   ]
  },
  {
   "cell_type": "code",
   "execution_count": null,
   "metadata": {},
   "outputs": [],
   "source": [
    "error_mps = apply_constraints(\n",
    "    error_mps,\n",
    "    constraints_sites[0],\n",
    "    constraints_tensors,\n",
    "    chi_max=CHI_MAX,\n",
    "    renormalise=True,\n",
    "    silent=False,\n",
    "    strategy=\"Optimised\",\n",
    "    result_to_explicit=False,\n",
    ")"
   ]
  },
  {
   "cell_type": "code",
   "execution_count": null,
   "metadata": {},
   "outputs": [],
   "source": [
    "error_mps = apply_constraints(\n",
    "    error_mps,\n",
    "    constraints_sites[1],\n",
    "    constraints_tensors,\n",
    "    chi_max=CHI_MAX,\n",
    "    renormalise=True,\n",
    "    silent=False,\n",
    "    strategy=\"Optimised\",\n",
    "    result_to_explicit=False,\n",
    ")"
   ]
  },
  {
   "cell_type": "code",
   "execution_count": null,
   "metadata": {},
   "outputs": [],
   "source": [
    "error_mps = apply_constraints(\n",
    "    error_mps,\n",
    "    logicals_sites,\n",
    "    logicals_tensors,\n",
    "    chi_max=CHI_MAX,\n",
    "    renormalise=True,\n",
    "    silent=False,\n",
    "    strategy=\"Optimised\",\n",
    "    result_to_explicit=False,\n",
    ")"
   ]
  },
  {
   "cell_type": "code",
   "execution_count": null,
   "metadata": {},
   "outputs": [],
   "source": [
    "sites_to_marginalise = list(range(num_logicals, len(error) + num_logicals))\n",
    "logical_mps = marginalise(\n",
    "    mps=error_mps,\n",
    "    sites_to_marginalise=sites_to_marginalise,\n",
    ")"
   ]
  },
  {
   "cell_type": "code",
   "execution_count": null,
   "metadata": {},
   "outputs": [],
   "source": [
    "logical_mps.dense(flatten=True, renormalise=True, norm=1)"
   ]
  },
  {
   "cell_type": "code",
   "execution_count": null,
   "metadata": {},
   "outputs": [],
   "source": []
  }
 ],
 "metadata": {
  "kernelspec": {
   "display_name": "mdopt-ZdbamFdU-py3.11",
   "language": "python",
   "name": "python3"
  },
  "language_info": {
   "codemirror_mode": {
    "name": "ipython",
    "version": 3
   },
   "file_extension": ".py",
   "mimetype": "text/x-python",
   "name": "python",
   "nbconvert_exporter": "python",
   "pygments_lexer": "ipython3",
   "version": "3.10.13"
  },
  "orig_nbformat": 4,
  "vscode": {
   "interpreter": {
    "hash": "64c06a7280c9749d5771a76ca6109d7df6b2615ddb3b9b0828f83fb315c7f8a2"
   }
  }
 },
 "nbformat": 4,
 "nbformat_minor": 2
}

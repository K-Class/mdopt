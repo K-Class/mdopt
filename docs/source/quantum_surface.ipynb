{
 "cells": [
  {
   "cell_type": "markdown",
   "metadata": {},
   "source": [
    "# Decoding the Surface Code"
   ]
  },
  {
   "cell_type": "markdown",
   "metadata": {},
   "source": [
    "In this experiment, we decode the Surface code which protects a single qubit from all types of errors by using ``mdopt``. Here, we demonstrate direct-error input decoding, which means that the decoder takes a Pauli error as input and outputs the most likely logical operator. This pipeline is sufficient for threshold computation. In reality, the decoder could be shown a syndrome measurement, from which possible error patterns would be sampled. After each run, the algorithm yields a probability distribution over the Pauli operators (I, X, Z, Y) to apply to the encoded logical qubit. Hereafter, we assume an independent noise model as well as perfect syndrome measurements. We will create a Surface Code instance via the Hypergraph Product of two repetition codes since this construction yields a 2D lattice with stabilizers suitable for the Surface Code's structure."
   ]
  },
  {
   "cell_type": "code",
   "execution_count": 1,
   "metadata": {},
   "outputs": [],
   "source": [
    "import sys\n",
    "\n",
    "sys.path.append(\"../\")\n",
    "sys.path.append(\"../..\")\n",
    "\n",
    "import numpy as np\n",
    "import qecstruct as qc\n",
    "import qecsim.paulitools as pt\n",
    "import matplotlib.pyplot as plt\n",
    "from matplotlib import colormaps\n",
    "from matplotlib.colors import LogNorm, Normalize\n",
    "from matplotlib.ticker import FuncFormatter, FormatStrFormatter\n",
    "from tqdm import tqdm\n",
    "from scipy.stats import sem\n",
    "\n",
    "from mdopt.mps.utils import create_custom_product_state\n",
    "from mdopt.contractor.contractor import mps_mpo_contract\n",
    "from mdopt.optimiser.utils import (\n",
    "    SWAP,\n",
    "    COPY_LEFT,\n",
    "    XOR_BULK,\n",
    "    XOR_LEFT,\n",
    "    XOR_RIGHT,\n",
    ")\n",
    "\n",
    "from examples.decoding.decoding import (\n",
    "    css_code_checks,\n",
    "    css_code_logicals,\n",
    "    css_code_logicals_sites,\n",
    "    css_code_constraint_sites,\n",
    "    apply_constraints,\n",
    "    apply_bitflip_bias,\n",
    "    apply_depolarising_bias,\n",
    "    decode_custom,\n",
    "    pauli_to_mps,\n",
    "    decode_css,\n",
    "    css_code_stabilisers,\n",
    "    multiply_pauli_strings,\n",
    "    map_distribution_to_pauli,\n",
    "    generate_pauli_error_string,\n",
    ")\n",
    "from examples.decoding.visualisation import plot_parity_check_mpo"
   ]
  },
  {
   "cell_type": "markdown",
   "metadata": {},
   "source": [
    "Let us first import the code from `qecstruct` and take a look at it. Here, we will be looking at a 3x3 system."
   ]
  },
  {
   "cell_type": "code",
   "execution_count": 2,
   "metadata": {},
   "outputs": [
    {
     "name": "stdout",
     "output_type": "stream",
     "text": [
      "X stabilizers:\n",
      "[0, 1, 9]\n",
      "[1, 2, 10]\n",
      "[3, 4, 9, 11]\n",
      "[4, 5, 10, 12]\n",
      "[6, 7, 11]\n",
      "[7, 8, 12]\n",
      "Z stabilizers:\n",
      "[0, 3, 9]\n",
      "[1, 4, 9, 10]\n",
      "[2, 5, 10]\n",
      "[3, 6, 11]\n",
      "[4, 7, 11, 12]\n",
      "[5, 8, 12]\n",
      "\n",
      "The X logical:  [2, 5, 8]\n",
      "\n",
      "The Z logical:  [0, 1, 2]\n",
      "\n"
     ]
    }
   ],
   "source": [
    "LATTICE_SIZE = 3\n",
    "rep_code = qc.repetition_code(LATTICE_SIZE)\n",
    "code = qc.hypergraph_product(rep_code, rep_code)\n",
    "print(code)\n",
    "print(\"The X logical: \", code.x_logicals_binary())\n",
    "print(\"The Z logical: \", code.z_logicals_binary())"
   ]
  },
  {
   "cell_type": "markdown",
   "metadata": {},
   "source": [
    "This quantum error correcting code is defined on $2 * L * (L-1) + 1 = 13$ (where $L$ is the lattice size and an extra qubit handles the boundary conditions) physical qubits and has $2$ logical operators because it encodes $1$ logical qubit. This means we will need $13*2 + 2 = 28$ sites in our MPS."
   ]
  },
  {
   "cell_type": "code",
   "execution_count": null,
   "metadata": {},
   "outputs": [],
   "source": [
    "num_logicals = code.num_x_logicals() + code.num_z_logicals()\n",
    "num_sites = 2 * len(code) + num_logicals\n",
    "\n",
    "assert num_sites == 28\n",
    "assert num_logicals == 2"
   ]
  },
  {
   "cell_type": "markdown",
   "metadata": {},
   "source": [
    "Now, let us define the initial state. First of all we will check that no error implies no correction. This means starting from the all-zero state followed by decoding will return the all-zero state for the logical operators (the final logical operator will thus be identity operator). Thus, we start from the all-zero state for the error and the $|+\\rangle$ state for the logicals."
   ]
  },
  {
   "cell_type": "code",
   "execution_count": null,
   "metadata": {},
   "outputs": [],
   "source": [
    "error_state = \"0\" * (num_sites - num_logicals)\n",
    "logicals_state = \"+\" * num_logicals\n",
    "state_string = logicals_state + error_state\n",
    "error_mps = create_custom_product_state(\n",
    "    string=state_string, tolerance=1e-17, form=\"Right-canonical\"\n",
    ")"
   ]
  },
  {
   "cell_type": "markdown",
   "metadata": {},
   "source": [
    "Here, we get the sites where the checks will be applied. We will need to construct MPOs using this data."
   ]
  },
  {
   "cell_type": "code",
   "execution_count": null,
   "metadata": {},
   "outputs": [],
   "source": [
    "checks_x, checks_z = css_code_checks(code)\n",
    "print(\"X checks:\")\n",
    "for check in checks_x:\n",
    "    print(check)\n",
    "print(\"Z checks:\")\n",
    "for check in checks_z:\n",
    "    print(check)"
   ]
  },
  {
   "cell_type": "markdown",
   "metadata": {},
   "source": [
    "These lists display the sites where we will apply the XOR constraints. However, the MPOs will also consist of other tensors, such as SWAPs (a.k.a. the tensors' legs crossings) and boundary XOR constraints. In what follows, we define the list of these auxiliary tensors and the corresponding sites where they reside."
   ]
  },
  {
   "cell_type": "code",
   "execution_count": null,
   "metadata": {},
   "outputs": [],
   "source": [
    "constraints_tensors = [XOR_LEFT, XOR_BULK, SWAP, XOR_RIGHT]\n",
    "logicals_tensors = [COPY_LEFT, XOR_BULK, SWAP, XOR_RIGHT]"
   ]
  },
  {
   "cell_type": "code",
   "execution_count": null,
   "metadata": {},
   "outputs": [],
   "source": [
    "constraint_sites = css_code_constraint_sites(code)\n",
    "print(\"Full X-check lists of sites:\")\n",
    "for string in constraint_sites[0]:\n",
    "    print(string)\n",
    "print(\"Full Z-check lists of sites:\")\n",
    "for string in constraint_sites[1]:\n",
    "    print(string)"
   ]
  },
  {
   "cell_type": "markdown",
   "metadata": {},
   "source": [
    "Let us now again take a look at the logical operators."
   ]
  },
  {
   "cell_type": "code",
   "execution_count": null,
   "metadata": {},
   "outputs": [],
   "source": [
    "print(code.x_logicals_binary())\n",
    "print(code.z_logicals_binary())"
   ]
  },
  {
   "cell_type": "markdown",
   "metadata": {},
   "source": [
    "We need to again translate them to our MPO language by changing the indices since we add the logical sites at the beginning of the MPS."
   ]
  },
  {
   "cell_type": "code",
   "execution_count": null,
   "metadata": {},
   "outputs": [],
   "source": [
    "print(css_code_logicals(code)[0])\n",
    "print(css_code_logicals(code)[1])"
   ]
  },
  {
   "cell_type": "markdown",
   "metadata": {},
   "source": [
    "Now goes the same operation of adding sites where auxiliary tensors should be placed."
   ]
  },
  {
   "cell_type": "code",
   "execution_count": null,
   "metadata": {},
   "outputs": [],
   "source": [
    "logicals_sites = css_code_logicals_sites(code)\n",
    "print(css_code_logicals_sites(code)[0])\n",
    "print(css_code_logicals_sites(code)[1])"
   ]
  },
  {
   "cell_type": "markdown",
   "metadata": {},
   "source": [
    "Now the fun part, MPS-MPO contraction. But first, we apply the bias channel to our error state. This is done to bias our output towards the received input. This is done by distributing the amplitude around the initial basis product state to other basis product states in the descending order by Hamming distance."
   ]
  },
  {
   "cell_type": "code",
   "execution_count": null,
   "metadata": {},
   "outputs": [],
   "source": [
    "renormalise = True\n",
    "sites_to_bias = list(range(num_logicals, num_sites))\n",
    "error_mps = apply_bitflip_bias(\n",
    "    mps=error_mps,\n",
    "    prob_bias_list=0.1,\n",
    "    sites_to_bias=sites_to_bias,\n",
    ")"
   ]
  },
  {
   "cell_type": "code",
   "execution_count": null,
   "metadata": {},
   "outputs": [],
   "source": [
    "entropies, bond_dims = [], []\n",
    "\n",
    "# for the X and the Z logicals\n",
    "for i in [0, 1]:\n",
    "    error_mps, entrps, bnd_dims = apply_constraints(\n",
    "        error_mps,\n",
    "        logicals_sites[i],\n",
    "        logicals_tensors,\n",
    "        chi_max=1e4,\n",
    "        cut=0,\n",
    "        renormalise=renormalise,\n",
    "        strategy=\"Optimised\",\n",
    "        return_entropies_and_bond_dims=True,\n",
    "    )\n",
    "    entropies += entrps\n",
    "    bond_dims += bnd_dims\n",
    "\n",
    "# for the X and the Z checks\n",
    "for i in [0, 1]:\n",
    "    error_mps, entrps, bnd_dims = apply_constraints(\n",
    "        error_mps,\n",
    "        constraint_sites[i],\n",
    "        constraints_tensors,\n",
    "        chi_max=1e4,\n",
    "        cut=0,\n",
    "        renormalise=renormalise,\n",
    "        strategy=\"Optimised\",\n",
    "        return_entropies_and_bond_dims=True,\n",
    "    )\n",
    "    entropies += entrps\n",
    "    bond_dims += bnd_dims"
   ]
  },
  {
   "cell_type": "markdown",
   "metadata": {},
   "source": [
    "Let us now take a look at how the bond dimensions and entropies behave throughout the decoding process while applying the parity checks."
   ]
  },
  {
   "cell_type": "code",
   "execution_count": null,
   "metadata": {},
   "outputs": [],
   "source": [
    "plt.figure(figsize=(4, 3))\n",
    "plt.imshow(entropies, cmap=\"viridis\")\n",
    "plt.colorbar(label=\"Entropy\")\n",
    "plt.xlabel(\"Site number\")\n",
    "plt.ylabel(\"Time ←\")\n",
    "plt.show()"
   ]
  },
  {
   "cell_type": "code",
   "execution_count": null,
   "metadata": {},
   "outputs": [],
   "source": [
    "plt.figure(figsize=(4, 3))\n",
    "plt.imshow(bond_dims, cmap=\"viridis\", norm=LogNorm(vmin=2**1, vmax=2**13))\n",
    "cbar = plt.colorbar(\n",
    "    label=\"Bond dimension\",\n",
    "    format=FuncFormatter(lambda x, pos: f\"$2^{{{int(np.log2(x))}}}$\"),\n",
    "    ticks=[2**i for i in range(1, 14, 3)],\n",
    ")\n",
    "plt.ylabel(\"Time ←\")\n",
    "plt.xlabel(\"Site number\")\n",
    "plt.show()"
   ]
  },
  {
   "cell_type": "markdown",
   "metadata": {},
   "source": [
    "Let's now take a look at how the truncation error behaves for different bond dimension cutoffs. First, let's look at the bond dimensions appearing in the MPS if we do not impose any truncation."
   ]
  },
  {
   "cell_type": "code",
   "execution_count": null,
   "metadata": {},
   "outputs": [],
   "source": [
    "print(error_mps.bond_dimensions)"
   ]
  },
  {
   "cell_type": "code",
   "execution_count": null,
   "metadata": {},
   "outputs": [],
   "source": [
    "bond_dims = [np.inf, 2048, 1024, 512, 256, 128, 64, 32, 16, 8, 4]\n",
    "inv_bond_dims = [1 / bd for bd in bond_dims]\n",
    "errors = []\n",
    "for chi in tqdm(bond_dims):\n",
    "    errors.append(\n",
    "        np.linalg.norm(\n",
    "            error_mps.compress(\n",
    "                chi_max=chi, renormalise=True, return_truncation_errors=True\n",
    "            )[1]\n",
    "        )\n",
    "    )"
   ]
  },
  {
   "cell_type": "code",
   "execution_count": null,
   "metadata": {},
   "outputs": [],
   "source": [
    "plt.figure(figsize=(4, 3))\n",
    "plt.plot(inv_bond_dims, errors, marker=\"o\", label=\"Truncation Error\")\n",
    "plt.xlabel(\"Inverse Max Bond Dimension\")\n",
    "plt.ylabel(\"Truncation Error\")\n",
    "plt.grid(True)\n",
    "plt.yscale(\"log\")\n",
    "plt.legend()\n",
    "plt.show()"
   ]
  },
  {
   "cell_type": "markdown",
   "metadata": {},
   "source": [
    "Now, we marginalise over the message bits to get the probability distribution over the four possibilities of a logical operator: $I$, $X$, $Z$, $Y$."
   ]
  },
  {
   "cell_type": "code",
   "execution_count": null,
   "metadata": {},
   "outputs": [],
   "source": [
    "sites_to_marginalise = list(range(num_logicals, len(error_state) + num_logicals))\n",
    "logical = error_mps.marginal(sites_to_marginalise=sites_to_marginalise).dense(\n",
    "    flatten=True, renormalise=True, norm=1\n",
    ")\n",
    "print(logical)"
   ]
  },
  {
   "cell_type": "markdown",
   "metadata": {},
   "source": [
    "For the record, we're hunting for the most likely logical operator to be the identity operator. So that's it, we see the biggest probability assigned to the identity operator. Let's see how the probabilities of the four operators change as we change the bond dimension cutoff."
   ]
  },
  {
   "cell_type": "code",
   "execution_count": null,
   "metadata": {},
   "outputs": [],
   "source": [
    "strategy = \"Optimised\"\n",
    "logical_values = [[] for _ in range(4)]\n",
    "\n",
    "for max_bond_dim in tqdm(bond_dims):\n",
    "    error_state = \"0\" * (num_sites - num_logicals)\n",
    "    logicals_state = \"+\" * num_logicals\n",
    "    state_string = logicals_state + error_state\n",
    "    error_mps = create_custom_product_state(\n",
    "        string=state_string, tolerance=1e-17, form=\"Right-canonical\"\n",
    "    )\n",
    "\n",
    "    error_mps = apply_bitflip_bias(\n",
    "        mps=error_mps,\n",
    "        prob_bias_list=0.1,\n",
    "        sites_to_bias=sites_to_bias,\n",
    "    )\n",
    "    for i in [0, 1]:\n",
    "        error_mps = apply_constraints(\n",
    "            error_mps,\n",
    "            logicals_sites[i],\n",
    "            logicals_tensors,\n",
    "            renormalise=renormalise,\n",
    "            strategy=strategy,\n",
    "            chi_max=max_bond_dim,\n",
    "            cut=1e-17,\n",
    "            silent=True,\n",
    "        )\n",
    "    for i in [0, 1]:\n",
    "        error_mps = apply_constraints(\n",
    "            error_mps,\n",
    "            constraint_sites[i],\n",
    "            constraints_tensors,\n",
    "            renormalise=renormalise,\n",
    "            strategy=strategy,\n",
    "            chi_max=max_bond_dim,\n",
    "            cut=1e-17,\n",
    "            silent=True,\n",
    "        )\n",
    "\n",
    "    sites_to_marginalise = list(range(num_logicals, len(error_state) + num_logicals))\n",
    "    logical = error_mps.marginal(sites_to_marginalise=sites_to_marginalise).dense(\n",
    "        flatten=True, renormalise=True, norm=1\n",
    "    )\n",
    "\n",
    "    for i in range(4):\n",
    "        logical_values[i].append(logical[i])"
   ]
  },
  {
   "cell_type": "code",
   "execution_count": null,
   "metadata": {},
   "outputs": [],
   "source": [
    "plt.figure(figsize=(4, 3))\n",
    "plt.plot(inv_bond_dims, logical_values[0], marker=\"o\", label=f\"Pr(I)\")\n",
    "plt.xlabel(\"Inverse Max Bond Dimension\")\n",
    "plt.ylabel(\"Logical Value\")\n",
    "plt.title(\"Logical Values vs Bond Dimension (Optimised)\")\n",
    "plt.grid(True)\n",
    "plt.legend()\n",
    "plt.show()"
   ]
  },
  {
   "cell_type": "code",
   "execution_count": null,
   "metadata": {},
   "outputs": [],
   "source": [
    "plt.figure(figsize=(4, 3))\n",
    "plt.plot(inv_bond_dims, logical_values[1], marker=\"o\", label=f\"Pr(X)\")\n",
    "plt.plot(inv_bond_dims, logical_values[2], marker=\"o\", label=f\"Pr(Z)\")\n",
    "plt.plot(inv_bond_dims, logical_values[3], marker=\"o\", label=f\"Pr(Y)\")\n",
    "plt.xlabel(\"Inverse Max Bond Dimension\")\n",
    "plt.ylabel(\"Logical Value\")\n",
    "plt.title(\"Logical Values vs Bond Dimension (Optimised)\")\n",
    "plt.grid(True)\n",
    "plt.legend()\n",
    "plt.show()"
   ]
  },
  {
   "cell_type": "markdown",
   "metadata": {},
   "source": [
    "Let's now put all of this into a function. We'll need this to run the decoder over a bunch of single- and multiqubit errors. For this, we first generate all possible one-qubit errors and 100 two-qubit errors using `qecsim`."
   ]
  },
  {
   "cell_type": "code",
   "execution_count": null,
   "metadata": {},
   "outputs": [],
   "source": [
    "one_qubit_paulis = list(pt.ipauli(n_qubits=len(code), min_weight=1, max_weight=1))\n",
    "two_qubit_paulis = list(pt.ipauli(n_qubits=len(code), min_weight=2, max_weight=2))[:99]"
   ]
  },
  {
   "cell_type": "code",
   "execution_count": null,
   "metadata": {},
   "outputs": [],
   "source": [
    "one_qubit_outputs = [\n",
    "    decode_css(\n",
    "        code,\n",
    "        error,\n",
    "        renormalise=renormalise,\n",
    "        silent=True,\n",
    "        bias_prob=0,\n",
    "    )\n",
    "    for error in tqdm(one_qubit_paulis)\n",
    "]\n",
    "one_qubit_corrections_distribution = [output[0] for output in one_qubit_outputs]"
   ]
  },
  {
   "cell_type": "code",
   "execution_count": null,
   "metadata": {},
   "outputs": [],
   "source": [
    "two_qubit_outputs = [\n",
    "    decode_css(\n",
    "        code,\n",
    "        error,\n",
    "        renormalise=renormalise,\n",
    "        silent=True,\n",
    "        bias_prob=0.001,\n",
    "    )\n",
    "    for error in tqdm(two_qubit_paulis[:20])\n",
    "]\n",
    "two_qubit_corrections_distribution = [output[0] for output in two_qubit_outputs]"
   ]
  },
  {
   "cell_type": "code",
   "execution_count": null,
   "metadata": {},
   "outputs": [],
   "source": [
    "plt.hist(map_distribution_to_pauli(one_qubit_corrections_distribution))\n",
    "plt.show()"
   ]
  },
  {
   "cell_type": "code",
   "execution_count": null,
   "metadata": {},
   "outputs": [],
   "source": [
    "plt.hist(map_distribution_to_pauli(two_qubit_corrections_distribution))\n",
    "plt.show()"
   ]
  },
  {
   "cell_type": "markdown",
   "metadata": {},
   "source": [
    "Let's now check by hand that some of the decoder's nontrivial outputs are indeed correct. First of all, from all one-qubit errors we get the Identity operator which corresponds to the fact that the surface code of distance $d$ (equal to 3 in our case) corrects errors on up to $ \\lfloor \\frac{d-1}{2} \\rfloor $ qubits. However, some of the two-qubit errors can be corrected as well. Let's check some of them. For this, let's take a look at the first 20 errors which result in the Identity logical operator as the output."
   ]
  },
  {
   "cell_type": "code",
   "execution_count": null,
   "metadata": {},
   "outputs": [],
   "source": [
    "limit = 20\n",
    "for i, correction in enumerate(\n",
    "    map_distribution_to_pauli(two_qubit_corrections_distribution)\n",
    "):\n",
    "    if correction == \"I\":\n",
    "        print(two_qubit_paulis[i])\n",
    "    if i > limit:\n",
    "        break"
   ]
  },
  {
   "cell_type": "markdown",
   "metadata": {},
   "source": [
    "To be able to track which parity check is triggered by which error, let's plot the tensor network we are building."
   ]
  },
  {
   "cell_type": "code",
   "execution_count": null,
   "metadata": {},
   "outputs": [],
   "source": [
    "plot_parity_check_mpo(code)"
   ]
  },
  {
   "cell_type": "markdown",
   "metadata": {},
   "source": [
    "We now want to dive a bit more into what is happening inside the decoder to be able to better understand the results. For example, the first error $(X_0 X_1)$ from the list above would trigger the first two $X$ parity checks. In the current setup the stabilisers are being set to $0$, which is the result of the fact that the $\\text{XOR}$ tensors we use project out the inputs of odd (i.e., equal to $1$) parity. After applying the logical-operator MPOs and performing marginalization, the process yields a marginal distribution over codewords, each reflecting different parities of the logical operators."
   ]
  },
  {
   "cell_type": "markdown",
   "metadata": {},
   "source": [
    "Let's now take a look at the errors which result in the $X$ logical operator as the output."
   ]
  },
  {
   "cell_type": "code",
   "execution_count": null,
   "metadata": {},
   "outputs": [],
   "source": [
    "for i, correction in enumerate(\n",
    "    map_distribution_to_pauli(two_qubit_corrections_distribution)\n",
    "):\n",
    "    if correction == \"X\":\n",
    "        print(two_qubit_paulis[i])"
   ]
  },
  {
   "cell_type": "markdown",
   "metadata": {},
   "source": [
    "Similarly to the previous case, the first error $(Z_0 X_1)$ from the list above would trigger the first $X$ parity check which in its turn would trigger the $\\text{XOR}$ tensor corresponding to the $X$ logical-operator MPO therefore the $X$ logical as the most likely output."
   ]
  },
  {
   "cell_type": "markdown",
   "metadata": {},
   "source": [
    "Finally, let's take a look at how the MPO order optimisation looks visually and test the truncation effects."
   ]
  },
  {
   "cell_type": "code",
   "execution_count": null,
   "metadata": {},
   "outputs": [],
   "source": [
    "LATTICE_SIZE = 3\n",
    "rep_code = qc.repetition_code(LATTICE_SIZE)\n",
    "surface_code = qc.hypergraph_product(rep_code, rep_code)\n",
    "\n",
    "mpo_matrix_full_unoptimised = plot_parity_check_mpo(\n",
    "    surface_code, optimise_order=False, return_matrix=True, plot_type=\"both\"\n",
    ")\n",
    "\n",
    "mpo_matrix_xpart = plot_parity_check_mpo(\n",
    "    surface_code, optimise_order=False, return_matrix=True, plot_type=\"X\"\n",
    ")\n",
    "\n",
    "mpo_matrix_zpart = plot_parity_check_mpo(\n",
    "    surface_code, optimise_order=False, return_matrix=True, plot_type=\"Z\"\n",
    ")\n",
    "\n",
    "mpo_matrix_full = plot_parity_check_mpo(\n",
    "    surface_code, optimise_order=True, return_matrix=True, plot_type=\"both\"\n",
    ")"
   ]
  },
  {
   "cell_type": "code",
   "execution_count": null,
   "metadata": {},
   "outputs": [],
   "source": [
    "LATTICE_SIZE = 3\n",
    "NUM_QUBITS = 2 * (LATTICE_SIZE - 1) * LATTICE_SIZE\n",
    "NUM_EXPERIMENTS = 1000\n",
    "\n",
    "SEED = 123\n",
    "seed_seq = np.random.SeedSequence(SEED)\n",
    "errors = {}\n",
    "\n",
    "max_bond_dims = [128, 64, 32, 16, 8, 4]\n",
    "error_rates = np.arange(0.01, 0.21, 0.02)\n",
    "failures_statistics = {}\n",
    "\n",
    "rep_code = qc.repetition_code(LATTICE_SIZE)\n",
    "surface_code = qc.hypergraph_product(rep_code, rep_code)\n",
    "\n",
    "for ERROR_RATE in error_rates:\n",
    "    errors[LATTICE_SIZE, ERROR_RATE] = []\n",
    "    for l in range(NUM_EXPERIMENTS):\n",
    "        rng = np.random.default_rng(seed_seq.spawn(1)[0])\n",
    "\n",
    "        error = generate_pauli_error_string(\n",
    "            len(surface_code),\n",
    "            ERROR_RATE,\n",
    "            rng=rng,\n",
    "            error_model=\"Bitflip\",\n",
    "        )\n",
    "        errors[LATTICE_SIZE, ERROR_RATE].append(error)\n",
    "\n",
    "for CHI_MAX in max_bond_dims:\n",
    "    print(f\"CHI_MAX = {CHI_MAX}\")\n",
    "    for ERROR_RATE in tqdm(error_rates):\n",
    "        failures = []\n",
    "\n",
    "        for l in range(NUM_EXPERIMENTS):\n",
    "            error = errors[LATTICE_SIZE, ERROR_RATE][l]\n",
    "            _, success = decode_css(\n",
    "                code=surface_code,\n",
    "                error=error,\n",
    "                chi_max=CHI_MAX,\n",
    "                multiply_by_stabiliser=False,\n",
    "                bias_type=\"Bitflip\",\n",
    "                bias_prob=0.1,\n",
    "                tolerance=1e-8,\n",
    "                cut=1e-8,\n",
    "                renormalise=True,\n",
    "                silent=True,\n",
    "                contraction_strategy=\"Optimised\",\n",
    "            )\n",
    "            failures.append(1 - success)\n",
    "\n",
    "        failures_statistics[LATTICE_SIZE, CHI_MAX, ERROR_RATE] = failures"
   ]
  },
  {
   "cell_type": "code",
   "execution_count": null,
   "metadata": {},
   "outputs": [],
   "source": [
    "failure_rates = {}\n",
    "error_bars = {}\n",
    "\n",
    "for CHI_MAX in max_bond_dims:\n",
    "    for ERROR_RATE in error_rates:\n",
    "        failure_rates[LATTICE_SIZE, CHI_MAX, ERROR_RATE] = np.mean(\n",
    "            failures_statistics[LATTICE_SIZE, CHI_MAX, ERROR_RATE]\n",
    "        )\n",
    "        error_bars[LATTICE_SIZE, CHI_MAX, ERROR_RATE] = sem(\n",
    "            failures_statistics[LATTICE_SIZE, CHI_MAX, ERROR_RATE]\n",
    "        )"
   ]
  },
  {
   "cell_type": "code",
   "execution_count": null,
   "metadata": {},
   "outputs": [],
   "source": [
    "plt.figure(figsize=(5, 4))\n",
    "\n",
    "green_cmap = colormaps[\"viridis_r\"]\n",
    "norm = Normalize(vmin=0, vmax=len(max_bond_dims) - 1)\n",
    "\n",
    "for index, CHI_MAX in enumerate(max_bond_dims):\n",
    "    plt.errorbar(\n",
    "        error_rates,\n",
    "        [\n",
    "            failure_rates[LATTICE_SIZE, CHI_MAX, ERROR_RATE]\n",
    "            for ERROR_RATE in error_rates\n",
    "        ],\n",
    "        yerr=[\n",
    "            error_bars[LATTICE_SIZE, CHI_MAX, ERROR_RATE] for ERROR_RATE in error_rates\n",
    "        ],\n",
    "        fmt=\"o--\",\n",
    "        label=f\"Lattice size: {LATTICE_SIZE}, max bond dim: {CHI_MAX}\",\n",
    "        linewidth=3,\n",
    "        color=green_cmap(norm(index)),\n",
    "    )\n",
    "\n",
    "plt.legend(fontsize=7)\n",
    "plt.xlabel(\"Error rate\")\n",
    "plt.ylabel(\"Failure rate\")\n",
    "plt.grid()\n",
    "plt.show()"
   ]
  },
  {
   "cell_type": "markdown",
   "metadata": {},
   "source": [
    "Great, so, we see the convergence in bond dimension (given bitflip noise, we converege to optimal decoding at the bond dimension equal to $2^6$ where $6$ is the maximum number of leg crossings encountered while applying MPOs, thus the curves with bond dimensions $2^6$ and $2^7$ are identically the same). Besides, we see how the curve moves to the right as we increase the bond dimension cutoff which is expected behaviour."
   ]
  },
  {
   "cell_type": "markdown",
   "metadata": {},
   "source": [
    "Let us now look at the threshold behaviour while we scale the system."
   ]
  },
  {
   "cell_type": "code",
   "execution_count": 2,
   "metadata": {},
   "outputs": [
    {
     "name": "stderr",
     "output_type": "stream",
     "text": [
      "Error rate=0.17, Bias=0.1, Tol=1e-17, Cut=1e-17, Chi=10, L=11:  46%|████▌     | 23/50 [04:16<05:01, 11.15s/it]\n"
     ]
    },
    {
     "ename": "KeyboardInterrupt",
     "evalue": "",
     "output_type": "error",
     "traceback": [
      "\u001b[0;31m---------------------------------------------------------------------------\u001b[0m",
      "\u001b[0;31mKeyboardInterrupt\u001b[0m                         Traceback (most recent call last)",
      "Cell \u001b[0;32mIn[2], line 53\u001b[0m\n\u001b[1;32m     51\u001b[0m error \u001b[38;5;241m=\u001b[39m errors[LATTICE_SIZE, ERROR_RATE][l]\n\u001b[1;32m     52\u001b[0m \u001b[38;5;28;01mtry\u001b[39;00m:\n\u001b[0;32m---> 53\u001b[0m     _, success \u001b[38;5;241m=\u001b[39m \u001b[43mdecode_css\u001b[49m\u001b[43m(\u001b[49m\n\u001b[1;32m     54\u001b[0m \u001b[43m        \u001b[49m\u001b[43mcode\u001b[49m\u001b[38;5;241;43m=\u001b[39;49m\u001b[43msurface_code\u001b[49m\u001b[43m,\u001b[49m\n\u001b[1;32m     55\u001b[0m \u001b[43m        \u001b[49m\u001b[43merror\u001b[49m\u001b[38;5;241;43m=\u001b[39;49m\u001b[43merror\u001b[49m\u001b[43m,\u001b[49m\n\u001b[1;32m     56\u001b[0m \u001b[43m        \u001b[49m\u001b[43mchi_max\u001b[49m\u001b[38;5;241;43m=\u001b[39;49m\u001b[43mCHI_MAX\u001b[49m\u001b[43m,\u001b[49m\n\u001b[1;32m     57\u001b[0m \u001b[43m        \u001b[49m\u001b[43mmultiply_by_stabiliser\u001b[49m\u001b[38;5;241;43m=\u001b[39;49m\u001b[38;5;28;43;01mFalse\u001b[39;49;00m\u001b[43m,\u001b[49m\n\u001b[1;32m     58\u001b[0m \u001b[43m        \u001b[49m\u001b[43mbias_type\u001b[49m\u001b[38;5;241;43m=\u001b[39;49m\u001b[38;5;124;43m\"\u001b[39;49m\u001b[38;5;124;43mBitflip\u001b[39;49m\u001b[38;5;124;43m\"\u001b[39;49m\u001b[43m,\u001b[49m\n\u001b[1;32m     59\u001b[0m \u001b[43m        \u001b[49m\u001b[43mbias_prob\u001b[49m\u001b[38;5;241;43m=\u001b[39;49m\u001b[43mBIAS\u001b[49m\u001b[43m,\u001b[49m\n\u001b[1;32m     60\u001b[0m \u001b[43m        \u001b[49m\u001b[43mcut\u001b[49m\u001b[38;5;241;43m=\u001b[39;49m\u001b[43mCUT\u001b[49m\u001b[43m,\u001b[49m\n\u001b[1;32m     61\u001b[0m \u001b[43m        \u001b[49m\u001b[43mtolerance\u001b[49m\u001b[38;5;241;43m=\u001b[39;49m\u001b[43mTOLERANCE\u001b[49m\u001b[43m,\u001b[49m\n\u001b[1;32m     62\u001b[0m \u001b[43m        \u001b[49m\u001b[43mrenormalise\u001b[49m\u001b[38;5;241;43m=\u001b[39;49m\u001b[38;5;28;43;01mTrue\u001b[39;49;00m\u001b[43m,\u001b[49m\n\u001b[1;32m     63\u001b[0m \u001b[43m        \u001b[49m\u001b[43msilent\u001b[49m\u001b[38;5;241;43m=\u001b[39;49m\u001b[38;5;28;43;01mTrue\u001b[39;49;00m\u001b[43m,\u001b[49m\n\u001b[1;32m     64\u001b[0m \u001b[43m        \u001b[49m\u001b[43mcontraction_strategy\u001b[49m\u001b[38;5;241;43m=\u001b[39;49m\u001b[38;5;124;43m\"\u001b[39;49m\u001b[38;5;124;43mOptimised\u001b[39;49m\u001b[38;5;124;43m\"\u001b[39;49m\u001b[43m,\u001b[49m\n\u001b[1;32m     65\u001b[0m \u001b[43m    \u001b[49m\u001b[43m)\u001b[49m\n\u001b[1;32m     66\u001b[0m     failures\u001b[38;5;241m.\u001b[39mappend(\u001b[38;5;241m1\u001b[39m \u001b[38;5;241m-\u001b[39m success)\n\u001b[1;32m     67\u001b[0m \u001b[38;5;28;01mexcept\u001b[39;00m \u001b[38;5;167;01mException\u001b[39;00m \u001b[38;5;28;01mas\u001b[39;00m e:\n",
      "File \u001b[0;32m~/mdopt/examples/decoding/decoding.py:1249\u001b[0m, in \u001b[0;36mdecode_css\u001b[0;34m(code, error, num_runs, chi_max, cut, bias_type, bias_prob, renormalise, multiply_by_stabiliser, silent, contraction_strategy, optimiser, tolerance)\u001b[0m\n\u001b[1;32m   1247\u001b[0m \u001b[38;5;28;01mif\u001b[39;00m \u001b[38;5;129;01mnot\u001b[39;00m silent:\n\u001b[1;32m   1248\u001b[0m     logging\u001b[38;5;241m.\u001b[39minfo(\u001b[38;5;124m\"\u001b[39m\u001b[38;5;124mApplying the X checks\u001b[39m\u001b[38;5;124m'\u001b[39m\u001b[38;5;124m constraints.\u001b[39m\u001b[38;5;124m\"\u001b[39m)\n\u001b[0;32m-> 1249\u001b[0m error_mps \u001b[38;5;241m=\u001b[39m \u001b[43mapply_constraints\u001b[49m\u001b[43m(\u001b[49m\n\u001b[1;32m   1250\u001b[0m \u001b[43m    \u001b[49m\u001b[43merror_mps\u001b[49m\u001b[43m,\u001b[49m\n\u001b[1;32m   1251\u001b[0m \u001b[43m    \u001b[49m\u001b[43mconstraint_sites\u001b[49m\u001b[43m[\u001b[49m\u001b[38;5;241;43m0\u001b[39;49m\u001b[43m]\u001b[49m\u001b[43m,\u001b[49m\n\u001b[1;32m   1252\u001b[0m \u001b[43m    \u001b[49m\u001b[43mconstraints_tensors\u001b[49m\u001b[43m,\u001b[49m\n\u001b[1;32m   1253\u001b[0m \u001b[43m    \u001b[49m\u001b[43mchi_max\u001b[49m\u001b[38;5;241;43m=\u001b[39;49m\u001b[43mchi_max\u001b[49m\u001b[43m,\u001b[49m\n\u001b[1;32m   1254\u001b[0m \u001b[43m    \u001b[49m\u001b[43mcut\u001b[49m\u001b[38;5;241;43m=\u001b[39;49m\u001b[43mcut\u001b[49m\u001b[43m,\u001b[49m\n\u001b[1;32m   1255\u001b[0m \u001b[43m    \u001b[49m\u001b[43mrenormalise\u001b[49m\u001b[38;5;241;43m=\u001b[39;49m\u001b[43mrenormalise\u001b[49m\u001b[43m,\u001b[49m\n\u001b[1;32m   1256\u001b[0m \u001b[43m    \u001b[49m\u001b[43msilent\u001b[49m\u001b[38;5;241;43m=\u001b[39;49m\u001b[43msilent\u001b[49m\u001b[43m,\u001b[49m\n\u001b[1;32m   1257\u001b[0m \u001b[43m    \u001b[49m\u001b[43mstrategy\u001b[49m\u001b[38;5;241;43m=\u001b[39;49m\u001b[43mcontraction_strategy\u001b[49m\u001b[43m,\u001b[49m\n\u001b[1;32m   1258\u001b[0m \u001b[43m\u001b[49m\u001b[43m)\u001b[49m\n\u001b[1;32m   1260\u001b[0m \u001b[38;5;28;01mif\u001b[39;00m \u001b[38;5;129;01mnot\u001b[39;00m silent:\n\u001b[1;32m   1261\u001b[0m     logging\u001b[38;5;241m.\u001b[39minfo(\u001b[38;5;124m\"\u001b[39m\u001b[38;5;124mApplying the Z checks\u001b[39m\u001b[38;5;124m'\u001b[39m\u001b[38;5;124m constraints.\u001b[39m\u001b[38;5;124m\"\u001b[39m)\n",
      "File \u001b[0;32m~/mdopt/mdopt/optimiser/utils.py:331\u001b[0m, in \u001b[0;36mapply_constraints\u001b[0;34m(mps, strings, logical_tensors, chi_max, cut, renormalise, strategy, silent, dense, return_entropies_and_bond_dims)\u001b[0m\n\u001b[1;32m    328\u001b[0m     mps \u001b[38;5;241m=\u001b[39m mps\u001b[38;5;241m.\u001b[39mmove_orth_centre(final_pos\u001b[38;5;241m=\u001b[39mstart_site, renormalise\u001b[38;5;241m=\u001b[39m\u001b[38;5;28;01mTrue\u001b[39;00m)  \u001b[38;5;66;03m# type: ignore\u001b[39;00m\n\u001b[1;32m    330\u001b[0m \u001b[38;5;28;01mif\u001b[39;00m \u001b[38;5;129;01mnot\u001b[39;00m dense:\n\u001b[0;32m--> 331\u001b[0m     mps \u001b[38;5;241m=\u001b[39m \u001b[43mmps_mpo_contract\u001b[49m\u001b[43m(\u001b[49m\u001b[43m  \u001b[49m\u001b[38;5;66;43;03m# type: ignore\u001b[39;49;00m\n\u001b[1;32m    332\u001b[0m \u001b[43m        \u001b[49m\u001b[43mmps\u001b[49m\u001b[38;5;241;43m=\u001b[39;49m\u001b[43mmps\u001b[49m\u001b[43m,\u001b[49m\n\u001b[1;32m    333\u001b[0m \u001b[43m        \u001b[49m\u001b[43mmpo\u001b[49m\u001b[38;5;241;43m=\u001b[39;49m\u001b[43mmpo\u001b[49m\u001b[43m,\u001b[49m\n\u001b[1;32m    334\u001b[0m \u001b[43m        \u001b[49m\u001b[43mstart_site\u001b[49m\u001b[38;5;241;43m=\u001b[39;49m\u001b[43mstart_site\u001b[49m\u001b[43m,\u001b[49m\n\u001b[1;32m    335\u001b[0m \u001b[43m        \u001b[49m\u001b[43mchi_max\u001b[49m\u001b[38;5;241;43m=\u001b[39;49m\u001b[43mchi_max\u001b[49m\u001b[43m,\u001b[49m\n\u001b[1;32m    336\u001b[0m \u001b[43m        \u001b[49m\u001b[43mcut\u001b[49m\u001b[38;5;241;43m=\u001b[39;49m\u001b[43mcut\u001b[49m\u001b[43m,\u001b[49m\n\u001b[1;32m    337\u001b[0m \u001b[43m        \u001b[49m\u001b[43mrenormalise\u001b[49m\u001b[38;5;241;43m=\u001b[39;49m\u001b[43mrenormalise\u001b[49m\u001b[43m,\u001b[49m\n\u001b[1;32m    338\u001b[0m \u001b[43m        \u001b[49m\u001b[43minplace\u001b[49m\u001b[38;5;241;43m=\u001b[39;49m\u001b[38;5;28;43;01mFalse\u001b[39;49;00m\u001b[43m,\u001b[49m\n\u001b[1;32m    339\u001b[0m \u001b[43m    \u001b[49m\u001b[43m)\u001b[49m\n\u001b[1;32m    341\u001b[0m \u001b[38;5;28;01mif\u001b[39;00m return_entropies_and_bond_dims \u001b[38;5;129;01mand\u001b[39;00m \u001b[38;5;129;01mnot\u001b[39;00m dense:\n\u001b[1;32m    342\u001b[0m     entropies\u001b[38;5;241m.\u001b[39mappend(mps\u001b[38;5;241m.\u001b[39mentanglement_entropy())\n",
      "File \u001b[0;32m~/mdopt/mdopt/contractor/contractor.py:301\u001b[0m, in \u001b[0;36mmps_mpo_contract\u001b[0;34m(mps, mpo, start_site, renormalise, chi_max, cut, inplace, result_to_explicit)\u001b[0m\n\u001b[1;32m    288\u001b[0m         mps\u001b[38;5;241m.\u001b[39morth_centre \u001b[38;5;241m=\u001b[39m orth_centre_index\n\u001b[1;32m    290\u001b[0m     mps\u001b[38;5;241m.\u001b[39mtensors[orth_centre_index] \u001b[38;5;241m=\u001b[39m contract(\n\u001b[1;32m    291\u001b[0m         \u001b[38;5;124m\"\u001b[39m\u001b[38;5;124mij, jkl -> ikl\u001b[39m\u001b[38;5;124m\"\u001b[39m, np\u001b[38;5;241m.\u001b[39mdiag(singular_values), b_r, optimize\u001b[38;5;241m=\u001b[39m[(\u001b[38;5;241m0\u001b[39m, \u001b[38;5;241m1\u001b[39m)]\n\u001b[1;32m    292\u001b[0m     )\u001b[38;5;241m.\u001b[39mreshape(\n\u001b[0;32m   (...)\u001b[0m\n\u001b[1;32m    298\u001b[0m         )\n\u001b[1;32m    299\u001b[0m     )\n\u001b[0;32m--> 301\u001b[0m     two_site_mps_mpo_tensor \u001b[38;5;241m=\u001b[39m \u001b[43mcontract\u001b[49m\u001b[43m(\u001b[49m\n\u001b[1;32m    302\u001b[0m \u001b[43m        \u001b[49m\u001b[38;5;124;43m\"\u001b[39;49m\u001b[38;5;124;43mijkl, lmn, komp -> ijpon\u001b[39;49m\u001b[38;5;124;43m\"\u001b[39;49m\u001b[43m,\u001b[49m\n\u001b[1;32m    303\u001b[0m \u001b[43m        \u001b[49m\u001b[43mmps\u001b[49m\u001b[38;5;241;43m.\u001b[39;49m\u001b[43mtensors\u001b[49m\u001b[43m[\u001b[49m\u001b[43morth_centre_index\u001b[49m\u001b[43m]\u001b[49m\u001b[43m,\u001b[49m\n\u001b[1;32m    304\u001b[0m \u001b[43m        \u001b[49m\u001b[43mmps\u001b[49m\u001b[38;5;241;43m.\u001b[39;49m\u001b[43mtensors\u001b[49m\u001b[43m[\u001b[49m\u001b[43morth_centre_index\u001b[49m\u001b[43m \u001b[49m\u001b[38;5;241;43m+\u001b[39;49m\u001b[43m \u001b[49m\u001b[38;5;241;43m1\u001b[39;49m\u001b[43m]\u001b[49m\u001b[43m,\u001b[49m\n\u001b[1;32m    305\u001b[0m \u001b[43m        \u001b[49m\u001b[43mmpo\u001b[49m\u001b[43m[\u001b[49m\u001b[43mi\u001b[49m\u001b[43m \u001b[49m\u001b[38;5;241;43m+\u001b[39;49m\u001b[43m \u001b[49m\u001b[38;5;241;43m2\u001b[39;49m\u001b[43m]\u001b[49m\u001b[43m,\u001b[49m\n\u001b[1;32m    306\u001b[0m \u001b[43m        \u001b[49m\u001b[43moptimize\u001b[49m\u001b[38;5;241;43m=\u001b[39;49m\u001b[43m[\u001b[49m\u001b[43m(\u001b[49m\u001b[38;5;241;43m0\u001b[39;49m\u001b[43m,\u001b[49m\u001b[43m \u001b[49m\u001b[38;5;241;43m1\u001b[39;49m\u001b[43m)\u001b[49m\u001b[43m,\u001b[49m\u001b[43m \u001b[49m\u001b[43m(\u001b[49m\u001b[38;5;241;43m0\u001b[39;49m\u001b[43m,\u001b[49m\u001b[43m \u001b[49m\u001b[38;5;241;43m1\u001b[39;49m\u001b[43m)\u001b[49m\u001b[43m]\u001b[49m\u001b[43m,\u001b[49m\n\u001b[1;32m    307\u001b[0m \u001b[43m    \u001b[49m\u001b[43m)\u001b[49m\u001b[38;5;241m.\u001b[39mreshape(\n\u001b[1;32m    308\u001b[0m         (\n\u001b[1;32m    309\u001b[0m             \u001b[38;5;28mlen\u001b[39m(singular_values),\n\u001b[1;32m    310\u001b[0m             mps\u001b[38;5;241m.\u001b[39mtensors[orth_centre_index]\u001b[38;5;241m.\u001b[39mshape[\u001b[38;5;241m1\u001b[39m],\n\u001b[1;32m    311\u001b[0m             mpo[i \u001b[38;5;241m+\u001b[39m \u001b[38;5;241m2\u001b[39m]\u001b[38;5;241m.\u001b[39mshape[\u001b[38;5;241m3\u001b[39m],\n\u001b[1;32m    312\u001b[0m             mps\u001b[38;5;241m.\u001b[39mtensors[orth_centre_index \u001b[38;5;241m+\u001b[39m \u001b[38;5;241m1\u001b[39m]\u001b[38;5;241m.\u001b[39mshape[\u001b[38;5;241m2\u001b[39m] \u001b[38;5;241m*\u001b[39m mpo[i \u001b[38;5;241m+\u001b[39m \u001b[38;5;241m2\u001b[39m]\u001b[38;5;241m.\u001b[39mshape[\u001b[38;5;241m1\u001b[39m],\n\u001b[1;32m    313\u001b[0m         )\n\u001b[1;32m    314\u001b[0m     )\n\u001b[1;32m    316\u001b[0m mps\u001b[38;5;241m.\u001b[39mtensors[orth_centre_index], singular_values, b_r, _ \u001b[38;5;241m=\u001b[39m split_two_site_tensor(\n\u001b[1;32m    317\u001b[0m     two_site_mps_mpo_tensor,\n\u001b[1;32m    318\u001b[0m     chi_max\u001b[38;5;241m=\u001b[39mchi_max,\n\u001b[0;32m   (...)\u001b[0m\n\u001b[1;32m    321\u001b[0m     return_truncation_error\u001b[38;5;241m=\u001b[39m\u001b[38;5;28;01mTrue\u001b[39;00m,\n\u001b[1;32m    322\u001b[0m )\n\u001b[1;32m    323\u001b[0m mps\u001b[38;5;241m.\u001b[39mtensors[orth_centre_index \u001b[38;5;241m+\u001b[39m \u001b[38;5;241m1\u001b[39m] \u001b[38;5;241m=\u001b[39m contract(\n\u001b[1;32m    324\u001b[0m     \u001b[38;5;124m\"\u001b[39m\u001b[38;5;124mij, jkl -> ikl\u001b[39m\u001b[38;5;124m\"\u001b[39m, np\u001b[38;5;241m.\u001b[39mdiag(singular_values), b_r, optimize\u001b[38;5;241m=\u001b[39m[(\u001b[38;5;241m0\u001b[39m, \u001b[38;5;241m1\u001b[39m)]\n\u001b[1;32m    325\u001b[0m )\n",
      "File \u001b[0;32m~/Library/Caches/pypoetry/virtualenvs/mdopt-ZdbamFdU-py3.10/lib/python3.10/site-packages/opt_einsum/contract.py:595\u001b[0m, in \u001b[0;36mcontract\u001b[0;34m(subscripts, out, use_blas, optimize, memory_limit, backend, *operands, **kwargs)\u001b[0m\n\u001b[1;32m    593\u001b[0m \u001b[38;5;66;03m# Build the contraction list and operand\u001b[39;00m\n\u001b[1;32m    594\u001b[0m contraction_list: ContractionListType\n\u001b[0;32m--> 595\u001b[0m operands, contraction_list \u001b[38;5;241m=\u001b[39m \u001b[43mcontract_path\u001b[49m\u001b[43m(\u001b[49m\u001b[43m  \u001b[49m\u001b[38;5;66;43;03m# type: ignore\u001b[39;49;00m\n\u001b[1;32m    596\u001b[0m \u001b[43m    \u001b[49m\u001b[38;5;241;43m*\u001b[39;49m\u001b[43moperands_list\u001b[49m\u001b[43m,\u001b[49m\u001b[43m \u001b[49m\u001b[43moptimize\u001b[49m\u001b[38;5;241;43m=\u001b[39;49m\u001b[43moptimize\u001b[49m\u001b[43m,\u001b[49m\u001b[43m \u001b[49m\u001b[43mmemory_limit\u001b[49m\u001b[38;5;241;43m=\u001b[39;49m\u001b[43mmemory_limit\u001b[49m\u001b[43m,\u001b[49m\u001b[43m \u001b[49m\u001b[43meinsum_call\u001b[49m\u001b[38;5;241;43m=\u001b[39;49m\u001b[38;5;28;43;01mTrue\u001b[39;49;00m\u001b[43m,\u001b[49m\u001b[43m \u001b[49m\u001b[43muse_blas\u001b[49m\u001b[38;5;241;43m=\u001b[39;49m\u001b[43muse_blas\u001b[49m\n\u001b[1;32m    597\u001b[0m \u001b[43m\u001b[49m\u001b[43m)\u001b[49m\n\u001b[1;32m    599\u001b[0m \u001b[38;5;66;03m# check if performing contraction or just building expression\u001b[39;00m\n\u001b[1;32m    600\u001b[0m \u001b[38;5;28;01mif\u001b[39;00m gen_expression:\n",
      "File \u001b[0;32m~/Library/Caches/pypoetry/virtualenvs/mdopt-ZdbamFdU-py3.10/lib/python3.10/site-packages/opt_einsum/contract.py:394\u001b[0m, in \u001b[0;36mcontract_path\u001b[0;34m(subscripts, use_blas, optimize, memory_limit, shapes, *operands, **kwargs)\u001b[0m\n\u001b[1;32m    391\u001b[0m     all_input_inds \u001b[38;5;241m=\u001b[39m \u001b[38;5;124m\"\u001b[39m\u001b[38;5;124m\"\u001b[39m\u001b[38;5;241m.\u001b[39mjoin(tmp_inputs)\n\u001b[1;32m    392\u001b[0m     idx_result \u001b[38;5;241m=\u001b[39m \u001b[38;5;124m\"\u001b[39m\u001b[38;5;124m\"\u001b[39m\u001b[38;5;241m.\u001b[39mjoin(\u001b[38;5;28msorted\u001b[39m(out_inds, key\u001b[38;5;241m=\u001b[39mall_input_inds\u001b[38;5;241m.\u001b[39mfind))\n\u001b[0;32m--> 394\u001b[0m shp_result \u001b[38;5;241m=\u001b[39m \u001b[43mparser\u001b[49m\u001b[38;5;241;43m.\u001b[39;49m\u001b[43mfind_output_shape\u001b[49m\u001b[43m(\u001b[49m\u001b[43mtmp_inputs\u001b[49m\u001b[43m,\u001b[49m\u001b[43m \u001b[49m\u001b[43mtmp_shapes\u001b[49m\u001b[43m,\u001b[49m\u001b[43m \u001b[49m\u001b[43midx_result\u001b[49m\u001b[43m)\u001b[49m\n\u001b[1;32m    396\u001b[0m input_list\u001b[38;5;241m.\u001b[39mappend(idx_result)\n\u001b[1;32m    397\u001b[0m input_shapes\u001b[38;5;241m.\u001b[39mappend(shp_result)\n",
      "File \u001b[0;32m~/Library/Caches/pypoetry/virtualenvs/mdopt-ZdbamFdU-py3.10/lib/python3.10/site-packages/opt_einsum/parser.py:156\u001b[0m, in \u001b[0;36mfind_output_shape\u001b[0;34m(inputs, shapes, output)\u001b[0m\n\u001b[1;32m    152\u001b[0m     tmp_subscripts \u001b[38;5;241m=\u001b[39m subscripts\u001b[38;5;241m.\u001b[39mreplace(\u001b[38;5;124m\"\u001b[39m\u001b[38;5;124m,\u001b[39m\u001b[38;5;124m\"\u001b[39m, \u001b[38;5;124m\"\u001b[39m\u001b[38;5;124m\"\u001b[39m)\n\u001b[1;32m    153\u001b[0m     \u001b[38;5;28;01mreturn\u001b[39;00m \u001b[38;5;124m\"\u001b[39m\u001b[38;5;124m\"\u001b[39m\u001b[38;5;241m.\u001b[39mjoin(s \u001b[38;5;28;01mfor\u001b[39;00m s \u001b[38;5;129;01min\u001b[39;00m \u001b[38;5;28msorted\u001b[39m(\u001b[38;5;28mset\u001b[39m(tmp_subscripts)) \u001b[38;5;28;01mif\u001b[39;00m tmp_subscripts\u001b[38;5;241m.\u001b[39mcount(s) \u001b[38;5;241m==\u001b[39m \u001b[38;5;241m1\u001b[39m)\n\u001b[0;32m--> 156\u001b[0m \u001b[38;5;28;01mdef\u001b[39;00m \u001b[38;5;21mfind_output_shape\u001b[39m(inputs: List[\u001b[38;5;28mstr\u001b[39m], shapes: List[TensorShapeType], output: \u001b[38;5;28mstr\u001b[39m) \u001b[38;5;241m-\u001b[39m\u001b[38;5;241m>\u001b[39m TensorShapeType:\n\u001b[1;32m    157\u001b[0m \u001b[38;5;250m    \u001b[39m\u001b[38;5;124;03m\"\"\"Find the output shape for given inputs, shapes and output string, taking\u001b[39;00m\n\u001b[1;32m    158\u001b[0m \u001b[38;5;124;03m    into account broadcasting.\u001b[39;00m\n\u001b[1;32m    159\u001b[0m \n\u001b[0;32m   (...)\u001b[0m\n\u001b[1;32m    167\u001b[0m \u001b[38;5;124;03m    (4,)\u001b[39;00m\n\u001b[1;32m    168\u001b[0m \u001b[38;5;124;03m    \"\"\"\u001b[39;00m\n\u001b[1;32m    169\u001b[0m     \u001b[38;5;28;01mreturn\u001b[39;00m \u001b[38;5;28mtuple\u001b[39m(\u001b[38;5;28mmax\u001b[39m(shape[loc] \u001b[38;5;28;01mfor\u001b[39;00m shape, loc \u001b[38;5;129;01min\u001b[39;00m \u001b[38;5;28mzip\u001b[39m(shapes, [x\u001b[38;5;241m.\u001b[39mfind(c) \u001b[38;5;28;01mfor\u001b[39;00m x \u001b[38;5;129;01min\u001b[39;00m inputs]) \u001b[38;5;28;01mif\u001b[39;00m loc \u001b[38;5;241m>\u001b[39m\u001b[38;5;241m=\u001b[39m \u001b[38;5;241m0\u001b[39m) \u001b[38;5;28;01mfor\u001b[39;00m c \u001b[38;5;129;01min\u001b[39;00m output)\n",
      "\u001b[0;31mKeyboardInterrupt\u001b[0m: "
     ]
    }
   ],
   "source": [
    "errors = {}\n",
    "failures_statistics = {}\n",
    "failure_rates = {}\n",
    "error_bars = {}\n",
    "\n",
    "for LATTICE_SIZE in [11]:\n",
    "    NUM_QUBITS = 2 * (LATTICE_SIZE - 1) * LATTICE_SIZE\n",
    "    NUM_EXPERIMENTS = 50\n",
    "    SEED = 123\n",
    "\n",
    "    # Parameters\n",
    "    tolerances = [1e-17]\n",
    "    biases = [1e-1]\n",
    "    cuts = [1e-17]\n",
    "    max_bond_dims = [10]\n",
    "    error_rates = [0.17, 0.18, 0.19, 0.11, 0.12, 0.13, 0.14]\n",
    "\n",
    "    # Initialize\n",
    "    seed_seq = np.random.SeedSequence(SEED)\n",
    "\n",
    "    # Generate the code\n",
    "    rep_code = qc.repetition_code(LATTICE_SIZE)\n",
    "    surface_code = qc.hypergraph_product(rep_code, rep_code)\n",
    "\n",
    "    # Generate Pauli errors for each error rate\n",
    "    for ERROR_RATE in error_rates:\n",
    "        errors[LATTICE_SIZE, ERROR_RATE] = []\n",
    "        for l in range(NUM_EXPERIMENTS):\n",
    "            rng = np.random.default_rng(seed_seq.spawn(1)[0])\n",
    "\n",
    "            error = generate_pauli_error_string(\n",
    "                len(surface_code),\n",
    "                ERROR_RATE,\n",
    "                rng=rng,\n",
    "                error_model=\"Bitflip\",\n",
    "            )\n",
    "            errors[LATTICE_SIZE, ERROR_RATE].append(error)\n",
    "\n",
    "    # Run decoding experiments for each combination of bias, tolerance, and chi_max\n",
    "    for CHI_MAX in max_bond_dims:\n",
    "        for BIAS in biases:\n",
    "            for TOLERANCE in tolerances:\n",
    "                for CUT in cuts:\n",
    "                    for ERROR_RATE in error_rates:\n",
    "                        failures = []\n",
    "\n",
    "                        for l in tqdm(\n",
    "                            range(NUM_EXPERIMENTS),\n",
    "                            desc=f\"Error rate={ERROR_RATE}, Bias={BIAS}, Tol={TOLERANCE}, Cut={CUT}, Chi={CHI_MAX}, L={LATTICE_SIZE}\",\n",
    "                        ):\n",
    "                            error = errors[LATTICE_SIZE, ERROR_RATE][l]\n",
    "                            try:\n",
    "                                _, success = decode_css(\n",
    "                                    code=surface_code,\n",
    "                                    error=error,\n",
    "                                    chi_max=CHI_MAX,\n",
    "                                    multiply_by_stabiliser=False,\n",
    "                                    bias_type=\"Bitflip\",\n",
    "                                    bias_prob=BIAS,\n",
    "                                    cut=CUT,\n",
    "                                    tolerance=TOLERANCE,\n",
    "                                    renormalise=True,\n",
    "                                    silent=True,\n",
    "                                    contraction_strategy=\"Optimised\",\n",
    "                                )\n",
    "                                failures.append(1 - success)\n",
    "                            except Exception as e:\n",
    "                                print(f\"Error: {e}\")\n",
    "                                print(error)\n",
    "\n",
    "                        # Store failures statistics\n",
    "                        failures_statistics[\n",
    "                            LATTICE_SIZE, CHI_MAX, ERROR_RATE, BIAS, TOLERANCE, CUT\n",
    "                        ] = failures\n",
    "\n",
    "    # Compute failure rates and error bars\n",
    "    for CHI_MAX in max_bond_dims:\n",
    "        for BIAS in biases:\n",
    "            for TOLERANCE in tolerances:\n",
    "                for CUT in cuts:\n",
    "                    for ERROR_RATE in error_rates:\n",
    "                        key = (LATTICE_SIZE, CHI_MAX, ERROR_RATE, BIAS, TOLERANCE, CUT)\n",
    "                        failure_rates[key] = np.mean(failures_statistics[key])\n",
    "                        error_bars[key] = sem(failures_statistics[key])"
   ]
  },
  {
   "cell_type": "code",
   "execution_count": 9,
   "metadata": {},
   "outputs": [
    {
     "data": {
      "image/png": "[encoded data removed]",
      "text/plain": [
       "<Figure size 640x480 with 1 Axes>"
      ]
     },
     "metadata": {},
     "output_type": "display_data"
    }
   ],
   "source": [
    "CHI_MAX, BIAS, TOLERANCE, CUT = 8, 1e-1, 1e-12, 1e-12\n",
    "\n",
    "for lattice_size in [11]:\n",
    "    plt.errorbar(\n",
    "        error_rates,\n",
    "        [\n",
    "            failure_rates[lattice_size, CHI_MAX, ERROR_RATE, BIAS, TOLERANCE, CUT]\n",
    "            for ERROR_RATE in error_rates\n",
    "        ],\n",
    "        yerr=[\n",
    "            error_bars[lattice_size, CHI_MAX, ERROR_RATE, BIAS, TOLERANCE, CUT]\n",
    "            for ERROR_RATE in error_rates\n",
    "        ],\n",
    "        fmt=\"o--\",\n",
    "        label=f\"L={lattice_size}\",\n",
    "    )\n",
    "    plt.legend()\n",
    "plt.show()"
   ]
  },
  {
   "cell_type": "code",
   "execution_count": null,
   "metadata": {},
   "outputs": [],
   "source": []
  }
 ],
 "metadata": {
  "kernelspec": {
   "display_name": "mdopt-ZdbamFdU-py3.10",
   "language": "python",
   "name": "python3"
  },
  "language_info": {
   "codemirror_mode": {
    "name": "ipython",
    "version": 3
   },
   "file_extension": ".py",
   "mimetype": "text/x-python",
   "name": "python",
   "nbconvert_exporter": "python",
   "pygments_lexer": "ipython3",
   "version": "3.10.16"
  }
 },
 "nbformat": 4,
 "nbformat_minor": 2
}

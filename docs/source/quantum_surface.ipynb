{
 "cells": [
  {
   "cell_type": "markdown",
   "metadata": {},
   "source": [
    "# Decoding Surface Code"
   ]
  },
  {
   "attachments": {},
   "cell_type": "markdown",
   "metadata": {},
   "source": [
    "In this experiment, we’ll use ``mdopt`` to decode the Surface Code. Hereafter, we assume an independent noise model as well as perfect syndrome measurements. We will create a Surface Code instance via the Hypergraph Product of two repetition codes. This example will be less pedagogical than the one with the Shor's code because we have already packaged all subroutines in a function. For a detailed overview of these subroutines the user is invited to read the Shor Code example as well as consult the appropriate code."
   ]
  },
  {
   "cell_type": "code",
   "execution_count": null,
   "metadata": {},
   "outputs": [],
   "source": [
    "from qecsim.models.toric import ToricCode\n",
    "import qecsim.models.generic as generic\n",
    "import qecsim.paulitools as pt\n",
    "import numpy as np\n",
    "\n",
    "# Step 1: Set up the surface code\n",
    "code = surface.SurfaceCode(5)  # 5x5 Surface code\n",
    "\n",
    "# Step 2: Define the depolarising error model\n",
    "error_model = generic.DepolarizingErrorModel()\n",
    "\n",
    "# Step 3: Sample a random Pauli error using the error model\n",
    "rng = np.random.default_rng()  # Random number generator\n",
    "error = error_model.generate(code, probability=0.1, rng=rng)\n",
    "\n",
    "# Print the sampled Pauli error string\n",
    "print(\"Sampled Pauli string:\", pt.pauli_to_bsf(error))\n",
    "\n",
    "# Step 4: Generate a random stabiliser from the code\n",
    "stabilisers = code.stabilisers\n",
    "random_stabiliser = stabilisers[rng.integers(len(stabilisers))]\n",
    "\n",
    "# Print the selected stabiliser\n",
    "print(\"Random stabiliser:\", pt.pauli_to_bsf(random_stabiliser))\n",
    "\n",
    "# Step 5: Multiply the Pauli error string by the random stabiliser\n",
    "combined_pauli = pt.pauli_mul(error, random_stabiliser)\n",
    "\n",
    "# Print the result of the multiplication\n",
    "print(\"Resulting Pauli string after multiplication:\", pt.pauli_to_bsf(combined_pauli))\n"
   ]
  },
  {
   "cell_type": "code",
   "execution_count": null,
   "metadata": {},
   "outputs": [],
   "source": []
  },
  {
   "cell_type": "code",
   "execution_count": null,
   "metadata": {},
   "outputs": [],
   "source": []
  },
  {
   "cell_type": "code",
   "execution_count": null,
   "metadata": {},
   "outputs": [],
   "source": []
  },
  {
   "cell_type": "code",
   "execution_count": null,
   "metadata": {},
   "outputs": [],
   "source": [
    "import numpy as np\n",
    "from tqdm import tqdm\n",
    "import qecstruct as qc\n",
    "from scipy.stats import sem\n",
    "import qecsim.paulitools as pt\n",
    "\n",
    "import matplotlib\n",
    "import matplotlib.pyplot as plt\n",
    "from matplotlib.colors import Normalize\n",
    "from matplotlib.ticker import FormatStrFormatter\n",
    "\n",
    "from mdopt.mps.utils import marginalise, create_custom_product_state\n",
    "from mdopt.contractor.contractor import mps_mpo_contract\n",
    "from mdopt.optimiser.utils import (\n",
    "    SWAP,\n",
    "    COPY_LEFT,\n",
    "    XOR_BULK,\n",
    "    XOR_LEFT,\n",
    "    XOR_RIGHT,\n",
    ")\n",
    "from examples.decoding.decoding import (\n",
    "    apply_constraints,\n",
    "    apply_bitflip_bias,\n",
    "    css_code_stabilisers,\n",
    ")\n",
    "from examples.decoding.decoding import (\n",
    "    decode_css,\n",
    "    pauli_to_mps,\n",
    "    css_code_checks,\n",
    "    css_code_logicals,\n",
    "    css_code_logicals_sites,\n",
    "    css_code_constraint_sites,\n",
    "    generate_pauli_error_string,\n",
    ")"
   ]
  },
  {
   "cell_type": "code",
   "execution_count": null,
   "metadata": {},
   "outputs": [],
   "source": []
  },
  {
   "cell_type": "code",
   "execution_count": null,
   "metadata": {},
   "outputs": [],
   "source": [
    "from examples.decoding.decoding import css_code_checks\n",
    "\n",
    "surface_code.x_stabs_binary()"
   ]
  },
  {
   "cell_type": "code",
   "execution_count": null,
   "metadata": {},
   "outputs": [],
   "source": [
    "css_code_checks(surface_code)"
   ]
  },
  {
   "cell_type": "code",
   "execution_count": null,
   "metadata": {},
   "outputs": [],
   "source": [
    "from qecstruct import CssCode\n",
    "from typing import List, Tuple\n",
    "\n"
   ]
  },
  {
   "cell_type": "code",
   "execution_count": null,
   "metadata": {},
   "outputs": [],
   "source": [
    "css_code_stabilisers(surface_code)"
   ]
  },
  {
   "cell_type": "code",
   "execution_count": null,
   "metadata": {},
   "outputs": [],
   "source": []
  },
  {
   "cell_type": "code",
   "execution_count": null,
   "metadata": {},
   "outputs": [],
   "source": []
  },
  {
   "cell_type": "code",
   "execution_count": null,
   "metadata": {},
   "outputs": [],
   "source": []
  },
  {
   "cell_type": "code",
   "execution_count": 13,
   "metadata": {},
   "outputs": [
    {
     "name": "stdout",
     "output_type": "stream",
     "text": [
      "CHI_MAX = 64\n"
     ]
    },
    {
     "name": "stderr",
     "output_type": "stream",
     "text": [
      "  0%|          | 0/5 [00:00<?, ?it/s]"
     ]
    }
   ],
   "source": [
    "LATTICE_SIZE = 3\n",
    "NUM_EXPERIMENTS = 100\n",
    "\n",
    "SEED = 123\n",
    "seed_seq = np.random.SeedSequence(SEED)\n",
    "\n",
    "max_bond_dims = [64, 32, 16, 8, 4]\n",
    "error_rates = np.linspace(0.1, 0.2, 5)\n",
    "failures_statistics = {}\n",
    "\n",
    "for CHI_MAX in max_bond_dims:\n",
    "    print(f\"CHI_MAX = {CHI_MAX}\")\n",
    "    for ERROR_RATE in tqdm(error_rates):\n",
    "        failures = []\n",
    "\n",
    "        rep_code = qc.repetition_code(LATTICE_SIZE)\n",
    "        surface_code = qc.hypergraph_product(rep_code, rep_code)\n",
    "\n",
    "        for l in range(NUM_EXPERIMENTS):\n",
    "            new_seed = seed_seq.spawn(1)[0]\n",
    "            rng = np.random.default_rng(new_seed)\n",
    "            random_integer = rng.integers(1, 10**8 + 1)\n",
    "            SEED = random_integer\n",
    "\n",
    "            error = generate_pauli_error_string(\n",
    "                len(surface_code),\n",
    "                ERROR_RATE,\n",
    "                seed=SEED,\n",
    "                error_model=\"Depolarising\",\n",
    "            )\n",
    "            #print(error)\n",
    "            error = pauli_to_mps(error)\n",
    "\n",
    "            _, success = decode_css(\n",
    "                code=surface_code,\n",
    "                error=error,\n",
    "                chi_max=CHI_MAX,\n",
    "                bias_type=\"Depolarising\",\n",
    "                bias_prob=ERROR_RATE,\n",
    "                renormalise=True,\n",
    "                silent=True,\n",
    "                contraction_strategy=\"Naive\",\n",
    "            )\n",
    "\n",
    "            failures.append(1 - success)\n",
    "\n",
    "        failures_statistics[LATTICE_SIZE, CHI_MAX, ERROR_RATE] = failures\n",
    "\n",
    "\n",
    "failure_rates = {}\n",
    "error_bars = {}\n",
    "\n",
    "for CHI_MAX in max_bond_dims:\n",
    "    for ERROR_RATE in error_rates:\n",
    "        failure_rates[LATTICE_SIZE, CHI_MAX, ERROR_RATE] = np.mean(\n",
    "            failures_statistics[LATTICE_SIZE, CHI_MAX, ERROR_RATE]\n",
    "        )\n",
    "        error_bars[LATTICE_SIZE, CHI_MAX, ERROR_RATE] = sem(\n",
    "            failures_statistics[LATTICE_SIZE, CHI_MAX, ERROR_RATE]\n",
    "        )\n",
    "\n",
    "\n",
    "plt.figure(figsize=(5, 4))\n",
    "\n",
    "green_cmap = matplotlib.colormaps[\"viridis_r\"]\n",
    "norm = Normalize(vmin=0, vmax=len(max_bond_dims) - 1)\n",
    "\n",
    "for index, CHI_MAX in enumerate(max_bond_dims):\n",
    "    plt.errorbar(\n",
    "        error_rates,\n",
    "        [\n",
    "            failure_rates[LATTICE_SIZE, CHI_MAX, ERROR_RATE]\n",
    "            for ERROR_RATE in error_rates\n",
    "        ],\n",
    "        yerr=[\n",
    "            error_bars[LATTICE_SIZE, CHI_MAX, ERROR_RATE] for ERROR_RATE in error_rates\n",
    "        ],\n",
    "        fmt=\"o--\",\n",
    "        label=f\"Lattice size: {LATTICE_SIZE}, max bond dim: {CHI_MAX}\",\n",
    "        linewidth=3,\n",
    "        color=green_cmap(norm(index)),\n",
    "    )\n",
    "\n",
    "#plt.yscale(\"log\")\n",
    "plt.legend(fontsize=7)\n",
    "plt.xlabel(\"Error rate\")\n",
    "plt.ylabel(\"Failure rate\")\n",
    "plt.grid()\n",
    "\n",
    "plt.show()"
   ]
  },
  {
   "cell_type": "code",
   "execution_count": null,
   "metadata": {},
   "outputs": [],
   "source": []
  }
 ],
 "metadata": {
  "kernelspec": {
   "display_name": "mdopt-ZdbamFdU-py3.11",
   "language": "python",
   "name": "python3"
  },
  "language_info": {
   "codemirror_mode": {
    "name": "ipython",
    "version": 3
   },
   "file_extension": ".py",
   "mimetype": "text/x-python",
   "name": "python",
   "nbconvert_exporter": "python",
   "pygments_lexer": "ipython3",
   "version": "3.10.13"
  },
  "orig_nbformat": 4,
  "vscode": {
   "interpreter": {
    "hash": "64c06a7280c9749d5771a76ca6109d7df6b2615ddb3b9b0828f83fb315c7f8a2"
   }
  }
 },
 "nbformat": 4,
 "nbformat_minor": 2
}

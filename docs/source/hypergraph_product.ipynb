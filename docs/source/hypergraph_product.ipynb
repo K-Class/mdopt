{
 "cells": [
  {
   "cell_type": "markdown",
   "metadata": {},
   "source": [
    "# Decoding Quantum Hypergraph Product Codes"
   ]
  },
  {
   "cell_type": "code",
   "execution_count": 2,
   "metadata": {},
   "outputs": [],
   "source": [
    "import numpy as np\n",
    "from tqdm import tqdm\n",
    "import qecstruct as qc\n",
    "import qecsim.paulitools as pt\n",
    "\n",
    "import matplotlib\n",
    "import matplotlib.pyplot as plt\n",
    "from matplotlib.colors import Normalize\n",
    "from matplotlib.ticker import FormatStrFormatter\n",
    "\n",
    "from mdopt.mps.utils import marginalise, create_custom_product_state\n",
    "from mdopt.contractor.contractor import mps_mpo_contract\n",
    "from mdopt.optimiser.utils import (\n",
    "    SWAP,\n",
    "    COPY_LEFT,\n",
    "    XOR_BULK,\n",
    "    XOR_LEFT,\n",
    "    XOR_RIGHT,\n",
    ")\n",
    "from examples.decoding.decoding import (\n",
    "    apply_constraints,\n",
    "    apply_bitflip_bias,\n",
    ")\n",
    "from examples.decoding.decoding import (\n",
    "    decode_css,\n",
    "    pauli_to_mps,\n",
    "    css_code_checks,\n",
    "    css_code_logicals,\n",
    "    css_code_logicals_sites,\n",
    "    css_code_constraint_sites,\n",
    ")"
   ]
  },
  {
   "cell_type": "code",
   "execution_count": 3,
   "metadata": {},
   "outputs": [
    {
     "name": "stdout",
     "output_type": "stream",
     "text": [
      "Generated error string: IIIIIIIIIIIIIIXIIIIIIYII\n"
     ]
    }
   ],
   "source": [
    "import random\n",
    "\n",
    "def generate_pauli_error_string(num_qubits, error_rate):\n",
    "    \"\"\"\n",
    "    Generate a random Pauli error string based on error rate.\n",
    "    \n",
    "    Parameters\n",
    "    ----------\n",
    "    num_qubits : int\n",
    "        Number of qubits in the surface code.\n",
    "    error_rate : float\n",
    "        Physical error rate for generating errors.\n",
    "    \n",
    "    Returns\n",
    "    -------\n",
    "    str\n",
    "        A string representing the Pauli errors in the format \"XZXZ ...\"\n",
    "    \"\"\"\n",
    "    pauli_errors = ['I', 'X', 'Y', 'Z']\n",
    "    error_string = []\n",
    "    \n",
    "    for i in range(num_qubits):\n",
    "        # Choose a random Pauli error based on the error rate\n",
    "        if random.random() < error_rate:\n",
    "            error = np.random.choice(pauli_errors[1:], p=[1/3, 1/3, 1/3])  # X, Y, Z\n",
    "        else:\n",
    "            error = 'I'\n",
    "        \n",
    "        error_string.append(f'{error}')\n",
    "    \n",
    "    return ''.join(error_string)\n",
    "\n",
    "# Example usage\n",
    "num_qubits = 24\n",
    "error_rate = 0.1\n",
    "error_string = generate_pauli_error_string(num_qubits, error_rate)\n",
    "print(\"Generated error string:\", error_string)"
   ]
  },
  {
   "cell_type": "code",
   "execution_count": 4,
   "metadata": {},
   "outputs": [
    {
     "name": "stderr",
     "output_type": "stream",
     "text": [
      "100%|██████████| 10/10 [03:11<00:00, 19.20s/it]\n",
      "100%|██████████| 10/10 [01:21<00:00,  8.18s/it]\n",
      "100%|██████████| 10/10 [00:54<00:00,  5.44s/it]\n",
      "100%|██████████| 10/10 [00:40<00:00,  4.01s/it]\n"
     ]
    }
   ],
   "source": [
    "NUM_EXPERIMENTS = 10\n",
    "\n",
    "SEED = 123\n",
    "seed_seq = np.random.SeedSequence(SEED)\n",
    "\n",
    "NUM_BITS = 4\n",
    "max_bond_dims = [64, 32, 16, 8]\n",
    "error_rates = np.linspace(0.000001, 0.01, 10)\n",
    "failures_statistics = {}\n",
    "\n",
    "for CHI_MAX in max_bond_dims:\n",
    "    for PROB_ERROR in tqdm(error_rates):\n",
    "        failures = []\n",
    "\n",
    "        for l in range(NUM_EXPERIMENTS):\n",
    "            new_seed = seed_seq.spawn(1)[0]\n",
    "            rng = np.random.default_rng(new_seed)\n",
    "            random_integer = rng.integers(1, 10**8 + 1)\n",
    "            SEED = random_integer\n",
    "\n",
    "            CHECK_DEGREE, BIT_DEGREE = 4, 3\n",
    "            NUM_CHECKS = int(BIT_DEGREE * NUM_BITS / CHECK_DEGREE)\n",
    "            if NUM_BITS / NUM_CHECKS != CHECK_DEGREE / BIT_DEGREE:\n",
    "                raise ValueError(\"The Tanner graph of the code must be bipartite.\")\n",
    "            regular_code = qc.random_regular_code(\n",
    "                NUM_BITS, NUM_CHECKS, BIT_DEGREE, CHECK_DEGREE, qc.Rng(SEED)\n",
    "            )\n",
    "            hgp_code = qc.hypergraph_product(regular_code, regular_code)\n",
    "\n",
    "            #TODO add random seed!!\n",
    "            error = generate_pauli_error_string(len(hgp_code), PROB_ERROR)\n",
    "            error = pauli_to_mps(error)\n",
    "\n",
    "            _, success = decode_css(\n",
    "                code=hgp_code,\n",
    "                error=error,\n",
    "                chi_max=CHI_MAX,\n",
    "                bias_prob=PROB_ERROR,\n",
    "                renormalise=True,\n",
    "                silent=True,\n",
    "                contraction_strategy=\"Optimized\",\n",
    "            )\n",
    "\n",
    "            failures.append(1 - success)\n",
    "\n",
    "        failures_statistics[NUM_BITS, CHI_MAX, PROB_ERROR] = failures"
   ]
  },
  {
   "cell_type": "code",
   "execution_count": null,
   "metadata": {},
   "outputs": [],
   "source": []
  }
 ],
 "metadata": {
  "kernelspec": {
   "display_name": "mdopt-ZdbamFdU-py3.11",
   "language": "python",
   "name": "python3"
  },
  "language_info": {
   "codemirror_mode": {
    "name": "ipython",
    "version": 3
   },
   "file_extension": ".py",
   "mimetype": "text/x-python",
   "name": "python",
   "nbconvert_exporter": "python",
   "pygments_lexer": "ipython3",
   "version": "3.10.13"
  },
  "orig_nbformat": 4
 },
 "nbformat": 4,
 "nbformat_minor": 2
}

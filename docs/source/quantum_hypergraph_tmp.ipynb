{
 "cells": [
  {
   "cell_type": "code",
   "execution_count": 1,
   "id": "ee4f2588",
   "metadata": {},
   "outputs": [],
   "source": [
    "import sys\n",
    "\n",
    "sys.path.append(\"../\")\n",
    "sys.path.append(\"../..\")\n",
    "\n",
    "import numpy as np\n",
    "import qecstruct as qc\n",
    "import qecsim.paulitools as pt\n",
    "import matplotlib.pyplot as plt\n",
    "from matplotlib import colormaps\n",
    "from matplotlib.colors import LogNorm, Normalize\n",
    "from matplotlib.ticker import FuncFormatter, FormatStrFormatter\n",
    "from tqdm import tqdm\n",
    "from scipy.stats import sem\n",
    "\n",
    "from mdopt.mps.utils import create_custom_product_state\n",
    "from mdopt.contractor.contractor import mps_mpo_contract\n",
    "from mdopt.optimiser.utils import (\n",
    "    SWAP,\n",
    "    COPY_LEFT,\n",
    "    XOR_BULK,\n",
    "    XOR_LEFT,\n",
    "    XOR_RIGHT,\n",
    ")\n",
    "\n",
    "from examples.decoding.decoding import (\n",
    "    css_code_checks,\n",
    "    css_code_logicals,\n",
    "    css_code_logicals_sites,\n",
    "    css_code_constraint_sites,\n",
    "    apply_constraints,\n",
    "    apply_bitflip_bias,\n",
    "    apply_depolarising_bias,\n",
    "    decode_custom,\n",
    "    pauli_to_mps,\n",
    "    decode_css,\n",
    "    css_code_stabilisers,\n",
    "    multiply_pauli_strings,\n",
    "    map_distribution_to_pauli,\n",
    "    generate_pauli_error_string,\n",
    ")\n",
    "from examples.decoding.visualisation import plot_parity_check_mpo"
   ]
  },
  {
   "cell_type": "code",
   "execution_count": 2,
   "id": "de5d0945",
   "metadata": {},
   "outputs": [
    {
     "name": "stdout",
     "output_type": "stream",
     "text": [
      "Code parameters: (25, 1)\n",
      "Starting the decoding.\n",
      "The total number of sites: 76.\n",
      "Applying bitflip bias.\n",
      "Applying X logicals' constraints.\n"
     ]
    },
    {
     "name": "stderr",
     "output_type": "stream",
     "text": [
      "100%|██████████| 13/13 [00:00<00:00, 121.09it/s]"
     ]
    },
    {
     "name": "stdout",
     "output_type": "stream",
     "text": [
      "Applying Z logicals' constraints.\n"
     ]
    },
    {
     "name": "stderr",
     "output_type": "stream",
     "text": [
      "\n",
      "100%|██████████| 13/13 [00:00<00:00, 221.73it/s]"
     ]
    },
    {
     "name": "stdout",
     "output_type": "stream",
     "text": [
      "Applying the X checks' constraints.\n"
     ]
    },
    {
     "name": "stderr",
     "output_type": "stream",
     "text": [
      "\n",
      "100%|██████████| 12/12 [00:00<00:00, 203.01it/s]"
     ]
    },
    {
     "name": "stdout",
     "output_type": "stream",
     "text": [
      "Marginalising the error MPS.\n",
      "The number of logical sites: 26.\n",
      "Running the Dephasing DMRG engine.\n"
     ]
    },
    {
     "name": "stderr",
     "output_type": "stream",
     "text": [
      "\n",
      "100%|██████████| 1/1 [00:00<00:00, 11.73it/s]"
     ]
    },
    {
     "name": "stdout",
     "output_type": "stream",
     "text": [
      "Dephasing DMRG run completed with overlap: 0.000000\n",
      "Code parameters: (100, 4)\n",
      "Starting the decoding.\n",
      "The total number of sites: 208.\n",
      "Applying bitflip bias.\n",
      "Applying X logicals' constraints.\n"
     ]
    },
    {
     "name": "stderr",
     "output_type": "stream",
     "text": [
      "\n",
      "100%|██████████| 4/4 [00:00<00:00, 37.97it/s]"
     ]
    },
    {
     "name": "stdout",
     "output_type": "stream",
     "text": [
      "Applying Z logicals' constraints.\n"
     ]
    },
    {
     "name": "stderr",
     "output_type": "stream",
     "text": [
      "\n",
      "100%|██████████| 4/4 [00:00<00:00, 81.88it/s]"
     ]
    },
    {
     "name": "stdout",
     "output_type": "stream",
     "text": [
      "Applying the X checks' constraints.\n"
     ]
    },
    {
     "name": "stderr",
     "output_type": "stream",
     "text": [
      "\n",
      "100%|██████████| 48/48 [00:00<00:00, 54.00it/s]"
     ]
    },
    {
     "name": "stdout",
     "output_type": "stream",
     "text": [
      "Marginalising the error MPS.\n",
      "The number of logical sites: 8.\n",
      "Decoding completed with result: (array([0., 0., 0., 0., 0., 0., 0., 0., 0., 0., 0., 0., 0., 0., 0., 0., 0.,\n",
      "       0., 0., 0., 0., 0., 0., 0., 0., 0., 0., 0., 0., 0., 0., 0., 0., 0.,\n",
      "       0., 0., 0., 0., 0., 0., 0., 0., 0., 0., 0., 0., 0., 0., 0., 0., 0.,\n",
      "       0., 0., 0., 0., 0., 0., 0., 0., 0., 0., 0., 0., 0., 0., 0., 0., 0.,\n",
      "       0., 0., 0., 0., 0., 0., 0., 0., 0., 0., 0., 0., 0., 0., 0., 0., 0.,\n",
      "       0., 0., 0., 0., 0., 0., 0., 0., 0., 0., 0., 0., 0., 0., 0., 0., 0.,\n",
      "       0., 0., 0., 0., 0., 0., 0., 0., 0., 0., 0., 0., 0., 0., 0., 0., 0.,\n",
      "       0., 0., 0., 0., 0., 0., 0., 0., 0., 0., 0., 0., 0., 0., 0., 0., 0.,\n",
      "       0., 0., 0., 0., 0., 0., 0., 0., 0., 0., 0., 0., 0., 0., 0., 0., 0.,\n",
      "       0., 0., 0., 0., 0., 0., 0., 0., 0., 0., 0., 0., 0., 0., 0., 0., 0.,\n",
      "       0., 0., 0., 0., 0., 0., 0., 0., 0., 0., 0., 0., 0., 0., 0., 0., 0.,\n",
      "       0., 0., 0., 0., 0., 0., 0., 0., 0., 0., 0., 0., 0., 0., 0., 0., 0.,\n",
      "       0., 0., 0., 0., 0., 0., 0., 0., 0., 0., 0., 0., 0., 0., 0., 0., 0.,\n",
      "       0., 0., 0., 0., 0., 0., 0., 0., 0., 0., 0., 0., 0., 0., 0., 0., 0.,\n",
      "       0., 0., 0., 0., 0., 0., 0., 0., 0., 0., 0., 0., 0., 0., 0., 0., 0.,\n",
      "       0.]), 0)\n",
      "Code parameters: (400, 16)\n",
      "Starting the decoding.\n",
      "The total number of sites: 832.\n"
     ]
    },
    {
     "name": "stderr",
     "output_type": "stream",
     "text": [
      "\n"
     ]
    },
    {
     "name": "stdout",
     "output_type": "stream",
     "text": [
      "Applying bitflip bias.\n",
      "Applying X logicals' constraints.\n"
     ]
    },
    {
     "name": "stderr",
     "output_type": "stream",
     "text": [
      "100%|██████████| 16/16 [00:01<00:00, 12.63it/s]"
     ]
    },
    {
     "name": "stdout",
     "output_type": "stream",
     "text": [
      "Applying Z logicals' constraints.\n"
     ]
    },
    {
     "name": "stderr",
     "output_type": "stream",
     "text": [
      "\n",
      "100%|██████████| 16/16 [00:00<00:00, 27.60it/s]"
     ]
    },
    {
     "name": "stdout",
     "output_type": "stream",
     "text": [
      "Applying the X checks' constraints.\n"
     ]
    },
    {
     "name": "stderr",
     "output_type": "stream",
     "text": [
      "\n",
      "100%|██████████| 192/192 [00:16<00:00, 11.65it/s]"
     ]
    },
    {
     "name": "stdout",
     "output_type": "stream",
     "text": [
      "Marginalising the error MPS.\n",
      "The number of logical sites: 32.\n",
      "Running the Dephasing DMRG engine.\n"
     ]
    },
    {
     "name": "stderr",
     "output_type": "stream",
     "text": [
      "\n",
      "100%|██████████| 1/1 [00:00<00:00,  9.54it/s]"
     ]
    },
    {
     "name": "stdout",
     "output_type": "stream",
     "text": [
      "Dephasing DMRG run completed with overlap: 0.000000\n"
     ]
    },
    {
     "name": "stderr",
     "output_type": "stream",
     "text": [
      "\n"
     ]
    }
   ],
   "source": [
    "for NUM_BITS in [4, 8, 16]:\n",
    "    CHECK_DEGREE, BIT_DEGREE = 4, 3\n",
    "    NUM_CHECKS = int(NUM_BITS * BIT_DEGREE / CHECK_DEGREE)\n",
    "    if NUM_BITS / NUM_CHECKS != CHECK_DEGREE / BIT_DEGREE:\n",
    "        raise ValueError(\"The Tanner graph of the code must be bipartite.\")\n",
    "    SEED = 123\n",
    "    ERROR_RATE = 0.06\n",
    "    classical_code = qc.random_regular_code(NUM_BITS, NUM_CHECKS, BIT_DEGREE, CHECK_DEGREE, qc.Rng(SEED))\n",
    "    qhgp_code = qc.hypergraph_product(classical_code, classical_code)\n",
    "    CODE_PARAMETERS = (\n",
    "        len(css_code_stabilisers(qhgp_code)[0][0]),\n",
    "        len(css_code_stabilisers(qhgp_code)[0][0]) - qhgp_code.num_x_stabs() - qhgp_code.num_z_stabs(),\n",
    "    )\n",
    "    print(f\"Code parameters: {CODE_PARAMETERS}\")\n",
    "    seed_seq = np.random.SeedSequence(SEED)\n",
    "    rng = np.random.default_rng(seed_seq.spawn(1)[0])\n",
    "    error = generate_pauli_error_string(len(qhgp_code), ERROR_RATE, rng=rng, error_model=\"Bitflip\")\n",
    "    state, success = decode_css(\n",
    "                code=qhgp_code,\n",
    "                error=error,\n",
    "                chi_max=1,\n",
    "                multiply_by_stabiliser=False,\n",
    "                bias_type=\"Bitflip\",\n",
    "                bias_prob=0.1,\n",
    "                tolerance=1e-1,\n",
    "                cut=1e-1,\n",
    "                renormalise=True,\n",
    "                silent=False,\n",
    "                contraction_strategy=\"Optimised\",\n",
    "                optimiser=\"Dephasing DMRG\",\n",
    "                num_runs=1,\n",
    "            )\n"
   ]
  },
  {
   "cell_type": "code",
   "execution_count": 3,
   "id": "43c1f4b8",
   "metadata": {},
   "outputs": [],
   "source": [
    "import numpy as np\n",
    "from scipy.linalg import null_space, lstsq\n",
    "from tqdm import tqdm\n",
    "\n",
    "def compute_css_distance(css_code):\n",
    "    \"\"\"\n",
    "    Computes the distance of a CSS code given its X and Z parity check matrices\n",
    "    in sparse list-of-lists format.\n",
    "\n",
    "    Parameters\n",
    "    ----------\n",
    "    css_code : object\n",
    "        Must have parity check matrices accessible via `css_code_checks(css_code)`,\n",
    "        returning (Hx_rows, Hz_rows), each a list of lists of qubit indices.\n",
    "\n",
    "    Returns\n",
    "    -------\n",
    "    distance : int\n",
    "        The code distance (minimum weight of a nontrivial logical operator).\n",
    "    \"\"\"\n",
    "    Hx_rows, Hz_rows = css_code_checks(css_code)\n",
    "\n",
    "    # Correctly infer the number of physical qubits from check matrix support\n",
    "    all_indices = [i for row in Hx_rows + Hz_rows for i in row]\n",
    "    n_qubits = max(all_indices) + 1\n",
    "\n",
    "    def rows_to_matrix(rows):\n",
    "        mat = np.zeros((len(rows), n_qubits), dtype=np.uint8)\n",
    "        for i, row in enumerate(rows):\n",
    "            mat[i, row] = 1\n",
    "        return mat\n",
    "\n",
    "    def binary_nullspace(H):\n",
    "        H = H % 2\n",
    "        ns = null_space(H.astype(float))\n",
    "        ns_bin = (np.round(ns) % 2).astype(np.uint8).T\n",
    "        return ns_bin[np.any(ns_bin, axis=1)]\n",
    "\n",
    "    def min_logical_weight(null_basis, other_H):\n",
    "        min_wt = np.inf\n",
    "        for v in tqdm(null_basis):\n",
    "            res, _, _, _ = lstsq(other_H.T.astype(float), v.astype(float))\n",
    "            lhs = np.round(other_H.T @ res) % 2\n",
    "            if not np.allclose(lhs, v % 2, atol=1e-4):\n",
    "                wt = np.sum(v)\n",
    "                if 0 < wt < min_wt:\n",
    "                    min_wt = wt\n",
    "        return min_wt\n",
    "\n",
    "    Hx = rows_to_matrix(Hx_rows)\n",
    "    Hz = rows_to_matrix(Hz_rows)\n",
    "\n",
    "    Cx_perp = binary_nullspace(Hx)\n",
    "    Cz_perp = binary_nullspace(Hz)\n",
    "\n",
    "    dx = min_logical_weight(Cz_perp, Hx)\n",
    "    dz = min_logical_weight(Cx_perp, Hz)\n",
    "\n",
    "    return int(min(dx, dz))\n"
   ]
  },
  {
   "cell_type": "code",
   "execution_count": 4,
   "id": "a3d52fdf",
   "metadata": {},
   "outputs": [
    {
     "name": "stderr",
     "output_type": "stream",
     "text": [
      "100%|██████████| 533/533 [03:31<00:00,  2.52it/s]\n",
      "100%|██████████| 519/519 [03:22<00:00,  2.56it/s]\n"
     ]
    },
    {
     "data": {
      "text/plain": [
       "1"
      ]
     },
     "execution_count": 4,
     "metadata": {},
     "output_type": "execute_result"
    }
   ],
   "source": [
    "compute_css_distance(qhgp_code)"
   ]
  },
  {
   "cell_type": "code",
   "execution_count": null,
   "id": "0517e182",
   "metadata": {},
   "outputs": [],
   "source": []
  }
 ],
 "metadata": {
  "kernelspec": {
   "display_name": "mdopt-ZdbamFdU-py3.10",
   "language": "python",
   "name": "python3"
  },
  "language_info": {
   "codemirror_mode": {
    "name": "ipython",
    "version": 3
   },
   "file_extension": ".py",
   "mimetype": "text/x-python",
   "name": "python",
   "nbconvert_exporter": "python",
   "pygments_lexer": "ipython3",
   "version": "3.10.16"
  }
 },
 "nbformat": 4,
 "nbformat_minor": 5
}

{
 "cells": [
  {
   "cell_type": "markdown",
   "metadata": {},
   "source": [
    "# Decoding Surface Code"
   ]
  },
  {
   "attachments": {},
   "cell_type": "markdown",
   "metadata": {},
   "source": [
    "In this experiment, we’ll use ``mdopt`` to decode toric code. Hereafter, we assume an independent noise model as well as perfect syndrome measurements. In this example, we will mostly follow the procedure described in a similar [tutorial](https://pymatching.readthedocs.io/en/stable/toric-code-example.html) from PyMatching with the main difference being the use of ``mdopt`` for decoding."
   ]
  },
  {
   "cell_type": "code",
   "execution_count": 31,
   "metadata": {},
   "outputs": [],
   "source": [
    "import numpy as np\n",
    "from tqdm import tqdm\n",
    "import qecstruct as qc\n",
    "import qecsim.paulitools as pt\n",
    "import matplotlib.pyplot as plt\n",
    "from scipy.sparse import hstack, kron, eye, csc_matrix, block_diag\n",
    "\n",
    "from mdopt.mps.utils import marginalise, create_custom_product_state\n",
    "from mdopt.contractor.contractor import mps_mpo_contract\n",
    "from mdopt.optimiser.utils import (\n",
    "    SWAP,\n",
    "    COPY_LEFT,\n",
    "    XOR_BULK,\n",
    "    XOR_LEFT,\n",
    "    XOR_RIGHT,\n",
    ")\n",
    "from examples.decoding.decoding import (\n",
    "    apply_constraints,\n",
    "    apply_bitflip_bias,\n",
    ")\n",
    "from examples.decoding.decoding import (\n",
    "    pauli_to_mps,\n",
    "    toric_code_x_checks,\n",
    "    toric_code_x_logicals,\n",
    ")\n",
    "from examples.decoding.decoding import (\n",
    "    css_code_checks,\n",
    "    css_code_logicals,\n",
    "    css_code_logicals_sites,\n",
    "    css_code_constraint_sites,\n",
    ")"
   ]
  },
  {
   "cell_type": "code",
   "execution_count": 32,
   "metadata": {},
   "outputs": [],
   "source": [
    "code_x = qc.hypergraph_product(rep_code, rep_code) # H_x, CSS code"
   ]
  },
  {
   "cell_type": "code",
   "execution_count": 33,
   "metadata": {},
   "outputs": [
    {
     "data": {
      "text/plain": [
       "[0, 1, 16]\n",
       "[1, 2, 17]\n",
       "[2, 3, 18]\n",
       "[4, 5, 16, 19]\n",
       "[5, 6, 17, 20]\n",
       "[6, 7, 18, 21]\n",
       "[8, 9, 19, 22]\n",
       "[9, 10, 20, 23]\n",
       "[10, 11, 21, 24]\n",
       "[12, 13, 22]\n",
       "[13, 14, 23]\n",
       "[14, 15, 24]"
      ]
     },
     "execution_count": 33,
     "metadata": {},
     "output_type": "execute_result"
    }
   ],
   "source": [
    "code_x.x_stabs_binary()"
   ]
  },
  {
   "cell_type": "code",
   "execution_count": 34,
   "metadata": {},
   "outputs": [
    {
     "data": {
      "text/plain": [
       "[3, 7, 11, 15]"
      ]
     },
     "execution_count": 34,
     "metadata": {},
     "output_type": "execute_result"
    }
   ],
   "source": [
    "code_x.x_logicals_binary()"
   ]
  },
  {
   "cell_type": "code",
   "execution_count": 35,
   "metadata": {},
   "outputs": [],
   "source": [
    "SEED = 123\n",
    "\n",
    "LATTICE_SIZE = 4\n",
    "\n",
    "rep_code = qc.repetition_code(LATTICE_SIZE)\n",
    "hgp_code = qc.hypergraph_product(rep_code, rep_code)\n",
    "\n",
    "# parity check matrix from qecsim -> qecstruct linear code -> qecstruct css code -> same machinery as in shor\n",
    "\n",
    "#num_sites = 2 * toric_code.length() + toric_code.num_x_logicals() + toric_code.num_z_logicals()\n",
    "#num_logicals = toric_code.num_x_logicals() + toric_code.num_z_logicals()"
   ]
  },
  {
   "cell_type": "code",
   "execution_count": 36,
   "metadata": {},
   "outputs": [
    {
     "data": {
      "text/plain": [
       "X stabilizers:\n",
       "[0, 1, 16]\n",
       "[1, 2, 17]\n",
       "[2, 3, 18]\n",
       "[4, 5, 16, 19]\n",
       "[5, 6, 17, 20]\n",
       "[6, 7, 18, 21]\n",
       "[8, 9, 19, 22]\n",
       "[9, 10, 20, 23]\n",
       "[10, 11, 21, 24]\n",
       "[12, 13, 22]\n",
       "[13, 14, 23]\n",
       "[14, 15, 24]\n",
       "Z stabilizers:\n",
       "[0, 4, 16]\n",
       "[1, 5, 16, 17]\n",
       "[2, 6, 17, 18]\n",
       "[3, 7, 18]\n",
       "[4, 8, 19]\n",
       "[5, 9, 19, 20]\n",
       "[6, 10, 20, 21]\n",
       "[7, 11, 21]\n",
       "[8, 12, 22]\n",
       "[9, 13, 22, 23]\n",
       "[10, 14, 23, 24]\n",
       "[11, 15, 24]"
      ]
     },
     "execution_count": 36,
     "metadata": {},
     "output_type": "execute_result"
    }
   ],
   "source": [
    "hgp_code"
   ]
  },
  {
   "cell_type": "code",
   "execution_count": 37,
   "metadata": {},
   "outputs": [],
   "source": [
    "def create_surface_code_matrices_dense(L):\n",
    "    # Number of qubits\n",
    "    num_qubits = 2 * L * (L - 1)\n",
    "\n",
    "    # Initialize dense matrices for H_x and H_z\n",
    "    H_x = np.zeros((L * (L - 1), num_qubits), dtype=int)\n",
    "    H_z = np.zeros((L * (L - 1), num_qubits), dtype=int)\n",
    "\n",
    "    # Define H_z (star checks)\n",
    "    for y in range(L - 1):\n",
    "        for x in range(L - 1):\n",
    "            # Each vertex affects the qubits right and down\n",
    "            right = y * L + x  # Right horizontal edge\n",
    "            down = L * (L - 1) + y * (L - 1) + x  # Down vertical edge\n",
    "            row_idx = y * (L - 1) + x\n",
    "            H_z[row_idx, right] = 1\n",
    "            H_z[row_idx, down] = 1\n",
    "\n",
    "    # Define H_x (plaquette checks)\n",
    "    for y in range(L - 1):\n",
    "        for x in range(L - 1):\n",
    "            # Each plaquette affects four qubits: top, left, bottom, right\n",
    "            top = y * L + x  # Top horizontal edge\n",
    "            left = L * (L - 1) + y * (L - 1) + x  # Left vertical edge\n",
    "            bottom = top + L  # Bottom horizontal edge\n",
    "            right = left + 1  # Right vertical edge\n",
    "            row_idx = y * (L - 1) + x\n",
    "            H_x[row_idx, top] = 1\n",
    "            H_x[row_idx, left] = 1\n",
    "            H_x[row_idx, bottom] = 1\n",
    "            H_x[row_idx, right] = 1\n",
    "\n",
    "    return H_x, H_z\n",
    "\n",
    "L = 4\n",
    "H_x_dense, H_z_dense = create_surface_code_matrices_dense(L)"
   ]
  },
  {
   "cell_type": "code",
   "execution_count": 38,
   "metadata": {},
   "outputs": [],
   "source": [
    "def create_surface_code_matrices_binary(L):\n",
    "    # Number of qubits\n",
    "    num_qubits = 2 * L * (L - 1)\n",
    "\n",
    "    # Lists to store the row data for H_x and H_z\n",
    "    rows_H_x = []\n",
    "    rows_H_z = []\n",
    "\n",
    "    # Define H_z (star checks)\n",
    "    for y in range(L - 1):\n",
    "        for x in range(L - 1):\n",
    "            # Each vertex affects the qubits right and down\n",
    "            right = y * L + x  # Right horizontal edge\n",
    "            down = L * (L - 1) + y * (L - 1) + x  # Down vertical edge\n",
    "            # Ensure the indices are sorted\n",
    "            rows_H_z.append(sorted([right, down]))\n",
    "\n",
    "    # Define H_x (plaquette checks)\n",
    "    for y in range(L - 1):\n",
    "        for x in range(L - 1):\n",
    "            # Each plaquette affects four qubits: top, left, bottom, right\n",
    "            top = y * L + x  # Top horizontal edge\n",
    "            left = L * (L - 1) + y * (L - 1) + x  # Left vertical edge\n",
    "            bottom = top + L  # Bottom horizontal edge\n",
    "            right = left + 1  # Right vertical edge\n",
    "            # Ensure the indices are sorted\n",
    "            rows_H_x.append(sorted([top, left, bottom, right]))\n",
    "\n",
    "    # Create BinaryMatrix instances\n",
    "    H_x = qc.BinaryMatrix(num_columns=num_qubits, rows=rows_H_x)\n",
    "    H_z = qc.BinaryMatrix(num_columns=num_qubits, rows=rows_H_z)\n",
    "\n",
    "    return H_x, H_z\n",
    "\n",
    "H_x, H_z = create_surface_code_matrices_binary(L)"
   ]
  },
  {
   "cell_type": "code",
   "execution_count": 39,
   "metadata": {},
   "outputs": [],
   "source": [
    "x_code = qc.LinearCode(H_x)\n",
    "z_code = qc.LinearCode(H_z)\n",
    "from examples.decoding.decoding import linear_code_parity_matrix_dense"
   ]
  },
  {
   "cell_type": "code",
   "execution_count": 40,
   "metadata": {},
   "outputs": [
    {
     "name": "stdout",
     "output_type": "stream",
     "text": [
      "Non-orthogonal row pairs (H_x row index, H_z row index): (array([0, 0, 1, 1, 2, 2, 3, 3, 4, 4, 5, 5, 6, 6, 7, 7, 8]), array([1, 3, 2, 4, 3, 5, 4, 6, 5, 7, 6, 8, 0, 7, 1, 8, 2]))\n"
     ]
    }
   ],
   "source": [
    "def check_orthogonality(dense_H_x, dense_H_z):\n",
    "    \n",
    "    # Calculate the dot product and check for orthogonality\n",
    "    result = np.dot(dense_H_x, dense_H_z.T) % 2\n",
    "    non_orthogonal_pairs = np.where(result != 0)\n",
    "    if non_orthogonal_pairs[0].size > 0:\n",
    "        return False, non_orthogonal_pairs\n",
    "    return True, None\n",
    "\n",
    "# Perform the check\n",
    "orthogonal, non_orthogonal_pairs = check_orthogonality(H_x_dense, H_z_dense)\n",
    "if not orthogonal:\n",
    "    print(\"Non-orthogonal row pairs (H_x row index, H_z row index):\", non_orthogonal_pairs)\n",
    "else:\n",
    "    print(\"The codes are orthogonal.\")\n"
   ]
  },
  {
   "cell_type": "code",
   "execution_count": 41,
   "metadata": {},
   "outputs": [
    {
     "ename": "ValueError",
     "evalue": "codes are not orthogonal",
     "output_type": "error",
     "traceback": [
      "\u001b[0;31m---------------------------------------------------------------------------\u001b[0m",
      "\u001b[0;31mValueError\u001b[0m                                Traceback (most recent call last)",
      "Cell \u001b[0;32mIn[41], line 1\u001b[0m\n\u001b[0;32m----> 1\u001b[0m surface_code \u001b[38;5;241m=\u001b[39m \u001b[43mqc\u001b[49m\u001b[38;5;241;43m.\u001b[39;49m\u001b[43mCssCode\u001b[49m\u001b[43m(\u001b[49m\n\u001b[1;32m      2\u001b[0m \u001b[43m    \u001b[49m\u001b[43mx_code\u001b[49m\u001b[38;5;241;43m=\u001b[39;49m\u001b[43mx_code\u001b[49m\u001b[43m,\u001b[49m\n\u001b[1;32m      3\u001b[0m \u001b[43m    \u001b[49m\u001b[43mz_code\u001b[49m\u001b[38;5;241;43m=\u001b[39;49m\u001b[43mz_code\u001b[49m\u001b[43m,\u001b[49m\n\u001b[1;32m      4\u001b[0m \u001b[43m)\u001b[49m\n\u001b[1;32m      6\u001b[0m \u001b[38;5;28mprint\u001b[39m(\u001b[38;5;28mlen\u001b[39m(surface_code))\n",
      "\u001b[0;31mValueError\u001b[0m: codes are not orthogonal"
     ]
    }
   ],
   "source": [
    "surface_code = qc.CssCode(\n",
    "    x_code=x_code,\n",
    "    z_code=z_code,\n",
    ")\n",
    "\n",
    "print(len(surface_code))"
   ]
  },
  {
   "cell_type": "code",
   "execution_count": null,
   "metadata": {},
   "outputs": [],
   "source": [
    "lattice_size = 4\n",
    "num_logicals = 2\n",
    "num_sites = 2 * (lattice_size ** 2) + num_logicals\n",
    "num_sites"
   ]
  },
  {
   "cell_type": "code",
   "execution_count": null,
   "metadata": {},
   "outputs": [],
   "source": []
  },
  {
   "cell_type": "code",
   "execution_count": null,
   "metadata": {},
   "outputs": [
    {
     "data": {
      "text/plain": [
       "[[0, 4, 16, 19],\n",
       " [1, 5, 16, 17],\n",
       " [2, 6, 17, 18],\n",
       " [3, 7, 18, 19],\n",
       " [4, 8, 20, 23],\n",
       " [5, 9, 20, 21],\n",
       " [6, 10, 21, 22],\n",
       " [7, 11, 22, 23],\n",
       " [8, 12, 24, 27],\n",
       " [9, 13, 24, 25],\n",
       " [10, 14, 25, 26],\n",
       " [11, 15, 26, 27],\n",
       " [0, 12, 28, 31],\n",
       " [1, 13, 28, 29],\n",
       " [2, 14, 29, 30],\n",
       " [3, 15, 30, 31]]"
      ]
     },
     "execution_count": 5,
     "metadata": {},
     "output_type": "execute_result"
    }
   ],
   "source": [
    "toric_code_x_checks(lattice_size=LATTICE_SIZE)"
   ]
  },
  {
   "cell_type": "code",
   "execution_count": null,
   "metadata": {},
   "outputs": [
    {
     "data": {
      "text/plain": [
       "[[0, 1, 2, 3], [16, 20, 24, 28]]"
      ]
     },
     "execution_count": 6,
     "metadata": {},
     "output_type": "execute_result"
    }
   ],
   "source": [
    "toric_code_x_logicals(lattice_size=LATTICE_SIZE)"
   ]
  },
  {
   "cell_type": "code",
   "execution_count": null,
   "metadata": {},
   "outputs": [],
   "source": []
  },
  {
   "cell_type": "code",
   "execution_count": null,
   "metadata": {},
   "outputs": [],
   "source": []
  },
  {
   "cell_type": "code",
   "execution_count": null,
   "metadata": {},
   "outputs": [],
   "source": []
  },
  {
   "cell_type": "code",
   "execution_count": 42,
   "metadata": {},
   "outputs": [
    {
     "data": {
      "text/plain": [
       "X stabilizers:\n",
       "[0, 1, 16]\n",
       "[1, 2, 17]\n",
       "[2, 3, 18]\n",
       "[4, 5, 16, 19]\n",
       "[5, 6, 17, 20]\n",
       "[6, 7, 18, 21]\n",
       "[8, 9, 19, 22]\n",
       "[9, 10, 20, 23]\n",
       "[10, 11, 21, 24]\n",
       "[12, 13, 22]\n",
       "[13, 14, 23]\n",
       "[14, 15, 24]\n",
       "Z stabilizers:\n",
       "[0, 4, 16]\n",
       "[1, 5, 16, 17]\n",
       "[2, 6, 17, 18]\n",
       "[3, 7, 18]\n",
       "[4, 8, 19]\n",
       "[5, 9, 19, 20]\n",
       "[6, 10, 20, 21]\n",
       "[7, 11, 21]\n",
       "[8, 12, 22]\n",
       "[9, 13, 22, 23]\n",
       "[10, 14, 23, 24]\n",
       "[11, 15, 24]"
      ]
     },
     "execution_count": 42,
     "metadata": {},
     "output_type": "execute_result"
    }
   ],
   "source": [
    "SEED = 123\n",
    "LATTICE_SIZE = 4\n",
    "rep_code = qc.repetition_code(LATTICE_SIZE)\n",
    "code = qc.hypergraph_product(rep_code, rep_code)\n",
    "code"
   ]
  },
  {
   "cell_type": "code",
   "execution_count": 43,
   "metadata": {},
   "outputs": [],
   "source": [
    "num_logicals = code.num_x_logicals() + code.num_z_logicals()\n",
    "num_sites = 2 * len(code) + num_logicals"
   ]
  },
  {
   "cell_type": "code",
   "execution_count": 44,
   "metadata": {},
   "outputs": [],
   "source": [
    "error_state = \"0\" * (num_sites - num_logicals)\n",
    "logicals_state = \"+\" * num_logicals\n",
    "state_string = logicals_state + error_state\n",
    "error_mps = create_custom_product_state(string=state_string)"
   ]
  },
  {
   "cell_type": "code",
   "execution_count": 45,
   "metadata": {},
   "outputs": [
    {
     "name": "stdout",
     "output_type": "stream",
     "text": [
      "X checks:\n",
      "[2, 4, 34]\n",
      "[4, 6, 36]\n",
      "[6, 8, 38]\n",
      "[10, 12, 34, 40]\n",
      "[12, 14, 36, 42]\n",
      "[14, 16, 38, 44]\n",
      "[18, 20, 40, 46]\n",
      "[20, 22, 42, 48]\n",
      "[22, 24, 44, 50]\n",
      "[26, 28, 46]\n",
      "[28, 30, 48]\n",
      "[30, 32, 50]\n",
      "Z checks:\n",
      "[3, 11, 35]\n",
      "[5, 13, 35, 37]\n",
      "[7, 15, 37, 39]\n",
      "[9, 17, 39]\n",
      "[11, 19, 41]\n",
      "[13, 21, 41, 43]\n",
      "[15, 23, 43, 45]\n",
      "[17, 25, 45]\n",
      "[19, 27, 47]\n",
      "[21, 29, 47, 49]\n",
      "[23, 31, 49, 51]\n",
      "[25, 33, 51]\n"
     ]
    }
   ],
   "source": [
    "checks_x, checks_z = css_code_checks(code)\n",
    "print(\"X checks:\")\n",
    "for check in checks_x:\n",
    "    print(check)\n",
    "print(\"Z checks:\")\n",
    "for check in checks_z:\n",
    "    print(check)"
   ]
  },
  {
   "cell_type": "code",
   "execution_count": 46,
   "metadata": {},
   "outputs": [],
   "source": [
    "constraints_tensors = [XOR_LEFT, XOR_BULK, SWAP, XOR_RIGHT]\n",
    "logicals_tensors = [COPY_LEFT, XOR_BULK, SWAP, XOR_RIGHT]"
   ]
  },
  {
   "cell_type": "code",
   "execution_count": 47,
   "metadata": {},
   "outputs": [
    {
     "name": "stdout",
     "output_type": "stream",
     "text": [
      "Full X-check lists of sites:\n",
      "[[2], [4], [3, 5, 6, 7, 8, 9, 10, 11, 12, 13, 14, 15, 16, 17, 18, 19, 20, 21, 22, 23, 24, 25, 26, 27, 28, 29, 30, 31, 32, 33], [34]]\n",
      "[[4], [6], [5, 7, 8, 9, 10, 11, 12, 13, 14, 15, 16, 17, 18, 19, 20, 21, 22, 23, 24, 25, 26, 27, 28, 29, 30, 31, 32, 33, 34, 35], [36]]\n",
      "[[6], [8], [7, 9, 10, 11, 12, 13, 14, 15, 16, 17, 18, 19, 20, 21, 22, 23, 24, 25, 26, 27, 28, 29, 30, 31, 32, 33, 34, 35, 36, 37], [38]]\n",
      "[[10], [12, 34], [11, 13, 14, 15, 16, 17, 18, 19, 20, 21, 22, 23, 24, 25, 26, 27, 28, 29, 30, 31, 32, 33, 35, 36, 37, 38, 39], [40]]\n",
      "[[12], [14, 36], [13, 15, 16, 17, 18, 19, 20, 21, 22, 23, 24, 25, 26, 27, 28, 29, 30, 31, 32, 33, 34, 35, 37, 38, 39, 40, 41], [42]]\n",
      "[[14], [16, 38], [15, 17, 18, 19, 20, 21, 22, 23, 24, 25, 26, 27, 28, 29, 30, 31, 32, 33, 34, 35, 36, 37, 39, 40, 41, 42, 43], [44]]\n",
      "[[18], [20, 40], [19, 21, 22, 23, 24, 25, 26, 27, 28, 29, 30, 31, 32, 33, 34, 35, 36, 37, 38, 39, 41, 42, 43, 44, 45], [46]]\n",
      "[[20], [22, 42], [21, 23, 24, 25, 26, 27, 28, 29, 30, 31, 32, 33, 34, 35, 36, 37, 38, 39, 40, 41, 43, 44, 45, 46, 47], [48]]\n",
      "[[22], [24, 44], [23, 25, 26, 27, 28, 29, 30, 31, 32, 33, 34, 35, 36, 37, 38, 39, 40, 41, 42, 43, 45, 46, 47, 48, 49], [50]]\n",
      "[[26], [28], [27, 29, 30, 31, 32, 33, 34, 35, 36, 37, 38, 39, 40, 41, 42, 43, 44, 45], [46]]\n",
      "[[28], [30], [29, 31, 32, 33, 34, 35, 36, 37, 38, 39, 40, 41, 42, 43, 44, 45, 46, 47], [48]]\n",
      "[[30], [32], [31, 33, 34, 35, 36, 37, 38, 39, 40, 41, 42, 43, 44, 45, 46, 47, 48, 49], [50]]\n",
      "Full Z-check lists of sites:\n",
      "[[3], [11], [4, 5, 6, 7, 8, 9, 10, 12, 13, 14, 15, 16, 17, 18, 19, 20, 21, 22, 23, 24, 25, 26, 27, 28, 29, 30, 31, 32, 33, 34], [35]]\n",
      "[[5], [13, 35], [6, 7, 8, 9, 10, 11, 12, 14, 15, 16, 17, 18, 19, 20, 21, 22, 23, 24, 25, 26, 27, 28, 29, 30, 31, 32, 33, 34, 36], [37]]\n",
      "[[7], [15, 37], [8, 9, 10, 11, 12, 13, 14, 16, 17, 18, 19, 20, 21, 22, 23, 24, 25, 26, 27, 28, 29, 30, 31, 32, 33, 34, 35, 36, 38], [39]]\n",
      "[[9], [17], [10, 11, 12, 13, 14, 15, 16, 18, 19, 20, 21, 22, 23, 24, 25, 26, 27, 28, 29, 30, 31, 32, 33, 34, 35, 36, 37, 38], [39]]\n",
      "[[11], [19], [12, 13, 14, 15, 16, 17, 18, 20, 21, 22, 23, 24, 25, 26, 27, 28, 29, 30, 31, 32, 33, 34, 35, 36, 37, 38, 39, 40], [41]]\n",
      "[[13], [21, 41], [14, 15, 16, 17, 18, 19, 20, 22, 23, 24, 25, 26, 27, 28, 29, 30, 31, 32, 33, 34, 35, 36, 37, 38, 39, 40, 42], [43]]\n",
      "[[15], [23, 43], [16, 17, 18, 19, 20, 21, 22, 24, 25, 26, 27, 28, 29, 30, 31, 32, 33, 34, 35, 36, 37, 38, 39, 40, 41, 42, 44], [45]]\n",
      "[[17], [25], [18, 19, 20, 21, 22, 23, 24, 26, 27, 28, 29, 30, 31, 32, 33, 34, 35, 36, 37, 38, 39, 40, 41, 42, 43, 44], [45]]\n",
      "[[19], [27], [20, 21, 22, 23, 24, 25, 26, 28, 29, 30, 31, 32, 33, 34, 35, 36, 37, 38, 39, 40, 41, 42, 43, 44, 45, 46], [47]]\n",
      "[[21], [29, 47], [22, 23, 24, 25, 26, 27, 28, 30, 31, 32, 33, 34, 35, 36, 37, 38, 39, 40, 41, 42, 43, 44, 45, 46, 48], [49]]\n",
      "[[23], [31, 49], [24, 25, 26, 27, 28, 29, 30, 32, 33, 34, 35, 36, 37, 38, 39, 40, 41, 42, 43, 44, 45, 46, 47, 48, 50], [51]]\n",
      "[[25], [33], [26, 27, 28, 29, 30, 31, 32, 34, 35, 36, 37, 38, 39, 40, 41, 42, 43, 44, 45, 46, 47, 48, 49, 50], [51]]\n"
     ]
    }
   ],
   "source": [
    "constraints_sites = css_code_constraint_sites(code)\n",
    "print(\"Full X-check lists of sites:\")\n",
    "for string in constraints_sites[0]:\n",
    "    print(string)\n",
    "print(\"Full Z-check lists of sites:\")\n",
    "for string in constraints_sites[1]:\n",
    "    print(string)"
   ]
  },
  {
   "cell_type": "code",
   "execution_count": 48,
   "metadata": {},
   "outputs": [
    {
     "name": "stdout",
     "output_type": "stream",
     "text": [
      "[3, 7, 11, 15]\n",
      "\n",
      "[4, 5, 6, 7]\n",
      "\n"
     ]
    }
   ],
   "source": [
    "print(code.x_logicals_binary())\n",
    "print(code.z_logicals_binary())"
   ]
  },
  {
   "cell_type": "code",
   "execution_count": 49,
   "metadata": {},
   "outputs": [
    {
     "name": "stdout",
     "output_type": "stream",
     "text": [
      "[[0], [8, 16, 24], [1, 2, 3, 4, 5, 6, 7, 9, 10, 11, 12, 13, 14, 15, 17, 18, 19, 20, 21, 22, 23, 25, 26, 27, 28, 29, 30, 31], [32]]\n",
      "[[1], [11, 13, 15], [2, 3, 4, 5, 6, 7, 8, 9, 10, 12, 14, 16], [17]]\n"
     ]
    }
   ],
   "source": [
    "logicals_sites = css_code_logicals_sites(code)\n",
    "print(css_code_logicals_sites(code)[0])\n",
    "print(css_code_logicals_sites(code)[1])"
   ]
  },
  {
   "cell_type": "code",
   "execution_count": 50,
   "metadata": {},
   "outputs": [],
   "source": [
    "renormalise = True\n",
    "result_to_explicit = False\n",
    "sites_to_bias = list(range(num_logicals, num_sites))\n",
    "error_mps = apply_bitflip_bias(\n",
    "    mps=error_mps,\n",
    "    sites_to_bias=sites_to_bias,\n",
    "    renormalise=renormalise,\n",
    ")"
   ]
  },
  {
   "cell_type": "code",
   "execution_count": 51,
   "metadata": {},
   "outputs": [
    {
     "name": "stderr",
     "output_type": "stream",
     "text": [
      "100%|██████████| 12/12 [01:14<00:00,  6.19s/it]\n"
     ]
    }
   ],
   "source": [
    "error_mps = apply_constraints(\n",
    "    error_mps,\n",
    "    constraints_sites[0],\n",
    "    constraints_tensors,\n",
    "    chi_max=1024,\n",
    "    renormalise=renormalise,\n",
    "    result_to_explicit=result_to_explicit,\n",
    "    strategy=\"Optimized\",\n",
    ")"
   ]
  },
  {
   "cell_type": "code",
   "execution_count": 52,
   "metadata": {},
   "outputs": [
    {
     "name": "stderr",
     "output_type": "stream",
     "text": [
      "100%|██████████| 12/12 [29:39<00:00, 148.29s/it]\n"
     ]
    }
   ],
   "source": [
    "error_mps = apply_constraints(\n",
    "    error_mps,\n",
    "    constraints_sites[1],\n",
    "    constraints_tensors,\n",
    "    chi_max=1024,\n",
    "    renormalise=renormalise,\n",
    "    result_to_explicit=result_to_explicit,\n",
    "    strategy=\"Optimized\",\n",
    ")"
   ]
  },
  {
   "cell_type": "code",
   "execution_count": 53,
   "metadata": {},
   "outputs": [
    {
     "name": "stderr",
     "output_type": "stream",
     "text": [
      "100%|██████████| 2/2 [03:17<00:00, 98.82s/it] \n"
     ]
    }
   ],
   "source": [
    "error_mps = apply_constraints(\n",
    "    error_mps,\n",
    "    logicals_sites,\n",
    "    logicals_tensors,\n",
    "    chi_max=1024,\n",
    "    renormalise=renormalise,\n",
    "    result_to_explicit=result_to_explicit,\n",
    "    strategy=\"Optimized\",\n",
    ")"
   ]
  },
  {
   "cell_type": "code",
   "execution_count": 55,
   "metadata": {},
   "outputs": [
    {
     "name": "stdout",
     "output_type": "stream",
     "text": [
      "[0.83427324 0.1071154  0.0550003  0.00361105]\n"
     ]
    }
   ],
   "source": [
    "sites_to_marginalise = list(range(num_logicals, len(error_state) + num_logicals))\n",
    "logical = marginalise(mps=error_mps, sites_to_marginalise=sites_to_marginalise).dense(\n",
    "    flatten=True, renormalise=True, norm=1\n",
    ")\n",
    "print(logical)"
   ]
  },
  {
   "cell_type": "code",
   "execution_count": null,
   "metadata": {},
   "outputs": [],
   "source": []
  }
 ],
 "metadata": {
  "kernelspec": {
   "display_name": "mdopt-ZdbamFdU-py3.11",
   "language": "python",
   "name": "python3"
  },
  "language_info": {
   "codemirror_mode": {
    "name": "ipython",
    "version": 3
   },
   "file_extension": ".py",
   "mimetype": "text/x-python",
   "name": "python",
   "nbconvert_exporter": "python",
   "pygments_lexer": "ipython3",
   "version": "3.10.13"
  },
  "orig_nbformat": 4,
  "vscode": {
   "interpreter": {
    "hash": "64c06a7280c9749d5771a76ca6109d7df6b2615ddb3b9b0828f83fb315c7f8a2"
   }
  }
 },
 "nbformat": 4,
 "nbformat_minor": 2
}
